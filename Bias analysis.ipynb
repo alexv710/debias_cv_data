{
 "cells": [
  {
   "cell_type": "code",
   "execution_count": 1,
   "metadata": {},
   "outputs": [],
   "source": [
    "import numpy as np\n",
    "import pandas as pd \n",
    "import matplotlib.pyplot as plt\n",
    "%matplotlib inline"
   ]
  },
  {
   "cell_type": "markdown",
   "metadata": {},
   "source": [
    "# Data Preprocessing"
   ]
  },
  {
   "cell_type": "code",
   "execution_count": 33,
   "metadata": {},
   "outputs": [],
   "source": [
    "# apply the min-max scaling in Pandas using the .min() and .max() methods\n",
    "def min_max_scaling(df):\n",
    "    # copy the dataframe\n",
    "    df_norm = df.copy()\n",
    "    # apply min-max scaling\n",
    "    for column in df_norm.columns:\n",
    "        df_norm[column] = (df_norm[column] - df_norm[column].min()) / (df_norm[column].max() - df_norm[column].min())\n",
    "        \n",
    "    return df_norm\n",
    "\n",
    "# read the mainsample.dta file for further processing \n",
    "\n",
    "data = pd.io.stata.read_stata(\"data_candidates_mainsample.dta\")\n",
    "data.to_csv('data_candidates_mainsample.csv')\n",
    "\n",
    "# Import the mainsample via StataReader to use variable_labels (old version of the read_stata)\n",
    "\n",
    "data_stata = pd.io.stata.StataReader(\"data_candidates_mainsample.dta\")\n",
    "data_labels = data_stata.variable_labels()\n",
    "\n",
    "# Remove all columns in the dataset for which no labels exist\n",
    "# Those are mostly columns needed for p-tests and some matrix calculations in\n",
    "# Stata. The outputted labels are those that are kept in the data\n",
    "\n",
    "data = data.drop(columns=['CVAxORIGINE_IM_12', 'CVAxZUS_CUCS', 'CVAxZetI', 'C', 'CVA0',\\\n",
    "                          'p_offre1', 'control_manquant', 'ZouI_pred', 'ZouI0', 'ALE_16'])\n",
    "\n",
    "# Remove sampling weights (within and out of the experiment)\n",
    "\n",
    "data = data.drop(columns='POIDS_SEL')\n",
    "\n",
    "# Remove all the centered features\n",
    "\n",
    "data = data.drop(columns=['FEMME_c', 'a30m_c', 'a3049_c', 'a50p_c', 'dip_aucun_c',\\\n",
    "                          'dip_bepcap_c', 'dip_bac_c', 'dip_bac2p_c', 'recherche_LD_c', 'recherche_TLD_c'])\n",
    "\n",
    "# Remove all features that are not directly derivable from the CVs or that have missing data\n",
    "\n",
    "data = data.drop(columns=['RECRUTE', 'REFUSAL', 'codage_cv', 'ORIGINE_IM_1', 'ORIGINE_IM_2',\\\n",
    "                          'ORIGINE_IM_12', 'ID_OFFRE', 'ID_CANDIDAT', 'travail_etranger', 'duree_expro_offre'])\n",
    "\n",
    "# Remove additional features that seem to bring no value or are unclear in the methodology according to the original paper\n",
    "\n",
    "data = data.drop(columns=['CV_hesit_', 'CV_hesit', 'CV_note_7p', 'ZetI', 'permis', 'CV_attrayant_'])\n",
    "\n",
    "# Remove CV coding feature: CV_qualif -> adequate skills \n",
    "\n",
    "#data = data.drop(columns=['CV_qualif'])\n",
    "\n",
    "for key, value in data_labels.items():\n",
    "    for col in data.columns:\n",
    "        if key==col:\n",
    "            # print(key, ':    ', value)\n",
    "            if len(value)==0 or value.startswith('ID_OFFRE==') or value.startswith('Dummy for local job center'):\n",
    "                data = data.drop(columns=col)\n",
    "\n",
    "data['CV_qualif_sup'] = data['CV_qualif_sup'].fillna(0)\n",
    "data['CV_qualif_inf'] = data['CV_qualif_inf'].fillna(0)\n",
    "data['PREN_MUSULMAN'] = data['PREN_MUSULMAN'].fillna(0)\n",
    "data['ZUS_CUCS'] = data['ZUS_CUCS'].fillna(0)\n",
    "data['recherche_TLD'] = data['recherche_TLD'].fillna(0)\n",
    "\n",
    "data['etudes_etranger'] = data['etudes_etranger'].fillna(0)\n",
    "data['langue_anglais'] = data['langue_anglais'].fillna(0)\n",
    "data['langue_arabe'] = data['langue_arabe'].fillna(0)\n",
    "data['langue_autres'] = data['langue_autres'].fillna(0)\n",
    "data['CV_formation_'] = data['CV_formation_'].fillna(0)\n",
    "\n",
    "# derived from CV_experience_3p\n",
    "\n",
    "data['CV_experience_'] = data['CV_experience_'].fillna(0.5)\n",
    "\n",
    "# fill with 1 since missing records are not in the other age groups\n",
    "\n",
    "data['a26m'] = data['a26m'].fillna(1)\n",
    "\n",
    "# Assign medium grade for all unknown records\n",
    "data['CV_note_2'] = data['CV_note_2'].fillna(0)\n",
    "data['CV_note_3'] = data['CV_note_3'].fillna(1)\n",
    "data['CV_note_4'] = data['CV_note_4'].fillna(0)\n",
    "data['CV_note_5'] = data['CV_note_5'].fillna(0)\n",
    "        \n",
    "# Normalize remaining columns to values between 0 and 1\n",
    "# call the min_max_scaling function\n",
    "\n",
    "data = min_max_scaling(data)\n",
    "\n",
    "# Create a dataframe for the anonymized and not anonymized data\n",
    "\n",
    "X = pd.DataFrame()\n",
    "        \n",
    "# Assign the interviewed column to our target vector\n",
    "\n",
    "y = data['ENTRETIEN']\n",
    "\n",
    "# Drop the Interviewed/hired & anonymized columns (hired is much dependend on the number of jobs available\n",
    "# and will currently not be considered as target label)\n",
    "\n",
    "X = data.drop(columns=['CVA', 'ENTRETIEN'])"
   ]
  },
  {
   "cell_type": "code",
   "execution_count": 34,
   "metadata": {},
   "outputs": [
    {
     "name": "stdout",
     "output_type": "stream",
     "text": [
      "average female qualification score: 0.54960024\n",
      "average male qualification score: 0.5571409\n",
      "% of underqualified females: 15.30 %\n",
      "% of underqualified males: 17.79 %\n",
      "% of overqualified females: 20.21 %\n",
      "% of overqualified males: 15.66 %\n"
     ]
    }
   ],
   "source": [
    "data_fem = data[data['FEMME']==1].copy()\n",
    "data_male = data[data['FEMME']==0].copy()\n",
    "\n",
    "print('average female qualification score:', np.average(data_fem['CV_qualif']))\n",
    "print('average male qualification score:', np.average(data_male['CV_qualif']))\n",
    "\n",
    "print('%% of underqualified females: %.2f %%' %(sum(data_fem['CV_qualif_inf'])/data_fem.shape[0]*100))\n",
    "print('%% of underqualified males: %.2f %%' %(sum(data_male['CV_qualif_inf'])/data_male.shape[0]*100))\n",
    "\n",
    "print('%% of overqualified females: %.2f %%' %(sum(data_fem['CV_qualif_sup'])/data_fem.shape[0]*100))\n",
    "print('%% of overqualified males: %.2f %%' %(sum(data_male['CV_qualif_sup'])/data_male.shape[0]*100))\n",
    "\n",
    "interviewed_dict = {\n",
    "    'females': data_fem[data_fem['ENTRETIEN']==1].shape[0],\n",
    "    'males': data_male[data_male['ENTRETIEN']==1].shape[0]\n",
    "}\n",
    "\n",
    "m_f_dict = {\n",
    "    'females': data_fem.shape[0],\n",
    "    'males': data_male.shape[0]\n",
    "}\n",
    "\n",
    "quali_dict = {\n",
    "    'females': np.average(data_fem['CV_qualif']),\n",
    "    'males': np.average(data_male['CV_qualif'])\n",
    "}\n",
    "\n",
    "uncerquali_dict = {\n",
    "    'females': sum(data_fem['CV_qualif_inf'])/data_fem.shape[0]*100,\n",
    "    'males': sum(data_male['CV_qualif_inf'])/data_male.shape[0]*100\n",
    "       }\n",
    "\n",
    "overquali_dict = {\n",
    "    'females': sum(data_fem['CV_qualif_sup'])/data_fem.shape[0]*100,\n",
    "    'males': sum(data_male['CV_qualif_sup'])/data_male.shape[0]*100\n",
    "}"
   ]
  },
  {
   "cell_type": "code",
   "execution_count": 35,
   "metadata": {},
   "outputs": [
    {
     "name": "stdout",
     "output_type": "stream",
     "text": [
      "correlation between underqualification in the dataset: -0.05\n",
      "correlation between overqualification in the dataset: -0.04\n"
     ]
    }
   ],
   "source": [
    "print('correlation between underqualification in the dataset: %.2f' %data['CV_qualif_inf'].corr(data['ENTRETIEN']))\n",
    "print('correlation between overqualification in the dataset: %.2f' %data['CV_qualif_sup'].corr(data['ENTRETIEN']))"
   ]
  },
  {
   "cell_type": "code",
   "execution_count": 38,
   "metadata": {},
   "outputs": [
    {
     "name": "stderr",
     "output_type": "stream",
     "text": [
      "<ipython-input-38-7096fb1a8f5c>:4: UserWarning: FixedFormatter should only be used together with FixedLocator\n",
      "  axs[0, 0].set_xticklabels(['', 'female', '', 'male'])\n",
      "<ipython-input-38-7096fb1a8f5c>:14: UserWarning: FixedFormatter should only be used together with FixedLocator\n",
      "  axs[0, 1].set_xticklabels(['', 'female', '', 'male'])\n",
      "<ipython-input-38-7096fb1a8f5c>:18: UserWarning: FixedFormatter should only be used together with FixedLocator\n",
      "  axs[1, 1].set_xticklabels(['', 'female', '', 'male'])\n",
      "<ipython-input-38-7096fb1a8f5c>:22: UserWarning: FixedFormatter should only be used together with FixedLocator\n",
      "  axs[0, 2].set_xticklabels(['', 'female', '', 'male'])\n",
      "<ipython-input-38-7096fb1a8f5c>:27: UserWarning: FixedFormatter should only be used together with FixedLocator\n",
      "  axs[1, 2].set_xticklabels(['', 'female', '', 'male'])\n"
     ]
    },
    {
     "data": {
      "image/png": "[encoded data removed]",
      "text/plain": [
       "<Figure size 432x288 with 6 Axes>"
      ]
     },
     "metadata": {
      "needs_background": "light"
     },
     "output_type": "display_data"
    }
   ],
   "source": [
    "fig, axs = plt.subplots(2, 3)\n",
    "\n",
    "axs[0, 0].bar(range(len(quali_dict)), list(quali_dict.values()), align='center', color=['darkgoldenrod', 'royalblue'])\n",
    "axs[0, 0].set_xticklabels(['', 'female', '', 'male'])\n",
    "axs[0, 0].set_ylim(0.5, 0.65)\n",
    "axs[0, 0].set_title('Average qualification score')\n",
    "\n",
    "axs[1, 0].hist(data_fem['CV_qualif'], alpha=.6, color='darkgoldenrod')\n",
    "axs[1, 0].hist(data_male['CV_qualif'], alpha=.4, color='royalblue')\n",
    "axs[1, 0].set_xticks([0, 0.5, 1])\n",
    "axs[1, 0].set_title('Distribution of the qualification score')\n",
    "\n",
    "axs[0, 1].bar(range(len(uncerquali_dict)), list(uncerquali_dict.values()), align='center', color=['darkgoldenrod', 'royalblue'])\n",
    "axs[0, 1].set_xticklabels(['', 'female', '', 'male'])\n",
    "axs[0, 1].set_title('% of underqualified applicants')\n",
    "\n",
    "axs[1, 1].bar(range(len(overquali_dict)), list(overquali_dict.values()), align='center', color=['darkgoldenrod', 'royalblue'])\n",
    "axs[1, 1].set_xticklabels(['', 'female', '', 'male'])\n",
    "axs[1, 1].set_title('% of overqualified applicants')\n",
    "\n",
    "axs[0, 2].bar(range(len(m_f_dict)), list(m_f_dict.values()), align='center', color=['darkgoldenrod', 'royalblue'])\n",
    "axs[0, 2].set_xticklabels(['', 'female', '', 'male'])\n",
    "axs[0, 2].set_title('Number datapoints (total)')\n",
    "\n",
    "\n",
    "axs[1, 2].bar(range(len(interviewed_dict)), list(interviewed_dict.values()), align='center', color=['darkgoldenrod', 'royalblue'])\n",
    "axs[1, 2].set_xticklabels(['', 'female', '', 'male'])\n",
    "axs[1, 2].set_title('Number of interviewed CVs')\n",
    "\n",
    "\n",
    "plt.subplots_adjust(left=-0.9, bottom=None, right=None, top=None, wspace=0.5, hspace=.50)"
   ]
  },
  {
   "cell_type": "markdown",
   "metadata": {},
   "source": [
    "**Observation**:\n",
    "* The average qualification score is slightly higher for male than for female\n",
    "* Without upsampling the distribution of qualification score is very similar for both genders\n",
    "\n",
    "* On the other side there are more underqualified male and more overqualified females. Both features under and overqualified are shown to be negatively correlated with our label interviewed.\n",
    "\n",
    "* The number of applicants interviewed is significantly lower than the total number of applicants, where roughly the same. At the same it seems that proportionally females are more interviewed \n",
    "\n",
    "* Results from the original study also found that significant evidence (p-value < 0.05) that the variable 'gender' has influence on the decision of hiring (Behaghel et al. 2015)."
   ]
  },
  {
   "cell_type": "markdown",
   "metadata": {},
   "source": [
    "## Publication bibliography\n",
    "* Behaghel, Luc; Crépon, Bruno; Le Barbanchon, Thomas (2015): Unintended Effects of Anonymous Résumés. In American Economic Journal: Applied Economics 7 (3), pp. 1–27. DOI: 10.1257/app.20140185.\n"
   ]
  },
  {
   "cell_type": "code",
   "execution_count": null,
   "metadata": {},
   "outputs": [],
   "source": []
  }
 ],
 "metadata": {
  "kernelspec": {
   "display_name": "Python 3",
   "language": "python",
   "name": "python3"
  },
  "language_info": {
   "codemirror_mode": {
    "name": "ipython",
    "version": 3
   },
   "file_extension": ".py",
   "mimetype": "text/x-python",
   "name": "python",
   "nbconvert_exporter": "python",
   "pygments_lexer": "ipython3",
   "version": "3.8.8"
  }
 },
 "nbformat": 4,
 "nbformat_minor": 4
}
