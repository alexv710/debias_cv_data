{
 "cells": [
  {
   "cell_type": "code",
   "execution_count": 1,
   "metadata": {},
   "outputs": [],
   "source": [
    "import numpy as np # linear algebra\n",
    "import pandas as pd # data processing, CSV file I/O (e.g. pd.read_csv)\n",
    "import seaborn as sns\n",
    "import matplotlib.pyplot as plt\n",
    "%matplotlib inline"
   ]
  },
  {
   "cell_type": "code",
   "execution_count": 24,
   "metadata": {},
   "outputs": [],
   "source": [
    "data = pd.io.stata.read_stata(\"data_candidates_mainsample.dta\")\n",
    "data.to_csv('data_candidates_mainsample.csv')\n",
    "\n",
    "data2 = pd.io.stata.read_stata(\"data_candidates_sample_tab6.dta\")\n",
    "data2.to_csv('data_\\candidates_sample_tab6.csv')\n",
    "\n",
    "data3 = pd.io.stata.read_stata(\"data_candidates_sample_tab7_tabA9.dta\")\n",
    "data3.to_csv('data_candidates_sample_tab7_tabA9.csv')\n",
    "\n",
    "dataRe = pd.io.stata.read_stata(\"data_recruiters.dta\")\n",
    "dataRe.to_csv('data_recruiters.csv')\n",
    "\n",
    "data_stata = pd.io.stata.StataReader(\"data_candidates_mainsample.dta\")\n",
    "data_labels = data_stata.variable_labels()"
   ]
  },
  {
   "cell_type": "code",
   "execution_count": 29,
   "metadata": {},
   "outputs": [],
   "source": [
    "X_ano = pd.DataFrame()\n",
    "X_unano = pd.DataFrame()\n",
    "\n",
    "for index, row in data.iterrows():\n",
    "    if row['CVA'] == 1: \n",
    "        X_ano = X_ano.append(row)\n",
    "    else:\n",
    "        X_unano = X_unano.append(row)\n",
    "\n",
    "# Assign the interviewed column to our target vector\n",
    "y_ano = X_ano['ENTRETIEN']\n",
    "y_unano = X_unano['ENTRETIEN']\n",
    "\n",
    "# Drop the Interviewed/hired columns (hired is much dependend on the number of jobs available\n",
    "# and will currently not be considered as target label)\n",
    "X_ano = X_ano.drop('RECRUTE', axis='columns')\n",
    "X_unano = X_unano.drop('RECRUTE', axis='columns')"
   ]
  },
  {
   "cell_type": "code",
   "execution_count": 64,
   "metadata": {},
   "outputs": [
    {
     "data": {
      "text/html": [
       "<div>\n",
       "<style scoped>\n",
       "    .dataframe tbody tr th:only-of-type {\n",
       "        vertical-align: middle;\n",
       "    }\n",
       "\n",
       "    .dataframe tbody tr th {\n",
       "        vertical-align: top;\n",
       "    }\n",
       "\n",
       "    .dataframe thead th {\n",
       "        text-align: right;\n",
       "    }\n",
       "</style>\n",
       "<table border=\"1\" class=\"dataframe\">\n",
       "  <thead>\n",
       "    <tr style=\"text-align: right;\">\n",
       "      <th></th>\n",
       "      <th>ALE_1</th>\n",
       "      <th>ALE_10</th>\n",
       "      <th>ALE_11</th>\n",
       "      <th>ALE_12</th>\n",
       "      <th>ALE_13</th>\n",
       "      <th>ALE_14</th>\n",
       "      <th>ALE_15</th>\n",
       "      <th>ALE_16</th>\n",
       "      <th>ALE_2</th>\n",
       "      <th>ALE_3</th>\n",
       "      <th>...</th>\n",
       "      <th>profint_c</th>\n",
       "      <th>recherche_LD</th>\n",
       "      <th>recherche_LD_c</th>\n",
       "      <th>recherche_TLD</th>\n",
       "      <th>recherche_TLD_c</th>\n",
       "      <th>service_m</th>\n",
       "      <th>service_m_c</th>\n",
       "      <th>service_nm</th>\n",
       "      <th>service_nm_c</th>\n",
       "      <th>travail_etranger</th>\n",
       "    </tr>\n",
       "  </thead>\n",
       "  <tbody>\n",
       "    <tr>\n",
       "      <th>0</th>\n",
       "      <td>0.0</td>\n",
       "      <td>0.0</td>\n",
       "      <td>0.0</td>\n",
       "      <td>0.0</td>\n",
       "      <td>0.0</td>\n",
       "      <td>0.0</td>\n",
       "      <td>0.0</td>\n",
       "      <td>NaN</td>\n",
       "      <td>0.0</td>\n",
       "      <td>0.0</td>\n",
       "      <td>...</td>\n",
       "      <td>-0.246902</td>\n",
       "      <td>0.0</td>\n",
       "      <td>-0.30711</td>\n",
       "      <td>0.0</td>\n",
       "      <td>-0.115869</td>\n",
       "      <td>1.0</td>\n",
       "      <td>0.470476</td>\n",
       "      <td>0.0</td>\n",
       "      <td>-0.25469</td>\n",
       "      <td>NaN</td>\n",
       "    </tr>\n",
       "    <tr>\n",
       "      <th>1</th>\n",
       "      <td>0.0</td>\n",
       "      <td>0.0</td>\n",
       "      <td>0.0</td>\n",
       "      <td>0.0</td>\n",
       "      <td>0.0</td>\n",
       "      <td>0.0</td>\n",
       "      <td>0.0</td>\n",
       "      <td>NaN</td>\n",
       "      <td>0.0</td>\n",
       "      <td>0.0</td>\n",
       "      <td>...</td>\n",
       "      <td>-0.246902</td>\n",
       "      <td>1.0</td>\n",
       "      <td>0.69289</td>\n",
       "      <td>1.0</td>\n",
       "      <td>0.884131</td>\n",
       "      <td>1.0</td>\n",
       "      <td>0.470476</td>\n",
       "      <td>0.0</td>\n",
       "      <td>-0.25469</td>\n",
       "      <td>NaN</td>\n",
       "    </tr>\n",
       "    <tr>\n",
       "      <th>5</th>\n",
       "      <td>0.0</td>\n",
       "      <td>0.0</td>\n",
       "      <td>0.0</td>\n",
       "      <td>0.0</td>\n",
       "      <td>0.0</td>\n",
       "      <td>0.0</td>\n",
       "      <td>0.0</td>\n",
       "      <td>NaN</td>\n",
       "      <td>0.0</td>\n",
       "      <td>0.0</td>\n",
       "      <td>...</td>\n",
       "      <td>-0.246902</td>\n",
       "      <td>0.0</td>\n",
       "      <td>-0.30711</td>\n",
       "      <td>0.0</td>\n",
       "      <td>-0.115869</td>\n",
       "      <td>1.0</td>\n",
       "      <td>0.470476</td>\n",
       "      <td>0.0</td>\n",
       "      <td>-0.25469</td>\n",
       "      <td>NaN</td>\n",
       "    </tr>\n",
       "    <tr>\n",
       "      <th>6</th>\n",
       "      <td>0.0</td>\n",
       "      <td>0.0</td>\n",
       "      <td>0.0</td>\n",
       "      <td>0.0</td>\n",
       "      <td>0.0</td>\n",
       "      <td>0.0</td>\n",
       "      <td>0.0</td>\n",
       "      <td>NaN</td>\n",
       "      <td>0.0</td>\n",
       "      <td>0.0</td>\n",
       "      <td>...</td>\n",
       "      <td>-0.246902</td>\n",
       "      <td>0.0</td>\n",
       "      <td>-0.30711</td>\n",
       "      <td>0.0</td>\n",
       "      <td>-0.115869</td>\n",
       "      <td>1.0</td>\n",
       "      <td>0.470476</td>\n",
       "      <td>0.0</td>\n",
       "      <td>-0.25469</td>\n",
       "      <td>NaN</td>\n",
       "    </tr>\n",
       "    <tr>\n",
       "      <th>7</th>\n",
       "      <td>0.0</td>\n",
       "      <td>0.0</td>\n",
       "      <td>0.0</td>\n",
       "      <td>0.0</td>\n",
       "      <td>0.0</td>\n",
       "      <td>0.0</td>\n",
       "      <td>0.0</td>\n",
       "      <td>NaN</td>\n",
       "      <td>0.0</td>\n",
       "      <td>0.0</td>\n",
       "      <td>...</td>\n",
       "      <td>-0.246902</td>\n",
       "      <td>0.0</td>\n",
       "      <td>-0.30711</td>\n",
       "      <td>0.0</td>\n",
       "      <td>-0.115869</td>\n",
       "      <td>1.0</td>\n",
       "      <td>0.470476</td>\n",
       "      <td>0.0</td>\n",
       "      <td>-0.25469</td>\n",
       "      <td>NaN</td>\n",
       "    </tr>\n",
       "    <tr>\n",
       "      <th>...</th>\n",
       "      <td>...</td>\n",
       "      <td>...</td>\n",
       "      <td>...</td>\n",
       "      <td>...</td>\n",
       "      <td>...</td>\n",
       "      <td>...</td>\n",
       "      <td>...</td>\n",
       "      <td>...</td>\n",
       "      <td>...</td>\n",
       "      <td>...</td>\n",
       "      <td>...</td>\n",
       "      <td>...</td>\n",
       "      <td>...</td>\n",
       "      <td>...</td>\n",
       "      <td>...</td>\n",
       "      <td>...</td>\n",
       "      <td>...</td>\n",
       "      <td>...</td>\n",
       "      <td>...</td>\n",
       "      <td>...</td>\n",
       "      <td>...</td>\n",
       "    </tr>\n",
       "    <tr>\n",
       "      <th>1258</th>\n",
       "      <td>0.0</td>\n",
       "      <td>0.0</td>\n",
       "      <td>0.0</td>\n",
       "      <td>1.0</td>\n",
       "      <td>0.0</td>\n",
       "      <td>0.0</td>\n",
       "      <td>0.0</td>\n",
       "      <td>NaN</td>\n",
       "      <td>0.0</td>\n",
       "      <td>0.0</td>\n",
       "      <td>...</td>\n",
       "      <td>-0.246902</td>\n",
       "      <td>0.0</td>\n",
       "      <td>-0.30711</td>\n",
       "      <td>0.0</td>\n",
       "      <td>-0.115869</td>\n",
       "      <td>1.0</td>\n",
       "      <td>0.470476</td>\n",
       "      <td>0.0</td>\n",
       "      <td>-0.25469</td>\n",
       "      <td>0.0</td>\n",
       "    </tr>\n",
       "    <tr>\n",
       "      <th>1260</th>\n",
       "      <td>0.0</td>\n",
       "      <td>0.0</td>\n",
       "      <td>0.0</td>\n",
       "      <td>1.0</td>\n",
       "      <td>0.0</td>\n",
       "      <td>0.0</td>\n",
       "      <td>0.0</td>\n",
       "      <td>NaN</td>\n",
       "      <td>0.0</td>\n",
       "      <td>0.0</td>\n",
       "      <td>...</td>\n",
       "      <td>-0.246902</td>\n",
       "      <td>0.0</td>\n",
       "      <td>-0.30711</td>\n",
       "      <td>0.0</td>\n",
       "      <td>-0.115869</td>\n",
       "      <td>1.0</td>\n",
       "      <td>0.470476</td>\n",
       "      <td>0.0</td>\n",
       "      <td>-0.25469</td>\n",
       "      <td>0.0</td>\n",
       "    </tr>\n",
       "    <tr>\n",
       "      <th>1265</th>\n",
       "      <td>0.0</td>\n",
       "      <td>0.0</td>\n",
       "      <td>0.0</td>\n",
       "      <td>1.0</td>\n",
       "      <td>0.0</td>\n",
       "      <td>0.0</td>\n",
       "      <td>0.0</td>\n",
       "      <td>NaN</td>\n",
       "      <td>0.0</td>\n",
       "      <td>0.0</td>\n",
       "      <td>...</td>\n",
       "      <td>-0.246902</td>\n",
       "      <td>1.0</td>\n",
       "      <td>0.69289</td>\n",
       "      <td>0.0</td>\n",
       "      <td>-0.115869</td>\n",
       "      <td>1.0</td>\n",
       "      <td>0.470476</td>\n",
       "      <td>0.0</td>\n",
       "      <td>-0.25469</td>\n",
       "      <td>1.0</td>\n",
       "    </tr>\n",
       "    <tr>\n",
       "      <th>1266</th>\n",
       "      <td>0.0</td>\n",
       "      <td>0.0</td>\n",
       "      <td>0.0</td>\n",
       "      <td>1.0</td>\n",
       "      <td>0.0</td>\n",
       "      <td>0.0</td>\n",
       "      <td>0.0</td>\n",
       "      <td>NaN</td>\n",
       "      <td>0.0</td>\n",
       "      <td>0.0</td>\n",
       "      <td>...</td>\n",
       "      <td>-0.246902</td>\n",
       "      <td>0.0</td>\n",
       "      <td>-0.30711</td>\n",
       "      <td>0.0</td>\n",
       "      <td>-0.115869</td>\n",
       "      <td>1.0</td>\n",
       "      <td>0.470476</td>\n",
       "      <td>0.0</td>\n",
       "      <td>-0.25469</td>\n",
       "      <td>0.0</td>\n",
       "    </tr>\n",
       "    <tr>\n",
       "      <th>1267</th>\n",
       "      <td>0.0</td>\n",
       "      <td>0.0</td>\n",
       "      <td>0.0</td>\n",
       "      <td>1.0</td>\n",
       "      <td>0.0</td>\n",
       "      <td>0.0</td>\n",
       "      <td>0.0</td>\n",
       "      <td>NaN</td>\n",
       "      <td>0.0</td>\n",
       "      <td>0.0</td>\n",
       "      <td>...</td>\n",
       "      <td>-0.246902</td>\n",
       "      <td>1.0</td>\n",
       "      <td>0.69289</td>\n",
       "      <td>0.0</td>\n",
       "      <td>-0.115869</td>\n",
       "      <td>1.0</td>\n",
       "      <td>0.470476</td>\n",
       "      <td>0.0</td>\n",
       "      <td>-0.25469</td>\n",
       "      <td>0.0</td>\n",
       "    </tr>\n",
       "  </tbody>\n",
       "</table>\n",
       "<p>608 rows × 937 columns</p>\n",
       "</div>"
      ],
      "text/plain": [
       "      ALE_1  ALE_10  ALE_11  ALE_12  ALE_13  ALE_14  ALE_15  ALE_16  ALE_2  \\\n",
       "0       0.0     0.0     0.0     0.0     0.0     0.0     0.0     NaN    0.0   \n",
       "1       0.0     0.0     0.0     0.0     0.0     0.0     0.0     NaN    0.0   \n",
       "5       0.0     0.0     0.0     0.0     0.0     0.0     0.0     NaN    0.0   \n",
       "6       0.0     0.0     0.0     0.0     0.0     0.0     0.0     NaN    0.0   \n",
       "7       0.0     0.0     0.0     0.0     0.0     0.0     0.0     NaN    0.0   \n",
       "...     ...     ...     ...     ...     ...     ...     ...     ...    ...   \n",
       "1258    0.0     0.0     0.0     1.0     0.0     0.0     0.0     NaN    0.0   \n",
       "1260    0.0     0.0     0.0     1.0     0.0     0.0     0.0     NaN    0.0   \n",
       "1265    0.0     0.0     0.0     1.0     0.0     0.0     0.0     NaN    0.0   \n",
       "1266    0.0     0.0     0.0     1.0     0.0     0.0     0.0     NaN    0.0   \n",
       "1267    0.0     0.0     0.0     1.0     0.0     0.0     0.0     NaN    0.0   \n",
       "\n",
       "      ALE_3  ...  profint_c  recherche_LD  recherche_LD_c  recherche_TLD  \\\n",
       "0       0.0  ...  -0.246902           0.0        -0.30711            0.0   \n",
       "1       0.0  ...  -0.246902           1.0         0.69289            1.0   \n",
       "5       0.0  ...  -0.246902           0.0        -0.30711            0.0   \n",
       "6       0.0  ...  -0.246902           0.0        -0.30711            0.0   \n",
       "7       0.0  ...  -0.246902           0.0        -0.30711            0.0   \n",
       "...     ...  ...        ...           ...             ...            ...   \n",
       "1258    0.0  ...  -0.246902           0.0        -0.30711            0.0   \n",
       "1260    0.0  ...  -0.246902           0.0        -0.30711            0.0   \n",
       "1265    0.0  ...  -0.246902           1.0         0.69289            0.0   \n",
       "1266    0.0  ...  -0.246902           0.0        -0.30711            0.0   \n",
       "1267    0.0  ...  -0.246902           1.0         0.69289            0.0   \n",
       "\n",
       "      recherche_TLD_c  service_m  service_m_c  service_nm  service_nm_c  \\\n",
       "0           -0.115869        1.0     0.470476         0.0      -0.25469   \n",
       "1            0.884131        1.0     0.470476         0.0      -0.25469   \n",
       "5           -0.115869        1.0     0.470476         0.0      -0.25469   \n",
       "6           -0.115869        1.0     0.470476         0.0      -0.25469   \n",
       "7           -0.115869        1.0     0.470476         0.0      -0.25469   \n",
       "...               ...        ...          ...         ...           ...   \n",
       "1258        -0.115869        1.0     0.470476         0.0      -0.25469   \n",
       "1260        -0.115869        1.0     0.470476         0.0      -0.25469   \n",
       "1265        -0.115869        1.0     0.470476         0.0      -0.25469   \n",
       "1266        -0.115869        1.0     0.470476         0.0      -0.25469   \n",
       "1267        -0.115869        1.0     0.470476         0.0      -0.25469   \n",
       "\n",
       "      travail_etranger  \n",
       "0                  NaN  \n",
       "1                  NaN  \n",
       "5                  NaN  \n",
       "6                  NaN  \n",
       "7                  NaN  \n",
       "...                ...  \n",
       "1258               0.0  \n",
       "1260               0.0  \n",
       "1265               1.0  \n",
       "1266               0.0  \n",
       "1267               0.0  \n",
       "\n",
       "[608 rows x 937 columns]"
      ]
     },
     "execution_count": 64,
     "metadata": {},
     "output_type": "execute_result"
    }
   ],
   "source": [
    "X_ano"
   ]
  },
  {
   "cell_type": "markdown",
   "metadata": {},
   "source": [
    "# Summary Bias\n"
   ]
  },
  {
   "cell_type": "raw",
   "metadata": {},
   "source": [
    "Bias are summarized from the participant sampling dataset, which maily deals with anonymous resumes.\n",
    "\n",
    "1. Gender Discrimination would be the priority to be considered. Some results showed from the study report: a significant evidence (p-value < 0.05) that variable 'gender' has influences on the decision of hiring; \n",
    "\n",
    "2. Regarding to the race bias, there was not obvious bias regarding to records if the candidate is immigrant or not; however, there are some different decisions when considering the language aspect. \n",
    "\n",
    "3. Other factors that related to bias would be age and professional level. It is less likely to be hired if the candidate is above 50-year-old, and more likely for group between 26 and 50. There is significant evidence(p-value < 0.05) that adequate work experience would affect hiring decision. \n",
    "\n",
    "4. Driving license is another factor related, it is more likely to be hired if the person has a driving license.\n",
    "\n",
    "5. From the company side, there are not significant evidence shows the industry will affect hiring decisions, but there are some differences between marketing and constructions. These factors could indirectly reflect the candidates' interest or personal experiences. Thus, this would be considered as well. \n",
    "\n",
    "\n"
   ]
  },
  {
   "cell_type": "markdown",
   "metadata": {},
   "source": [
    "# DATA1\n"
   ]
  },
  {
   "cell_type": "code",
   "execution_count": 32,
   "metadata": {},
   "outputs": [
    {
     "data": {
      "text/html": [
       "<div>\n",
       "<style scoped>\n",
       "    .dataframe tbody tr th:only-of-type {\n",
       "        vertical-align: middle;\n",
       "    }\n",
       "\n",
       "    .dataframe tbody tr th {\n",
       "        vertical-align: top;\n",
       "    }\n",
       "\n",
       "    .dataframe thead th {\n",
       "        text-align: right;\n",
       "    }\n",
       "</style>\n",
       "<table border=\"1\" class=\"dataframe\">\n",
       "  <thead>\n",
       "    <tr style=\"text-align: right;\">\n",
       "      <th></th>\n",
       "      <th>ALE_1</th>\n",
       "      <th>ALE_10</th>\n",
       "      <th>ALE_11</th>\n",
       "      <th>ALE_12</th>\n",
       "      <th>ALE_13</th>\n",
       "      <th>ALE_14</th>\n",
       "      <th>ALE_15</th>\n",
       "      <th>ALE_16</th>\n",
       "      <th>ALE_2</th>\n",
       "      <th>ALE_3</th>\n",
       "      <th>...</th>\n",
       "      <th>profint_c</th>\n",
       "      <th>recherche_LD</th>\n",
       "      <th>recherche_LD_c</th>\n",
       "      <th>recherche_TLD</th>\n",
       "      <th>recherche_TLD_c</th>\n",
       "      <th>service_m</th>\n",
       "      <th>service_m_c</th>\n",
       "      <th>service_nm</th>\n",
       "      <th>service_nm_c</th>\n",
       "      <th>travail_etranger</th>\n",
       "    </tr>\n",
       "  </thead>\n",
       "  <tbody>\n",
       "    <tr>\n",
       "      <th>103</th>\n",
       "      <td>0.0</td>\n",
       "      <td>0.0</td>\n",
       "      <td>0.0</td>\n",
       "      <td>0.0</td>\n",
       "      <td>0.0</td>\n",
       "      <td>0.0</td>\n",
       "      <td>0.0</td>\n",
       "      <td>0.0</td>\n",
       "      <td>0.0</td>\n",
       "      <td>0.0</td>\n",
       "      <td>...</td>\n",
       "      <td>-0.246902</td>\n",
       "      <td>0.0</td>\n",
       "      <td>-0.30711</td>\n",
       "      <td>0.0</td>\n",
       "      <td>-0.115869</td>\n",
       "      <td>0.0</td>\n",
       "      <td>-0.529524</td>\n",
       "      <td>1.0</td>\n",
       "      <td>0.74531</td>\n",
       "      <td>0.0</td>\n",
       "    </tr>\n",
       "    <tr>\n",
       "      <th>104</th>\n",
       "      <td>0.0</td>\n",
       "      <td>0.0</td>\n",
       "      <td>0.0</td>\n",
       "      <td>0.0</td>\n",
       "      <td>0.0</td>\n",
       "      <td>0.0</td>\n",
       "      <td>0.0</td>\n",
       "      <td>0.0</td>\n",
       "      <td>0.0</td>\n",
       "      <td>0.0</td>\n",
       "      <td>...</td>\n",
       "      <td>-0.246902</td>\n",
       "      <td>0.0</td>\n",
       "      <td>-0.30711</td>\n",
       "      <td>0.0</td>\n",
       "      <td>-0.115869</td>\n",
       "      <td>0.0</td>\n",
       "      <td>-0.529524</td>\n",
       "      <td>1.0</td>\n",
       "      <td>0.74531</td>\n",
       "      <td>0.0</td>\n",
       "    </tr>\n",
       "    <tr>\n",
       "      <th>109</th>\n",
       "      <td>0.0</td>\n",
       "      <td>0.0</td>\n",
       "      <td>0.0</td>\n",
       "      <td>0.0</td>\n",
       "      <td>0.0</td>\n",
       "      <td>0.0</td>\n",
       "      <td>0.0</td>\n",
       "      <td>0.0</td>\n",
       "      <td>0.0</td>\n",
       "      <td>0.0</td>\n",
       "      <td>...</td>\n",
       "      <td>-0.246902</td>\n",
       "      <td>1.0</td>\n",
       "      <td>0.69289</td>\n",
       "      <td>0.0</td>\n",
       "      <td>-0.115869</td>\n",
       "      <td>0.0</td>\n",
       "      <td>-0.529524</td>\n",
       "      <td>1.0</td>\n",
       "      <td>0.74531</td>\n",
       "      <td>0.0</td>\n",
       "    </tr>\n",
       "    <tr>\n",
       "      <th>110</th>\n",
       "      <td>0.0</td>\n",
       "      <td>0.0</td>\n",
       "      <td>0.0</td>\n",
       "      <td>0.0</td>\n",
       "      <td>0.0</td>\n",
       "      <td>0.0</td>\n",
       "      <td>0.0</td>\n",
       "      <td>0.0</td>\n",
       "      <td>0.0</td>\n",
       "      <td>0.0</td>\n",
       "      <td>...</td>\n",
       "      <td>-0.246902</td>\n",
       "      <td>1.0</td>\n",
       "      <td>0.69289</td>\n",
       "      <td>0.0</td>\n",
       "      <td>-0.115869</td>\n",
       "      <td>0.0</td>\n",
       "      <td>-0.529524</td>\n",
       "      <td>1.0</td>\n",
       "      <td>0.74531</td>\n",
       "      <td>0.0</td>\n",
       "    </tr>\n",
       "    <tr>\n",
       "      <th>111</th>\n",
       "      <td>0.0</td>\n",
       "      <td>0.0</td>\n",
       "      <td>0.0</td>\n",
       "      <td>0.0</td>\n",
       "      <td>0.0</td>\n",
       "      <td>0.0</td>\n",
       "      <td>0.0</td>\n",
       "      <td>0.0</td>\n",
       "      <td>0.0</td>\n",
       "      <td>0.0</td>\n",
       "      <td>...</td>\n",
       "      <td>-0.246902</td>\n",
       "      <td>0.0</td>\n",
       "      <td>-0.30711</td>\n",
       "      <td>0.0</td>\n",
       "      <td>-0.115869</td>\n",
       "      <td>0.0</td>\n",
       "      <td>-0.529524</td>\n",
       "      <td>1.0</td>\n",
       "      <td>0.74531</td>\n",
       "      <td>1.0</td>\n",
       "    </tr>\n",
       "    <tr>\n",
       "      <th>112</th>\n",
       "      <td>0.0</td>\n",
       "      <td>0.0</td>\n",
       "      <td>0.0</td>\n",
       "      <td>0.0</td>\n",
       "      <td>0.0</td>\n",
       "      <td>0.0</td>\n",
       "      <td>0.0</td>\n",
       "      <td>0.0</td>\n",
       "      <td>0.0</td>\n",
       "      <td>0.0</td>\n",
       "      <td>...</td>\n",
       "      <td>-0.246902</td>\n",
       "      <td>0.0</td>\n",
       "      <td>-0.30711</td>\n",
       "      <td>0.0</td>\n",
       "      <td>-0.115869</td>\n",
       "      <td>0.0</td>\n",
       "      <td>-0.529524</td>\n",
       "      <td>1.0</td>\n",
       "      <td>0.74531</td>\n",
       "      <td>1.0</td>\n",
       "    </tr>\n",
       "    <tr>\n",
       "      <th>113</th>\n",
       "      <td>0.0</td>\n",
       "      <td>0.0</td>\n",
       "      <td>0.0</td>\n",
       "      <td>0.0</td>\n",
       "      <td>0.0</td>\n",
       "      <td>0.0</td>\n",
       "      <td>0.0</td>\n",
       "      <td>0.0</td>\n",
       "      <td>0.0</td>\n",
       "      <td>0.0</td>\n",
       "      <td>...</td>\n",
       "      <td>-0.246902</td>\n",
       "      <td>1.0</td>\n",
       "      <td>0.69289</td>\n",
       "      <td>1.0</td>\n",
       "      <td>0.884131</td>\n",
       "      <td>0.0</td>\n",
       "      <td>-0.529524</td>\n",
       "      <td>1.0</td>\n",
       "      <td>0.74531</td>\n",
       "      <td>0.0</td>\n",
       "    </tr>\n",
       "    <tr>\n",
       "      <th>114</th>\n",
       "      <td>0.0</td>\n",
       "      <td>0.0</td>\n",
       "      <td>0.0</td>\n",
       "      <td>0.0</td>\n",
       "      <td>0.0</td>\n",
       "      <td>0.0</td>\n",
       "      <td>0.0</td>\n",
       "      <td>0.0</td>\n",
       "      <td>0.0</td>\n",
       "      <td>0.0</td>\n",
       "      <td>...</td>\n",
       "      <td>-0.246902</td>\n",
       "      <td>0.0</td>\n",
       "      <td>-0.30711</td>\n",
       "      <td>0.0</td>\n",
       "      <td>-0.115869</td>\n",
       "      <td>1.0</td>\n",
       "      <td>0.470476</td>\n",
       "      <td>0.0</td>\n",
       "      <td>-0.25469</td>\n",
       "      <td>1.0</td>\n",
       "    </tr>\n",
       "    <tr>\n",
       "      <th>115</th>\n",
       "      <td>0.0</td>\n",
       "      <td>0.0</td>\n",
       "      <td>0.0</td>\n",
       "      <td>0.0</td>\n",
       "      <td>0.0</td>\n",
       "      <td>0.0</td>\n",
       "      <td>0.0</td>\n",
       "      <td>0.0</td>\n",
       "      <td>0.0</td>\n",
       "      <td>0.0</td>\n",
       "      <td>...</td>\n",
       "      <td>-0.246902</td>\n",
       "      <td>0.0</td>\n",
       "      <td>-0.30711</td>\n",
       "      <td>0.0</td>\n",
       "      <td>-0.115869</td>\n",
       "      <td>1.0</td>\n",
       "      <td>0.470476</td>\n",
       "      <td>0.0</td>\n",
       "      <td>-0.25469</td>\n",
       "      <td>1.0</td>\n",
       "    </tr>\n",
       "    <tr>\n",
       "      <th>116</th>\n",
       "      <td>0.0</td>\n",
       "      <td>0.0</td>\n",
       "      <td>0.0</td>\n",
       "      <td>0.0</td>\n",
       "      <td>0.0</td>\n",
       "      <td>0.0</td>\n",
       "      <td>0.0</td>\n",
       "      <td>0.0</td>\n",
       "      <td>0.0</td>\n",
       "      <td>0.0</td>\n",
       "      <td>...</td>\n",
       "      <td>-0.246902</td>\n",
       "      <td>0.0</td>\n",
       "      <td>-0.30711</td>\n",
       "      <td>0.0</td>\n",
       "      <td>-0.115869</td>\n",
       "      <td>1.0</td>\n",
       "      <td>0.470476</td>\n",
       "      <td>0.0</td>\n",
       "      <td>-0.25469</td>\n",
       "      <td>0.0</td>\n",
       "    </tr>\n",
       "    <tr>\n",
       "      <th>117</th>\n",
       "      <td>0.0</td>\n",
       "      <td>0.0</td>\n",
       "      <td>0.0</td>\n",
       "      <td>0.0</td>\n",
       "      <td>0.0</td>\n",
       "      <td>0.0</td>\n",
       "      <td>0.0</td>\n",
       "      <td>0.0</td>\n",
       "      <td>0.0</td>\n",
       "      <td>0.0</td>\n",
       "      <td>...</td>\n",
       "      <td>-0.246902</td>\n",
       "      <td>0.0</td>\n",
       "      <td>-0.30711</td>\n",
       "      <td>0.0</td>\n",
       "      <td>-0.115869</td>\n",
       "      <td>1.0</td>\n",
       "      <td>0.470476</td>\n",
       "      <td>0.0</td>\n",
       "      <td>-0.25469</td>\n",
       "      <td>0.0</td>\n",
       "    </tr>\n",
       "  </tbody>\n",
       "</table>\n",
       "<p>11 rows × 937 columns</p>\n",
       "</div>"
      ],
      "text/plain": [
       "     ALE_1  ALE_10  ALE_11  ALE_12  ALE_13  ALE_14  ALE_15  ALE_16  ALE_2  \\\n",
       "103    0.0     0.0     0.0     0.0     0.0     0.0     0.0     0.0    0.0   \n",
       "104    0.0     0.0     0.0     0.0     0.0     0.0     0.0     0.0    0.0   \n",
       "109    0.0     0.0     0.0     0.0     0.0     0.0     0.0     0.0    0.0   \n",
       "110    0.0     0.0     0.0     0.0     0.0     0.0     0.0     0.0    0.0   \n",
       "111    0.0     0.0     0.0     0.0     0.0     0.0     0.0     0.0    0.0   \n",
       "112    0.0     0.0     0.0     0.0     0.0     0.0     0.0     0.0    0.0   \n",
       "113    0.0     0.0     0.0     0.0     0.0     0.0     0.0     0.0    0.0   \n",
       "114    0.0     0.0     0.0     0.0     0.0     0.0     0.0     0.0    0.0   \n",
       "115    0.0     0.0     0.0     0.0     0.0     0.0     0.0     0.0    0.0   \n",
       "116    0.0     0.0     0.0     0.0     0.0     0.0     0.0     0.0    0.0   \n",
       "117    0.0     0.0     0.0     0.0     0.0     0.0     0.0     0.0    0.0   \n",
       "\n",
       "     ALE_3  ...  profint_c  recherche_LD  recherche_LD_c  recherche_TLD  \\\n",
       "103    0.0  ...  -0.246902           0.0        -0.30711            0.0   \n",
       "104    0.0  ...  -0.246902           0.0        -0.30711            0.0   \n",
       "109    0.0  ...  -0.246902           1.0         0.69289            0.0   \n",
       "110    0.0  ...  -0.246902           1.0         0.69289            0.0   \n",
       "111    0.0  ...  -0.246902           0.0        -0.30711            0.0   \n",
       "112    0.0  ...  -0.246902           0.0        -0.30711            0.0   \n",
       "113    0.0  ...  -0.246902           1.0         0.69289            1.0   \n",
       "114    0.0  ...  -0.246902           0.0        -0.30711            0.0   \n",
       "115    0.0  ...  -0.246902           0.0        -0.30711            0.0   \n",
       "116    0.0  ...  -0.246902           0.0        -0.30711            0.0   \n",
       "117    0.0  ...  -0.246902           0.0        -0.30711            0.0   \n",
       "\n",
       "     recherche_TLD_c  service_m  service_m_c  service_nm  service_nm_c  \\\n",
       "103        -0.115869        0.0    -0.529524         1.0       0.74531   \n",
       "104        -0.115869        0.0    -0.529524         1.0       0.74531   \n",
       "109        -0.115869        0.0    -0.529524         1.0       0.74531   \n",
       "110        -0.115869        0.0    -0.529524         1.0       0.74531   \n",
       "111        -0.115869        0.0    -0.529524         1.0       0.74531   \n",
       "112        -0.115869        0.0    -0.529524         1.0       0.74531   \n",
       "113         0.884131        0.0    -0.529524         1.0       0.74531   \n",
       "114        -0.115869        1.0     0.470476         0.0      -0.25469   \n",
       "115        -0.115869        1.0     0.470476         0.0      -0.25469   \n",
       "116        -0.115869        1.0     0.470476         0.0      -0.25469   \n",
       "117        -0.115869        1.0     0.470476         0.0      -0.25469   \n",
       "\n",
       "     travail_etranger  \n",
       "103               0.0  \n",
       "104               0.0  \n",
       "109               0.0  \n",
       "110               0.0  \n",
       "111               1.0  \n",
       "112               1.0  \n",
       "113               0.0  \n",
       "114               1.0  \n",
       "115               1.0  \n",
       "116               0.0  \n",
       "117               0.0  \n",
       "\n",
       "[11 rows x 937 columns]"
      ]
     },
     "execution_count": 32,
     "metadata": {},
     "output_type": "execute_result"
    }
   ],
   "source": [
    "data = X_ano.fillna(0)\n",
    "data[47:58]"
   ]
  },
  {
   "cell_type": "code",
   "execution_count": 56,
   "metadata": {},
   "outputs": [
    {
     "data": {
      "text/plain": [
       "-0.010624995762647603"
      ]
     },
     "execution_count": 56,
     "metadata": {},
     "output_type": "execute_result"
    },
    {
     "data": {
      "image/png": "[encoded data removed]",
      "text/plain": [
       "<Figure size 432x288 with 1 Axes>"
      ]
     },
     "metadata": {
      "needs_background": "light"
     },
     "output_type": "display_data"
    }
   ],
   "source": [
    "#skilled while/blue collar\n",
    "sns.countplot(x='eoq', hue = 'ENTRETIEN', data=data, palette='hls').set_title('W/B collar Vs Interview')\n",
    "data['eoq'].corr(data['ENTRETIEN'])"
   ]
  },
  {
   "cell_type": "code",
   "execution_count": 55,
   "metadata": {},
   "outputs": [
    {
     "data": {
      "text/plain": [
       "0.05310087912576692"
      ]
     },
     "execution_count": 55,
     "metadata": {},
     "output_type": "execute_result"
    }
   ],
   "source": [
    "data['dip_bepcap'].corr(data['ENTRETIEN'])"
   ]
  },
  {
   "cell_type": "code",
   "execution_count": 57,
   "metadata": {},
   "outputs": [
    {
     "data": {
      "text/plain": [
       "0.014581832130587656"
      ]
     },
     "execution_count": 57,
     "metadata": {},
     "output_type": "execute_result"
    }
   ],
   "source": [
    "data['dip_bac'].corr(data['ENTRETIEN'])"
   ]
  },
  {
   "cell_type": "code",
   "execution_count": 58,
   "metadata": {},
   "outputs": [
    {
     "data": {
      "text/plain": [
       "-0.054277300711407815"
      ]
     },
     "execution_count": 58,
     "metadata": {},
     "output_type": "execute_result"
    }
   ],
   "source": [
    "data['dip_bac2p'].corr(data['ENTRETIEN'])"
   ]
  },
  {
   "cell_type": "code",
   "execution_count": 59,
   "metadata": {},
   "outputs": [
    {
     "data": {
      "text/plain": [
       "-0.0341416611611043"
      ]
     },
     "execution_count": 59,
     "metadata": {},
     "output_type": "execute_result"
    }
   ],
   "source": [
    "data['dip_bac2'].corr(data['ENTRETIEN'])"
   ]
  },
  {
   "cell_type": "code",
   "execution_count": 53,
   "metadata": {},
   "outputs": [
    {
     "data": {
      "text/plain": [
       "Text(0.5, 0.98, '3yr after school Vs Interview')"
      ]
     },
     "execution_count": 53,
     "metadata": {},
     "output_type": "execute_result"
    },
    {
     "data": {
      "image/png": "[encoded data removed]",
      "text/plain": [
       "<Figure size 423.5x360 with 1 Axes>"
      ]
     },
     "metadata": {
      "needs_background": "light"
     },
     "output_type": "display_data"
    },
    {
     "data": {
      "image/png": "[encoded data removed]",
      "text/plain": [
       "<Figure size 423.5x360 with 1 Axes>"
      ]
     },
     "metadata": {
      "needs_background": "light"
     },
     "output_type": "display_data"
    },
    {
     "data": {
      "image/png": "[encoded data removed]",
      "text/plain": [
       "<Figure size 423.5x360 with 1 Axes>"
      ]
     },
     "metadata": {
      "needs_background": "light"
     },
     "output_type": "display_data"
    },
    {
     "data": {
      "image/png": "[encoded data removed]",
      "text/plain": [
       "<Figure size 423.5x360 with 1 Axes>"
      ]
     },
     "metadata": {
      "needs_background": "light"
     },
     "output_type": "display_data"
    }
   ],
   "source": [
    "#professions\n",
    "#data1['dip_bepcap'] professional\n",
    "#data1['dip_bac'] high school\n",
    "#data1['dip_bac2p'] upper education\n",
    "#data1['dip_bac2']diploma 2 years after school\n",
    "#data1['dip_bac3p'] diploma 3 years after school\n",
    "\n",
    "\n",
    "sns.catplot(x = \"dip_bepcap\",hue = 'ENTRETIEN', kind = \"count\", data = data).fig.suptitle('professional level Vs Interview')\n",
    "sns.catplot(x = \"dip_bac\", hue = 'ENTRETIEN', kind = \"count\", data = data).fig.suptitle('High School Vs Interview')\n",
    "sns.catplot(x = \"dip_bac2p\", hue = 'ENTRETIEN',kind = \"count\", data = data).fig.suptitle('2yr after school Vs Interview')\n",
    "sns.catplot(x = \"dip_bac3p\", hue = 'ENTRETIEN',kind = \"count\", data = data).fig.suptitle('3yr after school Vs Interview')\n",
    "                                                                                                                                                                          \n",
    "                                                                                         "
   ]
  },
  {
   "cell_type": "code",
   "execution_count": 36,
   "metadata": {},
   "outputs": [
    {
     "data": {
      "text/plain": [
       "-0.01597493871791148"
      ]
     },
     "execution_count": 36,
     "metadata": {},
     "output_type": "execute_result"
    }
   ],
   "source": [
    "x = data['FEMME']; y = data['ENTRETIEN']\n",
    "x.corr(y)\n",
    "y.corr(x)"
   ]
  },
  {
   "cell_type": "code",
   "execution_count": 60,
   "metadata": {},
   "outputs": [
    {
     "data": {
      "text/plain": [
       "Text(0.5, 0.98, 'gender Vs Interview')"
      ]
     },
     "execution_count": 60,
     "metadata": {},
     "output_type": "execute_result"
    },
    {
     "data": {
      "image/png": "[encoded data removed]",
      "text/plain": [
       "<Figure size 423.5x360 with 1 Axes>"
      ]
     },
     "metadata": {
      "needs_background": "light"
     },
     "output_type": "display_data"
    }
   ],
   "source": [
    "#gender\n",
    "data['FEMME']\n",
    "sns.catplot(x = \"FEMME\", hue = 'ENTRETIEN', kind = \"count\", data = data).fig.suptitle('gender Vs Interview')"
   ]
  },
  {
   "cell_type": "code",
   "execution_count": 61,
   "metadata": {},
   "outputs": [
    {
     "data": {
      "text/plain": [
       "Text(0.5, 0.98, 'below 26 yrs')"
      ]
     },
     "execution_count": 61,
     "metadata": {},
     "output_type": "execute_result"
    },
    {
     "data": {
      "image/png": "[encoded data removed]",
      "text/plain": [
       "<Figure size 423.5x360 with 1 Axes>"
      ]
     },
     "metadata": {
      "needs_background": "light"
     },
     "output_type": "display_data"
    },
    {
     "data": {
      "image/png": "[encoded data removed]",
      "text/plain": [
       "<Figure size 423.5x360 with 1 Axes>"
      ]
     },
     "metadata": {
      "needs_background": "light"
     },
     "output_type": "display_data"
    },
    {
     "data": {
      "image/png": "[encoded data removed]",
      "text/plain": [
       "<Figure size 423.5x360 with 1 Axes>"
      ]
     },
     "metadata": {
      "needs_background": "light"
     },
     "output_type": "display_data"
    }
   ],
   "source": [
    "#age\n",
    "\n",
    "sns.catplot(x = \"a50p\", hue = 'ENTRETIEN', kind = \"count\", data = data).fig.suptitle('Over 50yrs')\n",
    "sns.catplot(x = \"a3049\", hue = 'ENTRETIEN', kind = \"count\", data = data).fig.suptitle('30-49 yrs')\n",
    "sns.catplot(x = \"a26m\", hue = 'ENTRETIEN', kind = \"count\", data = data).fig.suptitle('below 26 yrs')\n"
   ]
  },
  {
   "cell_type": "code",
   "execution_count": 42,
   "metadata": {},
   "outputs": [
    {
     "data": {
      "text/plain": [
       "<seaborn.axisgrid.FacetGrid at 0x7fdc7622b990>"
      ]
     },
     "execution_count": 42,
     "metadata": {},
     "output_type": "execute_result"
    },
    {
     "data": {
      "image/png": "[encoded data removed]",
      "text/plain": [
       "<Figure size 423.5x360 with 1 Axes>"
      ]
     },
     "metadata": {
      "needs_background": "light"
     },
     "output_type": "display_data"
    },
    {
     "data": {
      "image/png": "[encoded data removed]",
      "text/plain": [
       "<Figure size 423.5x360 with 1 Axes>"
      ]
     },
     "metadata": {
      "needs_background": "light"
     },
     "output_type": "display_data"
    },
    {
     "data": {
      "image/png": "[encoded data removed]",
      "text/plain": [
       "<Figure size 423.5x360 with 1 Axes>"
      ]
     },
     "metadata": {
      "needs_background": "light"
     },
     "output_type": "display_data"
    },
    {
     "data": {
      "image/png": "[encoded data removed]",
      "text/plain": [
       "<Figure size 423.5x360 with 1 Axes>"
      ]
     },
     "metadata": {
      "needs_background": "light"
     },
     "output_type": "display_data"
    }
   ],
   "source": [
    "#race\n",
    "data['PREN_MUSULMAN'] #muslim sound name\n",
    "data['ORIGINE_IM_1'] #immigrant\n",
    "data['ORIGINE_IM_2']#immigrant child\n",
    "data['ORIGINE_IM_12'] #immigrant or immigrant child\n",
    "data['ZUS_CUCS'] #Depried neighbour\n",
    "\n",
    "sns.catplot(x = \"PREN_MUSULMAN\", hue = 'ENTRETIEN', kind = \"count\", data = data)\n",
    "sns.catplot(x = \"ORIGINE_IM_1\", hue = 'ENTRETIEN', kind = \"count\", data = data)\n",
    "sns.catplot(x = \"ORIGINE_IM_2\", hue = 'ENTRETIEN', kind = \"count\", data = data)\n",
    "sns.catplot(x = \"ZUS_CUCS\", hue = 'ENTRETIEN', kind = \"count\", data = data)\n"
   ]
  },
  {
   "cell_type": "code",
   "execution_count": 43,
   "metadata": {},
   "outputs": [
    {
     "data": {
      "text/plain": [
       "<seaborn.axisgrid.FacetGrid at 0x7fdc7543f310>"
      ]
     },
     "execution_count": 43,
     "metadata": {},
     "output_type": "execute_result"
    },
    {
     "data": {
      "image/png": "[encoded data removed]",
      "text/plain": [
       "<Figure size 423.5x360 with 1 Axes>"
      ]
     },
     "metadata": {
      "needs_background": "light"
     },
     "output_type": "display_data"
    },
    {
     "data": {
      "image/png": "[encoded data removed]",
      "text/plain": [
       "<Figure size 423.5x360 with 1 Axes>"
      ]
     },
     "metadata": {
      "needs_background": "light"
     },
     "output_type": "display_data"
    }
   ],
   "source": [
    "#language\n",
    "data['langue_anglais']\n",
    "data['langue_arabe']\n",
    "data['langue_autres']\n",
    "\n",
    "sns.catplot(x = \"langue_anglais\", hue = 'ENTRETIEN', kind = \"count\", data = data)\n",
    "sns.catplot(x = \"langue_autres\", hue = 'ENTRETIEN', kind = \"count\", data = data)"
   ]
  },
  {
   "cell_type": "code",
   "execution_count": 63,
   "metadata": {},
   "outputs": [
    {
     "data": {
      "text/plain": [
       "0.05527235737433459"
      ]
     },
     "execution_count": 63,
     "metadata": {},
     "output_type": "execute_result"
    },
    {
     "data": {
      "image/png": "[encoded data removed]",
      "text/plain": [
       "<Figure size 423.5x360 with 1 Axes>"
      ]
     },
     "metadata": {
      "needs_background": "light"
     },
     "output_type": "display_data"
    }
   ],
   "source": [
    "data['permis'] #driving license\n",
    "sns.catplot(x = \"permis\", hue = 'ENTRETIEN', kind = \"count\", data = data).fig.suptitle('Driving Licence Vs Interview')\n",
    "data['permis'].corr(data['ENTRETIEN'])"
   ]
  },
  {
   "cell_type": "code",
   "execution_count": null,
   "metadata": {},
   "outputs": [],
   "source": []
  }
 ],
 "metadata": {
  "kernelspec": {
   "display_name": "Python 3",
   "language": "python",
   "name": "python3"
  },
  "language_info": {
   "codemirror_mode": {
    "name": "ipython",
    "version": 3
   },
   "file_extension": ".py",
   "mimetype": "text/x-python",
   "name": "python",
   "nbconvert_exporter": "python",
   "pygments_lexer": "ipython3",
   "version": "3.7.9"
  }
 },
 "nbformat": 4,
 "nbformat_minor": 4
}
