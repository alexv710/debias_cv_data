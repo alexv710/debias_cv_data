{
  "nbformat": 4,
  "nbformat_minor": 0,
  "metadata": {
    "colab": {
      "name": "Bias_AI_Assisted_CV_Screening.ipynb",
      "provenance": [],
      "collapsed_sections": [],
      "toc_visible": true,
      "include_colab_link": true
    },
    "kernelspec": {
      "display_name": "Python 3",
      "language": "python",
      "name": "python3"
    },
    "language_info": {
      "codemirror_mode": {
        "name": "ipython",
        "version": 3
      },
      "file_extension": ".py",
      "mimetype": "text/x-python",
      "name": "python",
      "nbconvert_exporter": "python",
      "pygments_lexer": "ipython3",
      "version": "3.8.8"
    }
  },
  "cells": [
    {
      "cell_type": "markdown",
      "metadata": {
        "id": "view-in-github",
        "colab_type": "text"
      },
      "source": [
        "<a href=\"https://colab.research.google.com/github/alexv710/debias_cv_data/blob/main/Bias_AI_Assisted_CV_Screening.ipynb\" target=\"_parent\"><img src=\"https://colab.research.google.com/assets/colab-badge.svg\" alt=\"Open In Colab\"/></a>"
      ]
    },
    {
      "cell_type": "markdown",
      "metadata": {
        "id": "HJJn1nhrmxOq"
      },
      "source": [
        "# Introduction\n",
        "\n",
        "In this colab we will explore the bias  in AI-assisted CV screening that could lead to illigal discrimination and experiment with different techniques to mitigate it. \n",
        "\n",
        "We will be using \"Unintended Effects of Anonymous Résumés\" dataset by [(Behaghel et al., 2015)](https://www.aeaweb.org/articles?id=10.1257/app.20140185).\n",
        "\n",
        "\n",
        "Notes: \n",
        "* We will be focusing only on gender as a proof of concept. However, these techniques for both identifying the bias and mitigating it could be applied to other protected groups. \n",
        "* In this dataset, gender is represented as a binary variable, where female is set to 1 and male is set to 0. "
      ]
    },
    {
      "cell_type": "markdown",
      "metadata": {
        "id": "68vbwJuanHfp"
      },
      "source": [
        "## Imports"
      ]
    },
    {
      "cell_type": "code",
      "metadata": {
        "id": "pWPPfS8TtfMG"
      },
      "source": [
        "import io\n",
        "import random\n",
        "\n",
        "import pandas as pd\n",
        "\n",
        "import numpy as np\n",
        "\n",
        "# plots and visualizations\n",
        "import seaborn as sns\n",
        "import matplotlib.pyplot as plt\n",
        "\n",
        "# sklearn\n",
        "from sklearn.model_selection import train_test_split\n",
        "from sklearn.metrics import confusion_matrix\n",
        "\n",
        "# tensorflow\n",
        "import tensorflow as tf\n",
        "from tensorflow import keras\n",
        "from tensorflow.keras import layers\n",
        "from tensorflow.keras.callbacks import ReduceLROnPlateau\n",
        "\n",
        "# To ignore future version warnings for seaborn distplot.\n",
        "import warnings\n",
        "warnings.simplefilter(action='ignore', category=FutureWarning)\n",
        "\n",
        "# Fixing the seed in all libraries for reproducible results\n",
        "random.seed(1)\n",
        "np.random.seed(1)\n",
        "tf.random.set_seed(1)"
      ],
      "execution_count": 48,
      "outputs": []
    },
    {
      "cell_type": "markdown",
      "metadata": {
        "id": "o2o0a8Ij3M8C"
      },
      "source": [
        "# Data Preprocessing"
      ]
    },
    {
      "cell_type": "code",
      "metadata": {
        "colab": {
          "base_uri": "https://localhost:8080/"
        },
        "id": "1aMoiVvsmdo7",
        "outputId": "75072e70-d5ad-41ec-f91f-395ef85d0e65"
      },
      "source": [
        "# apply the min-max scaling in Pandas using the .min() and .max() methods\n",
        "def min_max_scaling(df):\n",
        "    # copy the dataframe\n",
        "    df_norm = df.copy()\n",
        "    # apply min-max scaling\n",
        "    for column in df_norm.columns:\n",
        "        df_norm[column] = (df_norm[column] - df_norm[column].min()) / (df_norm[column].max() - df_norm[column].min())\n",
        "        \n",
        "    return df_norm\n",
        "\n",
        "# read the mainsample.dta file for further processing \n",
        "\n",
        "data = pd.io.stata.read_stata(\"data_candidates_mainsample.dta\")\n",
        "data.to_csv('data_candidates_mainsample.csv')\n",
        "\n",
        "# Import the mainsample via StataReader to use variable_labels (old version of the read_stata)\n",
        "\n",
        "data_stata = pd.io.stata.StataReader(\"data_candidates_mainsample.dta\")\n",
        "data_labels = data_stata.variable_labels()\n",
        "\n",
        "# Remove all columns in the dataset for which no labels exist\n",
        "# Those are mostly columns needed for p-tests and some matrix calculations in\n",
        "# Stata. The outputted labels are those that are kept in the data\n",
        "\n",
        "data = data.drop(columns=['CVAxORIGINE_IM_12', 'CVAxZUS_CUCS', 'CVAxZetI', 'C', 'CVA0',\\\n",
        "                          'p_offre1', 'control_manquant', 'ZouI_pred', 'ZouI0', 'ALE_16'])\n",
        "\n",
        "# Remove sampling weights (within and out of the experiment)\n",
        "\n",
        "data = data.drop(columns='POIDS_SEL')\n",
        "\n",
        "# Remove all the centered features\n",
        "\n",
        "data = data.drop(columns=['FEMME_c', 'a30m_c', 'a3049_c', 'a50p_c', 'dip_aucun_c',\\\n",
        "                          'dip_bepcap_c', 'dip_bac_c', 'dip_bac2p_c', 'recherche_LD_c', 'recherche_TLD_c'])\n",
        "\n",
        "# Remove all features that are not directly derivable from the CVs or that have missing data\n",
        "\n",
        "data = data.drop(columns=['RECRUTE', 'REFUSAL', 'codage_cv', 'ORIGINE_IM_1', 'ORIGINE_IM_2',\\\n",
        "                          'ORIGINE_IM_12', 'ID_OFFRE', 'ID_CANDIDAT', 'travail_etranger', 'duree_expro_offre'])\n",
        "\n",
        "# Remove additional features that seem to bring no value or are unclear in the methodology according to the original paper\n",
        "\n",
        "data = data.drop(columns=['CV_hesit_', 'CV_hesit', 'CV_note_7p', 'ZetI', 'permis', 'CV_attrayant_'])\n",
        "\n",
        "# Remove CV coding feature: CV_qualif -> adequate skills \n",
        "\n",
        "#data = data.drop(columns=['CV_qualif'])\n",
        "\n",
        "for key, value in data_labels.items():\n",
        "    for col in data.columns:\n",
        "        if key==col:\n",
        "            # print(key, ':    ', value)\n",
        "            if len(value)==0 or value.startswith('ID_OFFRE==') or value.startswith('Dummy for local job center'):\n",
        "                data = data.drop(columns=col)\n",
        "\n",
        "data['CV_qualif_sup'] = data['CV_qualif_sup'].fillna(0)\n",
        "data['CV_qualif_inf'] = data['CV_qualif_inf'].fillna(0)\n",
        "data['PREN_MUSULMAN'] = data['PREN_MUSULMAN'].fillna(0)\n",
        "data['ZUS_CUCS'] = data['ZUS_CUCS'].fillna(0)\n",
        "data['recherche_TLD'] = data['recherche_TLD'].fillna(0)\n",
        "\n",
        "data['etudes_etranger'] = data['etudes_etranger'].fillna(0)\n",
        "data['langue_anglais'] = data['langue_anglais'].fillna(0)\n",
        "data['langue_arabe'] = data['langue_arabe'].fillna(0)\n",
        "data['langue_autres'] = data['langue_autres'].fillna(0)\n",
        "data['CV_formation_'] = data['CV_formation_'].fillna(0)\n",
        "\n",
        "# derived from CV_experience_3p\n",
        "\n",
        "data['CV_experience_'] = data['CV_experience_'].fillna(0.5)\n",
        "\n",
        "# fill with 1 since missing records are not in the other age groups\n",
        "\n",
        "data['a26m'] = data['a26m'].fillna(1)\n",
        "\n",
        "# Assign medium grade for all unknown records\n",
        "data['CV_note_2'] = data['CV_note_2'].fillna(0)\n",
        "data['CV_note_3'] = data['CV_note_3'].fillna(1)\n",
        "data['CV_note_4'] = data['CV_note_4'].fillna(0)\n",
        "data['CV_note_5'] = data['CV_note_5'].fillna(0)\n",
        "\n",
        "for item in data:\n",
        "    if data[item].isna().sum() > 0:\n",
        "        print(item, data[item].isna().sum())\n",
        "        \n",
        "# Normalize remaining columns to values between 0 and 1\n",
        "# call the min_max_scaling function\n",
        "\n",
        "data = min_max_scaling(data)\n",
        "\n",
        "# Create a dataframe for the anonymized and not anonymized data\n",
        "\n",
        "X = pd.DataFrame()\n",
        "\n",
        "# Upsampling the interviewed entries\n",
        "\n",
        "for index, row in data.iterrows():\n",
        "    if row['ENTRETIEN'] == 1:\n",
        "        data = data.append(row)\n",
        "        data = data.append(row)\n",
        "        data = data.append(row)\n",
        "        data = data.append(row)\n",
        "        data = data.append(row)\n",
        "        data = data.append(row)\n",
        "        \n",
        "# Assign the interviewed column to our target vector\n",
        "\n",
        "y = data['ENTRETIEN']\n",
        "\n",
        "# Drop the Interviewed/hired & anonymized columns (hired is much dependend on the number of jobs available\n",
        "# and will currently not be considered as target label)\n",
        "\n",
        "X = data.drop(columns=['CVA', 'ENTRETIEN'])"
      ],
      "execution_count": 49,
      "outputs": [
        {
          "output_type": "stream",
          "text": [
            "CVA 203\n"
          ],
          "name": "stdout"
        }
      ]
    },
    {
      "cell_type": "markdown",
      "metadata": {
        "id": "E2_XJnP63M8G"
      },
      "source": [
        "### Data Preparation for models"
      ]
    },
    {
      "cell_type": "code",
      "metadata": {
        "colab": {
          "base_uri": "https://localhost:8080/",
          "height": 224
        },
        "id": "rgKAkwAZdp3I",
        "outputId": "3be30ecf-796b-4c6d-b612-7f54115903ee"
      },
      "source": [
        "# Train, Test split\n",
        "# Fixed random seed for debugging to avoid random splits\n",
        "X_train, X_test, y_train, y_test = train_test_split(X, y, test_size=.1, random_state=1)\n",
        "X_train.head()"
      ],
      "execution_count": 50,
      "outputs": [
        {
          "output_type": "execute_result",
          "data": {
            "text/html": [
              "<div>\n",
              "<style scoped>\n",
              "    .dataframe tbody tr th:only-of-type {\n",
              "        vertical-align: middle;\n",
              "    }\n",
              "\n",
              "    .dataframe tbody tr th {\n",
              "        vertical-align: top;\n",
              "    }\n",
              "\n",
              "    .dataframe thead th {\n",
              "        text-align: right;\n",
              "    }\n",
              "</style>\n",
              "<table border=\"1\" class=\"dataframe\">\n",
              "  <thead>\n",
              "    <tr style=\"text-align: right;\">\n",
              "      <th></th>\n",
              "      <th>PREN_MUSULMAN</th>\n",
              "      <th>ZUS_CUCS</th>\n",
              "      <th>ZouI</th>\n",
              "      <th>FEMME</th>\n",
              "      <th>a50p</th>\n",
              "      <th>a3049</th>\n",
              "      <th>a26m</th>\n",
              "      <th>dip_aucun</th>\n",
              "      <th>dip_bepcap</th>\n",
              "      <th>dip_bac</th>\n",
              "      <th>dip_bac2p</th>\n",
              "      <th>dip_bac2</th>\n",
              "      <th>dip_bac3p</th>\n",
              "      <th>recherche_LD</th>\n",
              "      <th>recherche_TLD</th>\n",
              "      <th>SALREV_SMIC_2</th>\n",
              "      <th>etudes_etranger</th>\n",
              "      <th>langue_anglais</th>\n",
              "      <th>langue_arabe</th>\n",
              "      <th>langue_autres</th>\n",
              "      <th>CV_inactivite</th>\n",
              "      <th>CV_qualif</th>\n",
              "      <th>CV_experience_3p</th>\n",
              "      <th>CV_note_2</th>\n",
              "      <th>CV_note_3</th>\n",
              "      <th>CV_note_4</th>\n",
              "      <th>CV_note_5</th>\n",
              "      <th>CV_qualif_sup</th>\n",
              "      <th>CV_qualif_inf</th>\n",
              "      <th>CV_experience_</th>\n",
              "      <th>CV_formation_</th>\n",
              "      <th>effent_200plus</th>\n",
              "      <th>service_nm</th>\n",
              "      <th>service_m</th>\n",
              "      <th>industrie</th>\n",
              "      <th>construction</th>\n",
              "      <th>cadre</th>\n",
              "      <th>profint</th>\n",
              "      <th>eoq</th>\n",
              "      <th>CDI</th>\n",
              "      <th>CNT_sup6m</th>\n",
              "      <th>poste_unique</th>\n",
              "    </tr>\n",
              "  </thead>\n",
              "  <tbody>\n",
              "    <tr>\n",
              "      <th>992</th>\n",
              "      <td>1.0</td>\n",
              "      <td>1.0</td>\n",
              "      <td>1.0</td>\n",
              "      <td>0.0</td>\n",
              "      <td>0.0</td>\n",
              "      <td>0.0</td>\n",
              "      <td>1.0</td>\n",
              "      <td>0.0</td>\n",
              "      <td>0.0</td>\n",
              "      <td>0.0</td>\n",
              "      <td>1.0</td>\n",
              "      <td>0.0</td>\n",
              "      <td>1.0</td>\n",
              "      <td>0.0</td>\n",
              "      <td>0.0</td>\n",
              "      <td>1.0</td>\n",
              "      <td>1.0</td>\n",
              "      <td>1.0</td>\n",
              "      <td>0.0</td>\n",
              "      <td>0.0</td>\n",
              "      <td>0.000000</td>\n",
              "      <td>1.000000</td>\n",
              "      <td>0.000000</td>\n",
              "      <td>0.0</td>\n",
              "      <td>0.0</td>\n",
              "      <td>1.0</td>\n",
              "      <td>0.0</td>\n",
              "      <td>0.0</td>\n",
              "      <td>0.0</td>\n",
              "      <td>0.428571</td>\n",
              "      <td>0.25</td>\n",
              "      <td>0.0</td>\n",
              "      <td>0.0</td>\n",
              "      <td>1.0</td>\n",
              "      <td>0.0</td>\n",
              "      <td>0.0</td>\n",
              "      <td>0.0</td>\n",
              "      <td>0.0</td>\n",
              "      <td>0.0</td>\n",
              "      <td>0.0</td>\n",
              "      <td>0.0</td>\n",
              "      <td>1.0</td>\n",
              "    </tr>\n",
              "    <tr>\n",
              "      <th>1165</th>\n",
              "      <td>0.0</td>\n",
              "      <td>0.0</td>\n",
              "      <td>0.0</td>\n",
              "      <td>0.0</td>\n",
              "      <td>0.0</td>\n",
              "      <td>1.0</td>\n",
              "      <td>0.0</td>\n",
              "      <td>0.0</td>\n",
              "      <td>1.0</td>\n",
              "      <td>0.0</td>\n",
              "      <td>0.0</td>\n",
              "      <td>0.0</td>\n",
              "      <td>0.0</td>\n",
              "      <td>0.0</td>\n",
              "      <td>0.0</td>\n",
              "      <td>0.0</td>\n",
              "      <td>0.0</td>\n",
              "      <td>0.0</td>\n",
              "      <td>0.0</td>\n",
              "      <td>0.0</td>\n",
              "      <td>1.000000</td>\n",
              "      <td>1.000000</td>\n",
              "      <td>1.000000</td>\n",
              "      <td>0.0</td>\n",
              "      <td>0.0</td>\n",
              "      <td>1.0</td>\n",
              "      <td>0.0</td>\n",
              "      <td>0.0</td>\n",
              "      <td>0.0</td>\n",
              "      <td>1.000000</td>\n",
              "      <td>0.50</td>\n",
              "      <td>0.0</td>\n",
              "      <td>0.0</td>\n",
              "      <td>1.0</td>\n",
              "      <td>0.0</td>\n",
              "      <td>0.0</td>\n",
              "      <td>0.0</td>\n",
              "      <td>1.0</td>\n",
              "      <td>0.0</td>\n",
              "      <td>1.0</td>\n",
              "      <td>1.0</td>\n",
              "      <td>1.0</td>\n",
              "    </tr>\n",
              "    <tr>\n",
              "      <th>1426</th>\n",
              "      <td>0.0</td>\n",
              "      <td>0.0</td>\n",
              "      <td>0.0</td>\n",
              "      <td>1.0</td>\n",
              "      <td>0.0</td>\n",
              "      <td>1.0</td>\n",
              "      <td>0.0</td>\n",
              "      <td>0.0</td>\n",
              "      <td>0.0</td>\n",
              "      <td>0.0</td>\n",
              "      <td>1.0</td>\n",
              "      <td>1.0</td>\n",
              "      <td>0.0</td>\n",
              "      <td>0.0</td>\n",
              "      <td>0.0</td>\n",
              "      <td>0.0</td>\n",
              "      <td>0.0</td>\n",
              "      <td>0.0</td>\n",
              "      <td>0.0</td>\n",
              "      <td>0.0</td>\n",
              "      <td>0.329512</td>\n",
              "      <td>0.545255</td>\n",
              "      <td>0.582851</td>\n",
              "      <td>0.0</td>\n",
              "      <td>1.0</td>\n",
              "      <td>0.0</td>\n",
              "      <td>0.0</td>\n",
              "      <td>0.0</td>\n",
              "      <td>0.0</td>\n",
              "      <td>0.000000</td>\n",
              "      <td>0.00</td>\n",
              "      <td>1.0</td>\n",
              "      <td>0.0</td>\n",
              "      <td>0.0</td>\n",
              "      <td>0.0</td>\n",
              "      <td>0.0</td>\n",
              "      <td>0.0</td>\n",
              "      <td>0.0</td>\n",
              "      <td>0.0</td>\n",
              "      <td>1.0</td>\n",
              "      <td>1.0</td>\n",
              "      <td>0.0</td>\n",
              "    </tr>\n",
              "    <tr>\n",
              "      <th>102</th>\n",
              "      <td>1.0</td>\n",
              "      <td>1.0</td>\n",
              "      <td>1.0</td>\n",
              "      <td>0.0</td>\n",
              "      <td>0.0</td>\n",
              "      <td>1.0</td>\n",
              "      <td>0.0</td>\n",
              "      <td>1.0</td>\n",
              "      <td>0.0</td>\n",
              "      <td>0.0</td>\n",
              "      <td>0.0</td>\n",
              "      <td>0.0</td>\n",
              "      <td>0.0</td>\n",
              "      <td>0.0</td>\n",
              "      <td>0.0</td>\n",
              "      <td>1.0</td>\n",
              "      <td>0.0</td>\n",
              "      <td>0.0</td>\n",
              "      <td>0.0</td>\n",
              "      <td>0.0</td>\n",
              "      <td>1.000000</td>\n",
              "      <td>0.000000</td>\n",
              "      <td>0.000000</td>\n",
              "      <td>1.0</td>\n",
              "      <td>0.0</td>\n",
              "      <td>0.0</td>\n",
              "      <td>0.0</td>\n",
              "      <td>0.0</td>\n",
              "      <td>1.0</td>\n",
              "      <td>0.428571</td>\n",
              "      <td>0.50</td>\n",
              "      <td>0.0</td>\n",
              "      <td>0.0</td>\n",
              "      <td>1.0</td>\n",
              "      <td>0.0</td>\n",
              "      <td>0.0</td>\n",
              "      <td>0.0</td>\n",
              "      <td>0.0</td>\n",
              "      <td>1.0</td>\n",
              "      <td>1.0</td>\n",
              "      <td>1.0</td>\n",
              "      <td>1.0</td>\n",
              "    </tr>\n",
              "    <tr>\n",
              "      <th>572</th>\n",
              "      <td>0.0</td>\n",
              "      <td>0.0</td>\n",
              "      <td>0.0</td>\n",
              "      <td>0.0</td>\n",
              "      <td>1.0</td>\n",
              "      <td>0.0</td>\n",
              "      <td>0.0</td>\n",
              "      <td>0.0</td>\n",
              "      <td>0.0</td>\n",
              "      <td>0.0</td>\n",
              "      <td>1.0</td>\n",
              "      <td>0.0</td>\n",
              "      <td>1.0</td>\n",
              "      <td>1.0</td>\n",
              "      <td>0.0</td>\n",
              "      <td>0.0</td>\n",
              "      <td>0.0</td>\n",
              "      <td>1.0</td>\n",
              "      <td>0.0</td>\n",
              "      <td>0.0</td>\n",
              "      <td>0.000000</td>\n",
              "      <td>1.000000</td>\n",
              "      <td>1.000000</td>\n",
              "      <td>0.0</td>\n",
              "      <td>1.0</td>\n",
              "      <td>0.0</td>\n",
              "      <td>0.0</td>\n",
              "      <td>0.0</td>\n",
              "      <td>0.0</td>\n",
              "      <td>0.714286</td>\n",
              "      <td>0.50</td>\n",
              "      <td>1.0</td>\n",
              "      <td>0.0</td>\n",
              "      <td>1.0</td>\n",
              "      <td>0.0</td>\n",
              "      <td>0.0</td>\n",
              "      <td>0.0</td>\n",
              "      <td>1.0</td>\n",
              "      <td>0.0</td>\n",
              "      <td>1.0</td>\n",
              "      <td>1.0</td>\n",
              "      <td>1.0</td>\n",
              "    </tr>\n",
              "  </tbody>\n",
              "</table>\n",
              "</div>"
            ],
            "text/plain": [
              "      PREN_MUSULMAN  ZUS_CUCS  ZouI  FEMME  ...  eoq  CDI  CNT_sup6m  poste_unique\n",
              "992             1.0       1.0   1.0    0.0  ...  0.0  0.0        0.0           1.0\n",
              "1165            0.0       0.0   0.0    0.0  ...  0.0  1.0        1.0           1.0\n",
              "1426            0.0       0.0   0.0    1.0  ...  0.0  1.0        1.0           0.0\n",
              "102             1.0       1.0   1.0    0.0  ...  1.0  1.0        1.0           1.0\n",
              "572             0.0       0.0   0.0    0.0  ...  0.0  1.0        1.0           1.0\n",
              "\n",
              "[5 rows x 42 columns]"
            ]
          },
          "metadata": {
            "tags": []
          },
          "execution_count": 50
        }
      ]
    },
    {
      "cell_type": "markdown",
      "metadata": {
        "id": "jWIqWexi3M8K"
      },
      "source": [
        "## Neural Network"
      ]
    },
    {
      "cell_type": "markdown",
      "metadata": {
        "id": "uEVp3Kri1LYd"
      },
      "source": [
        "The neural network is built using Keras with one input layer with the activation function relu and one output layer using a sigmoid activation function for binary classification. In addition two hidden layers are added, all with relu activation function."
      ]
    },
    {
      "cell_type": "code",
      "metadata": {
        "id": "wDHe5CZ-di5V"
      },
      "source": [
        "# define and train keras NN model, returns a trained model\n",
        "def build_train_model(X, y):\n",
        " \n",
        "  # re-fixing the seed in all libraries for reproducible results\n",
        "  random.seed(1)\n",
        "  np.random.seed(1)\n",
        "  tf.random.set_seed(1)\n",
        "\n",
        "  # define model\n",
        "  model = keras.Sequential(\n",
        "      [\n",
        "          # input layer\n",
        "          layers.Dense(56, input_dim=X_train.shape[1], activation='relu'),\n",
        "\n",
        "          # hidden layers  \n",
        "          layers.Dense(24, activation='relu'),\n",
        "          layers.Dense(12, activation='relu'),\n",
        "          \n",
        "          # output layer\n",
        "          layers.Dense(1, activation='sigmoid')\n",
        "      \n",
        "      ]\n",
        "  )\n",
        "\n",
        "  # compile model\n",
        "  model.compile(optimizer=\"adam\", loss=\"binary_crossentropy\", metrics=[\"mse\", 'accuracy'])\n",
        "\n",
        "  # Learning Rate Annealer\n",
        "  lrr = ReduceLROnPlateau(monitor='val_loss',\n",
        "                        factor=.01,\n",
        "                        patience=4,\n",
        "                        min_lr=1e-8,\n",
        "                        verbose=0)\n",
        "  # Early stopping\n",
        "  es = tf.keras.callbacks.EarlyStopping(monitor=\"val_loss\",\\\n",
        "                                        patience=8, verbose=1, mode=\"auto\", baseline=None, restore_best_weights=True)\n",
        "\n",
        "  # fit model\n",
        "  model.fit(np.array(X), np.array(y), epochs=100, callbacks=[es, lrr], validation_split=0.2, shuffle=True, verbose=0)\n",
        "\n",
        "  # return trained model\n",
        "  return model"
      ],
      "execution_count": 51,
      "outputs": []
    },
    {
      "cell_type": "code",
      "metadata": {
        "id": "xKolckEMaO9X"
      },
      "source": [
        " # Evaluate the model performance, takes a trained model and test-set\n",
        " def evaluate_model(model, X_test,y_test):\n",
        "  # print model accuracy on test-set\n",
        "  _, _, accuracy = model.evaluate(X_test, y_test,verbose=0)\n",
        "  print('Accuracy on test-set: %.2f%%' % (accuracy*100))\n",
        "  # making a prediction on test data\n",
        "  y_test_pred = model.predict(X_test)\n",
        "  # converting the sigmoid output to binary class\n",
        "  y_test_pred = [1 if y_test_pred[i]>0.5  else 0 for i in range(len(y_test_pred))]\n",
        "  # print confusion matrix\n",
        "  print('Confusion matrix:\\n',confusion_matrix(y_test, y_test_pred))"
      ],
      "execution_count": 52,
      "outputs": []
    },
    {
      "cell_type": "code",
      "metadata": {
        "colab": {
          "base_uri": "https://localhost:8080/"
        },
        "id": "rEJa-45mIOd1",
        "outputId": "513cca1a-2c67-48ab-ba73-f7897ee09b94"
      },
      "source": [
        "model = build_train_model(X_train,y_train)\n",
        "#model.summary()\n",
        "evaluate_model(model, X_test,y_test)"
      ],
      "execution_count": 53,
      "outputs": [
        {
          "output_type": "stream",
          "text": [
            "Restoring model weights from the end of the best epoch.\n",
            "Epoch 00032: early stopping\n",
            "Accuracy on test-set: 96.48%\n",
            "Confusion matrix:\n",
            " [[128   8]\n",
            " [  1 119]]\n"
          ],
          "name": "stdout"
        }
      ]
    },
    {
      "cell_type": "markdown",
      "metadata": {
        "id": "EIKvkOGI3M8I"
      },
      "source": [
        "# Investigating bias in models predictions\n",
        "\n",
        "In this section we will focus on exploring gender bias.\n",
        "\n",
        "## Methodology:\n",
        "1. Create a modified test-set, where we have two copies of each example once as male and another as female.\n",
        "\n",
        "2. Testing the model with the modified test-set\n",
        "\n",
        "3. Plotting the results with the modified test-set \\\\\n",
        "  3.1. Plot a histogram of hiring probability of each gender. \\\\\n",
        "  3.2. Calculate difference in  probabilities between coresponding examples (same example with inverted gender). \\\\\n",
        "  3.3. Plot density of this difference. \\\\\n",
        "  \n",
        "If gender markers is not considered in the model predictions, the density plot should be centered around 0 i.e. no difference. the bigger the difference away from 0, the more biased the model.\n",
        "\n"
      ]
    },
    {
      "cell_type": "markdown",
      "metadata": {
        "id": "K60cgMN_R6Y5"
      },
      "source": [
        "#### Plot and auxiliary functions"
      ]
    },
    {
      "cell_type": "code",
      "metadata": {
        "id": "MgYRtLTBOy92"
      },
      "source": [
        "# Returns the probability of being interviewed for all test examples,\n",
        "# when the gender field is set to female vs. male.\n",
        "def get_gender_prob(model, X_test):\n",
        "  # copying all applicants and changing the gender field to female\n",
        "  fem_test = X_test.copy()\n",
        "  fem_test = fem_test.assign(FEMME=1)\n",
        "\n",
        "  # copying all applicants and changing the gender field to male\n",
        "  m_test = X_test.copy()\n",
        "  m_test = m_test.assign(FEMME=0)\n",
        "\n",
        "  # sanity check\n",
        "  #print(sum(m_test['FEMME']==1), m_test.shape,X_test.shape)\n",
        "\n",
        "  # get predictions probability for the interviewed class, for both data-subsets\n",
        "  fem_prob = model.predict(fem_test)\n",
        "  m_prob = model.predict(m_test)\n",
        "  return fem_prob, m_prob"
      ],
      "execution_count": 54,
      "outputs": []
    },
    {
      "cell_type": "code",
      "metadata": {
        "id": "C1ak9UZsXDJ1"
      },
      "source": [
        "# Plots histogram of probability of being interviewed for both genders.\n",
        "def plot_hist_prob(fem_prob, m_prob):\n",
        "  # Sub-setting the interviewed class probability for the histogram.\n",
        "  plt.figure(figsize=(6,4))\n",
        "  plt.hist(fem_prob[:,0], bins=10, alpha=0.5, facecolor='darkgoldenrod', label=\"Female\")\n",
        "  plt.hist(m_prob[:,0], bins=10, alpha=0.5, facecolor='royalblue', label=\"Male\")\n",
        "\n",
        "\n",
        "  plt.xlabel(\"Probability\", size=14)\n",
        "  plt.ylabel(\"Count\", size=14)\n",
        "  plt.title(\"Female applicants interview prob. vs. male applicants\")\n",
        "  plt.legend(loc='upper right')\n",
        "  # plt.savefig(\"hiring_prob_initial_model.png\")"
      ],
      "execution_count": 55,
      "outputs": []
    },
    {
      "cell_type": "code",
      "metadata": {
        "id": "ED4vuNlXlSOp"
      },
      "source": [
        "# Computes the difference between interview probability for each sample when\n",
        "# the gender field is set to female vs. male (0 means no difference, +ve means\n",
        "# higher probability when the field was set to male, and vice versa).\n",
        "# Plots density of this difference.\n",
        "def plot_density_prob_diff(fem_prob, m_prob):\n",
        "  # number of times where being a male increased the interview probability.\n",
        "  diff = (m_prob[:,0]-fem_prob[:,0])\n",
        "  x0 = -0.3\n",
        "  x1 = 0.3\n",
        "\n",
        "  #plotting the PDF (do this before plotting anything else)\n",
        "  ax = sns.distplot(diff, hist=False,color='royalblue')\n",
        "  kde_x, kde_y = ax.lines[0].get_data()\n",
        "\n",
        "  #plotting the two lines\n",
        "  p1 = plt.axvline(x=x0,color='darkgoldenrod')\n",
        "  p2 = plt.axvline(x=x1,color='darkgoldenrod')\n",
        "\n",
        "\n",
        "  ax.fill_between(kde_x, kde_y, where=(kde_x<x0) | (kde_x>x1) , \n",
        "                  interpolate=True, color='darkgoldenrod')\n",
        "\n",
        "\n",
        "  ax.set_yticks(ticks=np.arange(0,2.5,0.1),minor=True)\n",
        "  # Add the grid\n",
        "  ax.grid(which='minor', axis='y', linestyle='-')\n",
        "  ax.grid(which='major', axis='y', linestyle='-')\n",
        "  ax.set_xlim(-1.5,1.5)\n",
        "  ax.set_ylim(0,2.5)\n",
        "\n",
        "  plt.xlabel(\"(male interview prob.) - (female interview prob.)\", size=14)\n",
        "  plt.ylabel(\"Density\", size=14)\n",
        "  plt.title(\"Density plot of difference in interview prob.\")\n",
        "  plt.text(-1, 0.4, (\"Female > Male\\n%d\" % sum(diff < -0.3)),horizontalalignment='center')\n",
        "  plt.text(1, 0.4, (\"Male > Female\\n%d\" % sum(diff > 0.3)),horizontalalignment='center')\n",
        "  plt.text(0, 0.4, (\"Male\\n≈\\nFemale\\n%d\" % (diff.shape[0]-sum(diff < -0.3)-sum(diff > 0.3))), horizontalalignment='center')\n",
        "\n",
        "  plt.show()\n",
        "\n",
        "# plot_density_prob_diff(fem_prob, m_prob)"
      ],
      "execution_count": 56,
      "outputs": []
    },
    {
      "cell_type": "code",
      "metadata": {
        "id": "l1GbUXFR5m8f"
      },
      "source": [
        "def print_gender_stats(data):\n",
        "  fem_interview = [data[(data['FEMME']==1) & (data['ENTRETIEN']==1)],\n",
        "                data[(data['FEMME']==1) & (data['ENTRETIEN']==0)]]\n",
        "  m_interview = [data[(data['FEMME']==0) & (data['ENTRETIEN']==1)],\n",
        "                data[(data['FEMME']==0) & (data['ENTRETIEN']==0)]]\n",
        "\n",
        "  print('# females interviewed %d, # males interviewed %d.\\n'\n",
        "        '# females not interviewed %d, # males not interviewed %d.\\n'\n",
        "        '# females interviewed ratio %.3f, # males interviewed ratio %.3f.' \n",
        "        %(fem_interview[0].shape[0], m_interview[0].shape[0],\n",
        "          fem_interview[1].shape[0], m_interview[1].shape[0],\n",
        "          (fem_interview[0].shape[0]/(fem_interview[0].shape[0]+fem_interview[1].shape[0])), \n",
        "          (m_interview[0].shape[0]/(m_interview[0].shape[0]+m_interview[1].shape[0]))))"
      ],
      "execution_count": 57,
      "outputs": []
    },
    {
      "cell_type": "code",
      "metadata": {
        "id": "fuvcXPTw12N4"
      },
      "source": [
        "def print_qualification_stats(data):\n",
        "  fem_qualif = [data[(data['FEMME']==1) & (data['CV_qualif']==1)],\n",
        "                 data[(data['FEMME']==1) & (data['CV_qualif']>0) & (data['CV_qualif']<1)],\n",
        "            data[(data['FEMME']==1) & (data['CV_qualif']==0)]]\n",
        "  m_qualif = [data[(data['FEMME']==0) & (data['CV_qualif']==1)],\n",
        "                  data[(data['FEMME']==0) & (data['CV_qualif']>0) & (data['CV_qualif']<1)],\n",
        "            data[(data['FEMME']==0) & (data['CV_qualif']==0)]]\n",
        "  print('# females with qualif=1: %d, # males qualif=1: %d.\\n'\n",
        "        '# females with qualif=0.5: %d, # males qualif=0.5: %d.\\n'\n",
        "        '# females with qualif=0: %d, # males qualif=0: %d.\\n'\n",
        "        %(fem_qualif[0].shape[0], m_qualif[0].shape[0],\n",
        "          fem_qualif[1].shape[0], m_qualif[1].shape[0],\n",
        "          fem_qualif[2].shape[0], m_qualif[2].shape[0]))\n",
        "\n"
      ],
      "execution_count": 58,
      "outputs": []
    },
    {
      "cell_type": "markdown",
      "metadata": {
        "id": "GiyzWX_BXDJ0"
      },
      "source": [
        "### Plot difference in NN probabilities"
      ]
    },
    {
      "cell_type": "code",
      "metadata": {
        "colab": {
          "base_uri": "https://localhost:8080/",
          "height": 299
        },
        "id": "BpM90ub1NVpk",
        "outputId": "b499ef30-1b1f-402b-c44f-df7cf6d70efb"
      },
      "source": [
        "fem_prob, m_prob = get_gender_prob(model, X_test)\n",
        "plot_hist_prob(fem_prob, m_prob)"
      ],
      "execution_count": 59,
      "outputs": [
        {
          "output_type": "display_data",
          "data": {
            "image/png": "[encoded data removed]",
            "text/plain": [
              "<Figure size 432x288 with 1 Axes>"
            ]
          },
          "metadata": {
            "tags": [],
            "needs_background": "light"
          }
        }
      ]
    },
    {
      "cell_type": "markdown",
      "metadata": {
        "id": "HazrnDjfXDJ3"
      },
      "source": [
        "From the above, it looks like # females with very low probabilities are more than males and # females in high probabilities are lower than males."
      ]
    },
    {
      "cell_type": "markdown",
      "metadata": {
        "id": "owzrV885lL7y"
      },
      "source": [
        " Compute the difference between interview probability for each sample when\n",
        " the gender field is set to female vs. male (0 means no difference, +ve means\n",
        " higher probability when the field was set to male, and vice versa) and\n",
        " plot the density of this difference."
      ]
    },
    {
      "cell_type": "code",
      "metadata": {
        "colab": {
          "base_uri": "https://localhost:8080/",
          "height": 299
        },
        "id": "51B2BG-xPmzF",
        "outputId": "c3439025-c05e-4951-d1e8-221deb6c14e5"
      },
      "source": [
        "plot_density_prob_diff(fem_prob, m_prob)"
      ],
      "execution_count": 60,
      "outputs": [
        {
          "output_type": "display_data",
          "data": {
            "image/png": "[encoded data removed]",
            "text/plain": [
              "<Figure size 432x288 with 1 Axes>"
            ]
          },
          "metadata": {
            "tags": [],
            "needs_background": "light"
          }
        }
      ]
    },
    {
      "cell_type": "markdown",
      "metadata": {
        "id": "2ZCfYRfZ9Lrh"
      },
      "source": [
        "# De-biasing the model predictions\n",
        "\n",
        "\n",
        "In this section we will configure the training-set in order to de-bias the model predictions.\n",
        "\n",
        "In the literature there are different techniques to handle the bias originating from imbalanced training data  (e.g. the gender gap in some fields as in [Amazon's AI recruiting tool](https://www.reuters.com/article/us-amazon-com-jobs-automation-insight-idUSKCN1MK08G)):\n",
        "\n",
        "* **Anonymization** to remove the gender markers. However, research have shown that perferct anonymization is a difficult problem, since models can  infer gender not only from name but also from hobbies, university, etc. \\\\\n",
        "In this project we did not experiment with anonymization since we are dealing with the preprocessed data and we do not have raw data (e.g. CV text) that includes the gender markers, we only have gender as a binary value.\n",
        "* **Sampling** to adjust the training-set distribution, by downsampling the overrepresented group or oversampling the underrepresented group.\n",
        "* **Introducing synthetic data** in the training-set to deter the model from learning a relationship between a protected group (in our case gender)) with the predictions [(Sun, et al. 2019).](https://www.aclweb.org/anthology/P19-1159/). \n",
        "\n",
        "In the following subsection, we present our experiments with both sampling and synthetic data techniques.\n",
        "\n"
      ]
    },
    {
      "cell_type": "markdown",
      "metadata": {
        "id": "w86sonpsyw7k"
      },
      "source": [
        "## Sampling experiments\n",
        "\n",
        "In this section, we experiment with different ways of balancing the training dataset, through **downsampling** the overrepresented group (e.g. dropping some training examples with male candidates) or **oversampling** the underrespresented group (e.g. using the same training example with female candidates multiple times in every epoch).\n",
        "\n",
        "The balancing could be done across different dimensions, for example when grouping by some attributes (such as \"is interviewed?\" and/or \"adequate skills ranking score\") , each group has an equal number of each gender."
      ]
    },
    {
      "cell_type": "markdown",
      "metadata": {
        "id": "0rRPfgItbgDP"
      },
      "source": [
        "### Downsampling data grouped by \"is interviewed?\" (y-label)\n",
        "\n",
        "The y-label is the `ENTRETIEN` in the dataset."
      ]
    },
    {
      "cell_type": "code",
      "metadata": {
        "colab": {
          "base_uri": "https://localhost:8080/"
        },
        "id": "2zuhxqYkbgDQ",
        "outputId": "8d371dfe-8491-4075-e91d-99b63173a12e"
      },
      "source": [
        "# concatenate the data X,y for easier handling training examples.\n",
        "data = X_train.copy()\n",
        "data['ENTRETIEN'] = y_train.copy()\n",
        "\n",
        "print_gender_stats(data)"
      ],
      "execution_count": 61,
      "outputs": [
        {
          "output_type": "stream",
          "text": [
            "# females interviewed 562, # males interviewed 578.\n",
            "# females not interviewed 514, # males not interviewed 641.\n",
            "# females interviewed ratio 0.522, # males interviewed ratio 0.474.\n"
          ],
          "name": "stdout"
        }
      ]
    },
    {
      "cell_type": "markdown",
      "metadata": {
        "id": "7lwehIpLbgDQ"
      },
      "source": [
        "#### Creating equally distributed training-set"
      ]
    },
    {
      "cell_type": "code",
      "metadata": {
        "colab": {
          "base_uri": "https://localhost:8080/"
        },
        "id": "MdmjnbY9bgDQ",
        "outputId": "85ec6c86-c94f-40a1-df82-f086d714847c"
      },
      "source": [
        "# copy all females' examples\n",
        "data_balanced = data[data['FEMME']==1]\n",
        "# copy equal number of males' examples for interview/not interview variable\n",
        "fem_interview = [data[(data['FEMME']==1) & (data['ENTRETIEN']==1)],\n",
        "                 data[(data['FEMME']==1) & (data['ENTRETIEN']==0)]]\n",
        "m_interview = [data[(data['FEMME']==0) & (data['ENTRETIEN']==1)],\n",
        "                 data[(data['FEMME']==0) & (data['ENTRETIEN']==0)]]\n",
        "data_balanced = data_balanced.append(\n",
        "    [m_interview[0][:fem_interview[0].shape[0]],\n",
        "     m_interview[1][:fem_interview[1].shape[0]]])\n",
        "\n",
        "# shuffle the dataset\n",
        "data_balanced = data_balanced.sample(frac=1).reset_index(drop=True)\n",
        "\n",
        "# Printing the balanced stats.\n",
        "print_gender_stats(data_balanced)"
      ],
      "execution_count": 62,
      "outputs": [
        {
          "output_type": "stream",
          "text": [
            "# females interviewed 562, # males interviewed 562.\n",
            "# females not interviewed 514, # males not interviewed 514.\n",
            "# females interviewed ratio 0.522, # males interviewed ratio 0.522.\n"
          ],
          "name": "stdout"
        }
      ]
    },
    {
      "cell_type": "code",
      "metadata": {
        "id": "Vk2HeYxobgDR"
      },
      "source": [
        "# Removing the y-label from model input.\n",
        "y_train_balanced = data_balanced['ENTRETIEN']\n",
        "X_train_balanced = data_balanced.loc[:, data_balanced.columns != 'ENTRETIEN']"
      ],
      "execution_count": 63,
      "outputs": []
    },
    {
      "cell_type": "markdown",
      "metadata": {
        "id": "AD9pZWzZbgDR"
      },
      "source": [
        "#### Train with balanced data"
      ]
    },
    {
      "cell_type": "code",
      "metadata": {
        "colab": {
          "base_uri": "https://localhost:8080/"
        },
        "id": "3bM1nk3ubgDS",
        "outputId": "fc4acdda-e812-4ecf-d2a2-93f52ea1c54c"
      },
      "source": [
        "model_balanced = build_train_model(X_train_balanced,y_train_balanced)\n",
        "evaluate_model(model_balanced,X_test,y_test)"
      ],
      "execution_count": 64,
      "outputs": [
        {
          "output_type": "stream",
          "text": [
            "Restoring model weights from the end of the best epoch.\n",
            "Epoch 00030: early stopping\n",
            "Accuracy on test-set: 95.31%\n",
            "Confusion matrix:\n",
            " [[125  11]\n",
            " [  1 119]]\n"
          ],
          "name": "stdout"
        }
      ]
    },
    {
      "cell_type": "markdown",
      "metadata": {
        "id": "vKvUTQa9bgDT"
      },
      "source": [
        "#### Testing bias in the updated model"
      ]
    },
    {
      "cell_type": "code",
      "metadata": {
        "colab": {
          "base_uri": "https://localhost:8080/",
          "height": 299
        },
        "id": "kbp4uV1VQhrf",
        "outputId": "0821171f-4cf6-47db-91f3-108d233ea789"
      },
      "source": [
        "# Returns the probability of being interviewed for all test examples,\n",
        "# when the gender field is set to female vs. male.\n",
        "fem_prob, m_prob = get_gender_prob(model_balanced, X_test)\n",
        "\n",
        "# Plots histogram of probability of being interviewed for both genders.\n",
        "plot_hist_prob(fem_prob, m_prob)"
      ],
      "execution_count": 65,
      "outputs": [
        {
          "output_type": "display_data",
          "data": {
            "image/png": "[encoded data removed]",
            "text/plain": [
              "<Figure size 432x288 with 1 Axes>"
            ]
          },
          "metadata": {
            "tags": [],
            "needs_background": "light"
          }
        }
      ]
    },
    {
      "cell_type": "code",
      "metadata": {
        "colab": {
          "base_uri": "https://localhost:8080/",
          "height": 299
        },
        "id": "dNg6rBu0Qhrg",
        "outputId": "62a8f29f-b8c3-4090-a59c-6d68c2fd7a89"
      },
      "source": [
        "# For each example, compute ((male interview prob.) - (female interview prob.))\n",
        "# and plot this difference.\n",
        "plot_density_prob_diff(fem_prob, m_prob)"
      ],
      "execution_count": 66,
      "outputs": [
        {
          "output_type": "display_data",
          "data": {
            "image/png": "[encoded data removed]",
            "text/plain": [
              "<Figure size 432x288 with 1 Axes>"
            ]
          },
          "metadata": {
            "tags": [],
            "needs_background": "light"
          }
        }
      ]
    },
    {
      "cell_type": "markdown",
      "metadata": {
        "id": "FfcUZM_chPeO"
      },
      "source": [
        "### Oversampling data grouped by \"is interviewed?\" (y-label)\n",
        "\n",
        "The y-label is the `ENTRETIEN` in the dataset."
      ]
    },
    {
      "cell_type": "code",
      "metadata": {
        "id": "jVE6mc1chPeP"
      },
      "source": [
        "# concatenate the data X,y for easier handling training examples.\n",
        "data = X_train.copy()\n",
        "data['ENTRETIEN'] = y_train.copy()\n",
        "\n",
        "#print_gender_stats(data_balanced)"
      ],
      "execution_count": 67,
      "outputs": []
    },
    {
      "cell_type": "markdown",
      "metadata": {
        "id": "0rF8OsTWhPeR"
      },
      "source": [
        "#### Creating equally distributed training-set\n"
      ]
    },
    {
      "cell_type": "code",
      "metadata": {
        "colab": {
          "base_uri": "https://localhost:8080/"
        },
        "id": "9cRrhh3zhPeR",
        "outputId": "b0956268-305d-4b06-faca-de50b524c57e"
      },
      "source": [
        "# copy all  examples\n",
        "data_balanced = data.copy()\n",
        "\n",
        "fem_interview = [data[(data['FEMME']==1) & (data['ENTRETIEN']==1)],\n",
        "                 data[(data['FEMME']==1) & (data['ENTRETIEN']==0)]]\n",
        "m_interview = [data[(data['FEMME']==0) & (data['ENTRETIEN']==1)],\n",
        "                 data[(data['FEMME']==0) & (data['ENTRETIEN']==0)]]\n",
        "\n",
        "# add examples to match the number of female applicant with males \n",
        "# for interview/not interview variable\n",
        "data_balanced = data_balanced.append(\n",
        "    [fem_interview[0][:m_interview[0].shape[0]-fem_interview[0].shape[0]],\n",
        "     fem_interview[1][:m_interview[1].shape[0]-fem_interview[1].shape[0]]])\n",
        "\n",
        "# shuffle the dataset\n",
        "data_balanced = data_balanced.sample(frac=1).reset_index(drop=True)\n",
        "\n",
        "# Printing the balanced stats.\n",
        "print_gender_stats(data_balanced)"
      ],
      "execution_count": 68,
      "outputs": [
        {
          "output_type": "stream",
          "text": [
            "# females interviewed 578, # males interviewed 578.\n",
            "# females not interviewed 641, # males not interviewed 641.\n",
            "# females interviewed ratio 0.474, # males interviewed ratio 0.474.\n"
          ],
          "name": "stdout"
        }
      ]
    },
    {
      "cell_type": "code",
      "metadata": {
        "id": "nMA4Ujw3hPeS"
      },
      "source": [
        "# Removing the y-label from model input.\n",
        "y_train_balanced = data_balanced['ENTRETIEN']\n",
        "X_train_balanced = data_balanced.loc[:, data_balanced.columns != 'ENTRETIEN']"
      ],
      "execution_count": 69,
      "outputs": []
    },
    {
      "cell_type": "markdown",
      "metadata": {
        "id": "b8NM3mUZhPeS"
      },
      "source": [
        "#### Train with balanced data"
      ]
    },
    {
      "cell_type": "code",
      "metadata": {
        "colab": {
          "base_uri": "https://localhost:8080/"
        },
        "id": "072z7nyIJ7yW",
        "outputId": "eeb4620a-6952-4ac5-ba43-1d25a7679f2f"
      },
      "source": [
        "model_balanced = build_train_model(X_train_balanced,y_train_balanced)\n",
        "evaluate_model(model_balanced,X_test,y_test)"
      ],
      "execution_count": 70,
      "outputs": [
        {
          "output_type": "stream",
          "text": [
            "Restoring model weights from the end of the best epoch.\n",
            "Epoch 00029: early stopping\n",
            "Accuracy on test-set: 95.31%\n",
            "Confusion matrix:\n",
            " [[125  11]\n",
            " [  1 119]]\n"
          ],
          "name": "stdout"
        }
      ]
    },
    {
      "cell_type": "markdown",
      "metadata": {
        "id": "7ls6LUxxhPeT"
      },
      "source": [
        "#### Testing bias in the updated model"
      ]
    },
    {
      "cell_type": "code",
      "metadata": {
        "colab": {
          "base_uri": "https://localhost:8080/",
          "height": 299
        },
        "id": "xqJE7-8vQq_7",
        "outputId": "c2014518-d9a2-4092-9be6-f1a06ebc5753"
      },
      "source": [
        "# Returns the probability of being interviewed for all test examples,\n",
        "# when the gender field is set to female vs. male.\n",
        "fem_prob, m_prob = get_gender_prob(model_balanced, X_test)\n",
        "\n",
        "# Plots histogram of probability of being interviewed for both genders.\n",
        "plot_hist_prob(fem_prob, m_prob)"
      ],
      "execution_count": 71,
      "outputs": [
        {
          "output_type": "display_data",
          "data": {
            "image/png": "[encoded data removed]",
            "text/plain": [
              "<Figure size 432x288 with 1 Axes>"
            ]
          },
          "metadata": {
            "tags": [],
            "needs_background": "light"
          }
        }
      ]
    },
    {
      "cell_type": "code",
      "metadata": {
        "colab": {
          "base_uri": "https://localhost:8080/",
          "height": 299
        },
        "id": "Wn3xFJldQq_8",
        "outputId": "bcb8ab1d-d131-41f8-e62a-10fc9de76076"
      },
      "source": [
        "# For each example, compute ((male interview prob.) - (female interview prob.))\n",
        "# and plot this difference.\n",
        "plot_density_prob_diff(fem_prob, m_prob)"
      ],
      "execution_count": 72,
      "outputs": [
        {
          "output_type": "display_data",
          "data": {
            "image/png": "[encoded data removed]",
            "text/plain": [
              "<Figure size 432x288 with 1 Axes>"
            ]
          },
          "metadata": {
            "tags": [],
            "needs_background": "light"
          }
        }
      ]
    },
    {
      "cell_type": "markdown",
      "metadata": {
        "id": "7EgBpR3xx69Z"
      },
      "source": [
        "### Downsampling data grouped by \"adequate skills score\"\n",
        "\n",
        "The adequate skills score is the `CV_qualif` column in the dataset."
      ]
    },
    {
      "cell_type": "code",
      "metadata": {
        "colab": {
          "base_uri": "https://localhost:8080/"
        },
        "id": "ebmBn1n6x69b",
        "outputId": "86415b07-cfad-4cca-908a-53a2f7b2afc2"
      },
      "source": [
        "# concatenate the data X,y for easier handling training examples.\n",
        "data = X_train.copy()\n",
        "data['ENTRETIEN'] = y_train.copy()\n",
        "\n",
        "print_qualification_stats(data)"
      ],
      "execution_count": 73,
      "outputs": [
        {
          "output_type": "stream",
          "text": [
            "# females with qualif=1: 545, # males qualif=1: 580.\n",
            "# females with qualif=0.5: 193, # males qualif=0.5: 272.\n",
            "# females with qualif=0: 338, # males qualif=0: 367.\n",
            "\n"
          ],
          "name": "stdout"
        }
      ]
    },
    {
      "cell_type": "markdown",
      "metadata": {
        "id": "7uSAoNwyx69c"
      },
      "source": [
        "#### Creating equally distributed training-set"
      ]
    },
    {
      "cell_type": "code",
      "metadata": {
        "colab": {
          "base_uri": "https://localhost:8080/"
        },
        "id": "_hLGSCI9x69c",
        "outputId": "0cf45afb-fddb-40cd-f714-00e76d2360dc"
      },
      "source": [
        "# copy all females' examples\n",
        "data_balanced = data[data['FEMME']==1]\n",
        "\n",
        "# copy equal number of males' examples for each qualification level\n",
        "fem_qualif = [data[(data['FEMME']==1) & (data['CV_qualif']==1)],\n",
        "                 data[(data['FEMME']==1) & (data['CV_qualif']>0) & (data['CV_qualif']<1)],\n",
        "            data[(data['FEMME']==1) & (data['CV_qualif']==0)]]\n",
        "m_qualif = [data[(data['FEMME']==0) & (data['CV_qualif']==1)],\n",
        "                 data[(data['FEMME']==0) & (data['CV_qualif']>0) & (data['CV_qualif']<1)],\n",
        "          data[(data['FEMME']==0) & (data['CV_qualif']==0)]]\n",
        "data_balanced = data_balanced.append(\n",
        "    [m_qualif[0][:fem_qualif[0].shape[0]],\n",
        "     m_qualif[1][:fem_qualif[1].shape[0]],\n",
        "     m_qualif[2][:fem_qualif[2].shape[0]]])\n",
        "\n",
        "\n",
        "# shuffle the dataset\n",
        "data_balanced = data_balanced.sample(frac=1).reset_index(drop=True)\n",
        "\n",
        "# Printing the balanced stats.\n",
        "print_qualification_stats(data_balanced)"
      ],
      "execution_count": 74,
      "outputs": [
        {
          "output_type": "stream",
          "text": [
            "# females with qualif=1: 545, # males qualif=1: 545.\n",
            "# females with qualif=0.5: 193, # males qualif=0.5: 193.\n",
            "# females with qualif=0: 338, # males qualif=0: 338.\n",
            "\n"
          ],
          "name": "stdout"
        }
      ]
    },
    {
      "cell_type": "code",
      "metadata": {
        "id": "lO67e92Px69d"
      },
      "source": [
        "# Removing the y-label from model input.\n",
        "y_train_balanced = data_balanced['ENTRETIEN']\n",
        "X_train_balanced = data_balanced.loc[:, data_balanced.columns != 'ENTRETIEN']"
      ],
      "execution_count": 75,
      "outputs": []
    },
    {
      "cell_type": "markdown",
      "metadata": {
        "id": "GxXN3ax8x69d"
      },
      "source": [
        "#### Train with balanced data"
      ]
    },
    {
      "cell_type": "code",
      "metadata": {
        "colab": {
          "base_uri": "https://localhost:8080/"
        },
        "id": "ogD91sOkx69d",
        "outputId": "820fb216-33ab-4173-bed4-7707de660483"
      },
      "source": [
        "model_balanced = build_train_model(X_train_balanced,y_train_balanced)\n",
        "evaluate_model(model_balanced,X_test,y_test)"
      ],
      "execution_count": 76,
      "outputs": [
        {
          "output_type": "stream",
          "text": [
            "Restoring model weights from the end of the best epoch.\n",
            "Epoch 00027: early stopping\n",
            "Accuracy on test-set: 94.53%\n",
            "Confusion matrix:\n",
            " [[127   9]\n",
            " [  5 115]]\n"
          ],
          "name": "stdout"
        }
      ]
    },
    {
      "cell_type": "markdown",
      "metadata": {
        "id": "YTQgGad6x69f"
      },
      "source": [
        "#### Testing bias in the updated model"
      ]
    },
    {
      "cell_type": "code",
      "metadata": {
        "colab": {
          "base_uri": "https://localhost:8080/",
          "height": 299
        },
        "id": "ePl6DnV4x69f",
        "outputId": "efde53d4-a89c-4748-f843-afb17669aa34"
      },
      "source": [
        "# Returns the probability of being interviewed for all test examples,\n",
        "# when the gender field is set to female vs. male.\n",
        "fem_prob, m_prob = get_gender_prob(model_balanced, X_test)\n",
        "\n",
        "# Plots histogram of probability of being interviewed for both genders.\n",
        "plot_hist_prob(fem_prob, m_prob)"
      ],
      "execution_count": 77,
      "outputs": [
        {
          "output_type": "display_data",
          "data": {
            "image/png": "[encoded data removed]",
            "text/plain": [
              "<Figure size 432x288 with 1 Axes>"
            ]
          },
          "metadata": {
            "tags": [],
            "needs_background": "light"
          }
        }
      ]
    },
    {
      "cell_type": "code",
      "metadata": {
        "colab": {
          "base_uri": "https://localhost:8080/",
          "height": 299
        },
        "id": "SfFJ5eqAx69g",
        "outputId": "1963621b-59be-464d-8ae1-584c5cfc65e8"
      },
      "source": [
        "# For each example, compute ((male interview prob.) - (female interview prob.))\n",
        "# and plot this difference.\n",
        "plot_density_prob_diff(fem_prob, m_prob)"
      ],
      "execution_count": 78,
      "outputs": [
        {
          "output_type": "display_data",
          "data": {
            "image/png": "[encoded data removed]",
            "text/plain": [
              "<Figure size 432x288 with 1 Axes>"
            ]
          },
          "metadata": {
            "tags": [],
            "needs_background": "light"
          }
        }
      ]
    },
    {
      "cell_type": "markdown",
      "metadata": {
        "id": "jM4N7oPtx69g"
      },
      "source": [
        "### Oversampling  data grouped by \"adequate skills score\"\n",
        "\n",
        "The adequate skills score is the `CV_qualif` column in the dataset."
      ]
    },
    {
      "cell_type": "code",
      "metadata": {
        "id": "2VeUxGL9x69g"
      },
      "source": [
        "# concatenate the data X,y for easier handling training examples.\n",
        "data = X_train.copy()\n",
        "data['ENTRETIEN'] = y_train.copy()\n",
        "\n",
        "#print_gender_stats(data_balanced)"
      ],
      "execution_count": 79,
      "outputs": []
    },
    {
      "cell_type": "markdown",
      "metadata": {
        "id": "WhSqH7DNx69g"
      },
      "source": [
        "#### Creating equally distributed training-set\n"
      ]
    },
    {
      "cell_type": "code",
      "metadata": {
        "colab": {
          "base_uri": "https://localhost:8080/"
        },
        "id": "UPlTB6ulx69g",
        "outputId": "ea21af70-2077-46fa-bdd3-16c2fdbd1581"
      },
      "source": [
        "# copy all  examples\n",
        "data_balanced = data.copy()\n",
        "\n",
        "fem_qualif = [data[(data['FEMME']==1) & (data['CV_qualif']==1)],\n",
        "                 data[(data['FEMME']==1) & (data['CV_qualif']>0) & (data['CV_qualif']<1)],\n",
        "            data[(data['FEMME']==1) & (data['CV_qualif']==0)]]\n",
        "m_qualif = [data[(data['FEMME']==0) & (data['CV_qualif']==1)],\n",
        "                 data[(data['FEMME']==0) & (data['CV_qualif']>0) & (data['CV_qualif']<1)],\n",
        "          data[(data['FEMME']==0) & (data['CV_qualif']==0)]]\n",
        "\n",
        "# add examples to match the number of female applicant with males \n",
        "# for each qualification level to match male examples\n",
        "data_balanced = data_balanced.append(\n",
        "    [fem_qualif[0][:m_qualif[0].shape[0]-fem_qualif[0].shape[0]],\n",
        "     fem_qualif[1][:m_qualif[1].shape[0]-fem_qualif[1].shape[0]],\n",
        "     fem_qualif[2][:m_qualif[2].shape[0]-fem_qualif[2].shape[0]]])\n",
        "\n",
        "\n",
        "# shuffle the dataset\n",
        "data_balanced = data_balanced.sample(frac=1).reset_index(drop=True)\n",
        "\n",
        "# Printing the balanced stats.\n",
        "print_qualification_stats(data_balanced)"
      ],
      "execution_count": 80,
      "outputs": [
        {
          "output_type": "stream",
          "text": [
            "# females with qualif=1: 580, # males qualif=1: 580.\n",
            "# females with qualif=0.5: 272, # males qualif=0.5: 272.\n",
            "# females with qualif=0: 367, # males qualif=0: 367.\n",
            "\n"
          ],
          "name": "stdout"
        }
      ]
    },
    {
      "cell_type": "code",
      "metadata": {
        "id": "cqYvda48x69h"
      },
      "source": [
        "# Removing the y-label from model input.\n",
        "y_train_balanced = data_balanced['ENTRETIEN']\n",
        "X_train_balanced = data_balanced.loc[:, data_balanced.columns != 'ENTRETIEN']"
      ],
      "execution_count": 81,
      "outputs": []
    },
    {
      "cell_type": "markdown",
      "metadata": {
        "id": "Co0qBQDtx69h"
      },
      "source": [
        "#### Train with balanced data"
      ]
    },
    {
      "cell_type": "code",
      "metadata": {
        "colab": {
          "base_uri": "https://localhost:8080/"
        },
        "id": "AGkm1B13x69h",
        "outputId": "e5cc1ffa-5546-42ef-b493-afc229028961"
      },
      "source": [
        "model_balanced = build_train_model(X_train_balanced,y_train_balanced)\n",
        "evaluate_model(model_balanced,X_test,y_test)"
      ],
      "execution_count": 82,
      "outputs": [
        {
          "output_type": "stream",
          "text": [
            "Restoring model weights from the end of the best epoch.\n",
            "Epoch 00028: early stopping\n",
            "Accuracy on test-set: 95.70%\n",
            "Confusion matrix:\n",
            " [[126  10]\n",
            " [  1 119]]\n"
          ],
          "name": "stdout"
        }
      ]
    },
    {
      "cell_type": "markdown",
      "metadata": {
        "id": "5hnbZmKxx69h"
      },
      "source": [
        "#### Testing bias in the updated model"
      ]
    },
    {
      "cell_type": "code",
      "metadata": {
        "colab": {
          "base_uri": "https://localhost:8080/",
          "height": 299
        },
        "id": "o8xr6Olzx69i",
        "outputId": "f8cfb2f5-1371-423e-e2ab-e34a9089c6b1"
      },
      "source": [
        "# Returns the probability of being interviewed for all test examples,\n",
        "# when the gender field is set to female vs. male.\n",
        "fem_prob, m_prob = get_gender_prob(model_balanced, X_test)\n",
        "\n",
        "# Plots histogram of probability of being interviewed for both genders.\n",
        "plot_hist_prob(fem_prob, m_prob)"
      ],
      "execution_count": 83,
      "outputs": [
        {
          "output_type": "display_data",
          "data": {
            "image/png": "[encoded data removed]",
            "text/plain": [
              "<Figure size 432x288 with 1 Axes>"
            ]
          },
          "metadata": {
            "tags": [],
            "needs_background": "light"
          }
        }
      ]
    },
    {
      "cell_type": "code",
      "metadata": {
        "colab": {
          "base_uri": "https://localhost:8080/",
          "height": 299
        },
        "id": "iNjV3g8Yx69i",
        "outputId": "c26c053b-e1da-4bff-98cc-65db3071bd11"
      },
      "source": [
        "# For each example, compute ((male interview prob.) - (female interview prob.))\n",
        "# and plot this difference.\n",
        "plot_density_prob_diff(fem_prob, m_prob)"
      ],
      "execution_count": 84,
      "outputs": [
        {
          "output_type": "display_data",
          "data": {
            "image/png": "[encoded data removed]",
            "text/plain": [
              "<Figure size 432x288 with 1 Axes>"
            ]
          },
          "metadata": {
            "tags": [],
            "needs_background": "light"
          }
        }
      ]
    },
    {
      "cell_type": "markdown",
      "metadata": {
        "id": "uV6REgp2zBPr"
      },
      "source": [
        "## Synthetic data experiments\n",
        "\n",
        "In this section, we experiment with training with synthetic examples. To force the model to not correlate the gender with interview decision (y-label), we will add examples to the dataset with gender variable set once to male and once as female. "
      ]
    },
    {
      "cell_type": "markdown",
      "metadata": {
        "id": "kTlh8lj6kNmw"
      },
      "source": [
        "### Fully synthetic dataset\n",
        "Training-set with all the examples set once as male and another as female.\n",
        "\n"
      ]
    },
    {
      "cell_type": "code",
      "metadata": {
        "colab": {
          "base_uri": "https://localhost:8080/"
        },
        "id": "9g64BintkNmx",
        "outputId": "abc55eb1-4553-4463-e8c8-4cfcac39559e"
      },
      "source": [
        "# concatenate the data X,y for easier handling training examples.\n",
        "data = X_train.copy()\n",
        "data['ENTRETIEN'] = y_train.copy()\n",
        "\n",
        "# copy all examples and set gender to female\n",
        "data_balanced = data.assign(FEMME=1)\n",
        "# append all examples again but with gender as male\n",
        "data_balanced = data_balanced.append(data.assign(FEMME=0))\n",
        "\n",
        "# shuffle data\n",
        "data_balanced = data_balanced.sample(frac=1).reset_index(drop=True)\n",
        "print_gender_stats(data_balanced)"
      ],
      "execution_count": 85,
      "outputs": [
        {
          "output_type": "stream",
          "text": [
            "# females interviewed 1140, # males interviewed 1140.\n",
            "# females not interviewed 1155, # males not interviewed 1155.\n",
            "# females interviewed ratio 0.497, # males interviewed ratio 0.497.\n"
          ],
          "name": "stdout"
        }
      ]
    },
    {
      "cell_type": "markdown",
      "metadata": {
        "id": "cNf-WS--kNmz"
      },
      "source": [
        "#### Creating equally distributed training-set"
      ]
    },
    {
      "cell_type": "code",
      "metadata": {
        "id": "-Zp9pERskNm0"
      },
      "source": [
        "# Removing the y-label from model input.\n",
        "y_train_balanced = data_balanced['ENTRETIEN']\n",
        "X_train_balanced = data_balanced.loc[:, data_balanced.columns != 'ENTRETIEN']"
      ],
      "execution_count": 86,
      "outputs": []
    },
    {
      "cell_type": "markdown",
      "metadata": {
        "id": "GHS7cYvzkNm0"
      },
      "source": [
        "#### Train with balanced data"
      ]
    },
    {
      "cell_type": "code",
      "metadata": {
        "colab": {
          "base_uri": "https://localhost:8080/"
        },
        "id": "pgUeAe6TKW23",
        "outputId": "ac3be722-49cc-4396-ca3f-a7015169f5e0"
      },
      "source": [
        "model_balanced = build_train_model(X_train_balanced,y_train_balanced)\n",
        "evaluate_model(model_balanced,X_test,y_test)"
      ],
      "execution_count": 87,
      "outputs": [
        {
          "output_type": "stream",
          "text": [
            "Restoring model weights from the end of the best epoch.\n",
            "Epoch 00044: early stopping\n",
            "Accuracy on test-set: 95.31%\n",
            "Confusion matrix:\n",
            " [[124  12]\n",
            " [  0 120]]\n"
          ],
          "name": "stdout"
        }
      ]
    },
    {
      "cell_type": "markdown",
      "metadata": {
        "id": "9ejKWDOfUoSv"
      },
      "source": [
        "#### Testing bias in the updated model"
      ]
    },
    {
      "cell_type": "code",
      "metadata": {
        "colab": {
          "base_uri": "https://localhost:8080/",
          "height": 299
        },
        "id": "vsjBAMRAUoS5",
        "outputId": "8f9d3eac-aaad-49c5-98d3-ff7f4d19cf46"
      },
      "source": [
        "# Returns the probability of being interviewed for all test examples,\n",
        "# when the gender field is set to female vs. male.\n",
        "fem_prob, m_prob = get_gender_prob(model_balanced, X_test)\n",
        "\n",
        "# Plots histogram of probability of being interviewed for both genders.\n",
        "plot_hist_prob(fem_prob, m_prob)"
      ],
      "execution_count": 88,
      "outputs": [
        {
          "output_type": "display_data",
          "data": {
            "image/png": "[encoded data removed]",
            "text/plain": [
              "<Figure size 432x288 with 1 Axes>"
            ]
          },
          "metadata": {
            "tags": [],
            "needs_background": "light"
          }
        }
      ]
    },
    {
      "cell_type": "code",
      "metadata": {
        "colab": {
          "base_uri": "https://localhost:8080/",
          "height": 299
        },
        "id": "OkBT66Q7Qwlf",
        "outputId": "8065245e-70f0-42a0-f1e8-53f2e0ae5872"
      },
      "source": [
        "# For each example, compute ((male interview prob.) - (female interview prob.))\n",
        "# and plot this difference.\n",
        "plot_density_prob_diff(fem_prob, m_prob)"
      ],
      "execution_count": 89,
      "outputs": [
        {
          "output_type": "display_data",
          "data": {
            "image/png": "[encoded data removed]",
            "text/plain": [
              "<Figure size 432x288 with 1 Axes>"
            ]
          },
          "metadata": {
            "tags": [],
            "needs_background": "light"
          }
        }
      ]
    },
    {
      "cell_type": "markdown",
      "metadata": {
        "id": "2GtVwlMaq-Ck"
      },
      "source": [
        "### Partially synthetic dataset\n",
        "Training-set with added subset of examples that are set to the opposite gender.\n",
        "\n"
      ]
    },
    {
      "cell_type": "code",
      "metadata": {
        "id": "e5481Tedq-Cl"
      },
      "source": [
        "# number of synthetic samples to add, now set to 0.2 of the training-set size\n",
        "N_SYNTH = int(X_train.shape[0]*0.2)\n",
        "\n",
        "# concatenate the data X,y for easier handling training examples.\n",
        "data = X_train.copy()\n",
        "data['ENTRETIEN'] = y_train.copy()\n",
        "\n",
        "# copy the training-set examples\n",
        "data_balanced = data.copy()\n",
        "\n",
        "# add N_SYNTH synthetic examples  with the opposite gender\n",
        "synth_data = data_balanced.iloc[:N_SYNTH,:].copy()\n",
        "synth_data = synth_data.assign(FEMME=1-synth_data['FEMME'])\n",
        "data_balanced = data_balanced.append(synth_data)\n",
        "\n",
        "# shuffle data\n",
        "data_balanced = data_balanced.sample(frac=1).reset_index(drop=True)\n"
      ],
      "execution_count": 90,
      "outputs": []
    },
    {
      "cell_type": "markdown",
      "metadata": {
        "id": "Zo_CLihnq-Cm"
      },
      "source": [
        "#### Creating equally distributed training-set"
      ]
    },
    {
      "cell_type": "code",
      "metadata": {
        "id": "h0pxlAntq-Cn"
      },
      "source": [
        "# Removing the y-label from model input.\n",
        "y_train_balanced = data_balanced['ENTRETIEN']\n",
        "X_train_balanced = data_balanced.loc[:, data_balanced.columns != 'ENTRETIEN']"
      ],
      "execution_count": 91,
      "outputs": []
    },
    {
      "cell_type": "markdown",
      "metadata": {
        "id": "iPEh6k5Mq-Cn"
      },
      "source": [
        "#### Train with balanced data"
      ]
    },
    {
      "cell_type": "code",
      "metadata": {
        "colab": {
          "base_uri": "https://localhost:8080/"
        },
        "id": "Jm-LuGXVq-Co",
        "outputId": "5b6b76c1-1eb2-4683-b096-e0bacc9d9cd9"
      },
      "source": [
        "model_balanced = build_train_model(X_train_balanced,y_train_balanced)\n",
        "evaluate_model(model_balanced,X_test,y_test)"
      ],
      "execution_count": 92,
      "outputs": [
        {
          "output_type": "stream",
          "text": [
            "Restoring model weights from the end of the best epoch.\n",
            "Epoch 00032: early stopping\n",
            "Accuracy on test-set: 95.31%\n",
            "Confusion matrix:\n",
            " [[126  10]\n",
            " [  2 118]]\n"
          ],
          "name": "stdout"
        }
      ]
    },
    {
      "cell_type": "markdown",
      "metadata": {
        "id": "bimlBqS_aSii"
      },
      "source": [
        "#### Testing bias in the updated model"
      ]
    },
    {
      "cell_type": "code",
      "metadata": {
        "colab": {
          "base_uri": "https://localhost:8080/",
          "height": 299
        },
        "id": "dZpjBA0LaSij",
        "outputId": "3585f7f9-deab-4e12-c51e-c9e4c4a4e453"
      },
      "source": [
        "# Returns the probability of being interviewed for all test examples,\n",
        "# when the gender field is set to female vs. male.\n",
        "fem_prob, m_prob = get_gender_prob(model_balanced, X_test)\n",
        "\n",
        "# Plots histogram of probability of being interviewed for both genders.\n",
        "plot_hist_prob(fem_prob, m_prob)"
      ],
      "execution_count": 93,
      "outputs": [
        {
          "output_type": "display_data",
          "data": {
            "image/png": "[encoded data removed]",
            "text/plain": [
              "<Figure size 432x288 with 1 Axes>"
            ]
          },
          "metadata": {
            "tags": [],
            "needs_background": "light"
          }
        }
      ]
    },
    {
      "cell_type": "code",
      "metadata": {
        "colab": {
          "base_uri": "https://localhost:8080/",
          "height": 299
        },
        "id": "qosE12CqaSik",
        "outputId": "7ba7da75-f791-4343-c8b3-efbe24eb939a"
      },
      "source": [
        "# For each example, compute ((male interview prob.) - (female interview prob.))\n",
        "# and plot this difference.\n",
        "plot_density_prob_diff(fem_prob, m_prob)"
      ],
      "execution_count": 94,
      "outputs": [
        {
          "output_type": "display_data",
          "data": {
            "image/png": "[encoded data removed]",
            "text/plain": [
              "<Figure size 432x288 with 1 Axes>"
            ]
          },
          "metadata": {
            "tags": [],
            "needs_background": "light"
          }
        }
      ]
    },
    {
      "cell_type": "markdown",
      "metadata": {
        "id": "pY4qLZpGavjS"
      },
      "source": [
        "# Conclusion"
      ]
    },
    {
      "cell_type": "markdown",
      "metadata": {
        "id": "gBqcC1jDTVTm"
      },
      "source": [
        "The table below shows the different de-biasing experiments' results in terms of model accuracy and the number of examples where a difference in probability was observed from the modified test-set. We can see that the sampling experiments grouped by “interview” were not as effective in decreasing the bias as the ones grouped by “adequate skills score”. We observed no significant difference between downsampling and oversampling when grouping by the same variable. Synthetic data experiments showed better de-biasing results that vary with the percentage of synthetic data introduced, and that the experiment with 20% synthetic data still vastly outperforms any of the sampling techniques.\n",
        "In terms of model performance, all de-biasing techniques decreased the accuracy by ~1-2%.\n"
      ]
    },
    {
      "cell_type": "markdown",
      "metadata": {
        "id": "dH6yBu39NgMz"
      },
      "source": [
        "\n",
        "|                          | Accuracy | Female > Male | Female ≈ Male | Male > Female |\n",
        "| ------------- |:-------------:|:-------------:| :-----:|:-----: |\n",
        "| Original                 | 96.48% | 32 | 182 | 42 | \n",
        "| Downsampling (interview) | 95.31% | 23 | 188 | 45 |\n",
        "| Oversampling (interview) | 95.31% | 23 | 183 | 50 |\n",
        "| Downsampling( skills)    | 94.53% | 21 | 190 | 45 |\n",
        "| Oversampling (skills)| 95.70% | 25 | 193 | 38 |\n",
        "| Synthetic (100%)         | 95.31% | 0  | 256 |  0 |\n",
        "| Synthetic (20%)          | 95.31% | 13 | 228 | 15 |"
      ]
    },
    {
      "cell_type": "markdown",
      "metadata": {
        "id": "F47GgAXjazXN"
      },
      "source": [
        "Using anonymization for de-biasing requires not only adjusting the training-set, but also it must be applied in production to all inputs given to the model. On the other hand, sampling techniques and adding synthetic data are only done to the training-set, and do not require any changes in production. \n",
        "\n",
        "While sampling is easily automated, it is not guaranteed to decrease the bias.  Adding synthetic data proved to significantly decrease the bias. However, it could be expensive to generate high quality synthetic data (e.g. hiring human annotators, or developing a system to recognize gender markers and modify them).\n",
        "\n",
        "\n"
      ]
    },
    {
      "cell_type": "markdown",
      "metadata": {
        "id": "VAwH4sSUoskk"
      },
      "source": [
        "# Bibliography\n",
        "\n",
        "* Behaghel, L., Crépon, B., & Le Barbanchon, T. (2015). Unintended Effects of Anonymous Résumés. American Economic Journal: Applied Economics, 7(3), 1-27.\n",
        "\n",
        "\n",
        "* Using random forest to learn imbalanced data (2004). Available online at https://scholar.google.com/citations?user=5qujoo4aaaaj&hl=en&oi=sra.\n",
        "\n",
        "\n",
        "* Sun, W. (2019). Mitigating Gender Bias in Natural Language Processing: Literature Review. In Proceedings of the 57th Annual Meeting of the Association for Computational Linguistics (pp. 1630–1640). Association for Computational Linguistics."
      ]
    }
  ]
}