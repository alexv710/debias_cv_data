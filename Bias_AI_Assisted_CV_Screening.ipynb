{
 "cells": [
  {
   "cell_type": "markdown",
   "metadata": {
    "colab_type": "text",
    "id": "view-in-github"
   },
   "source": [
    "<a href=\"https://colab.research.google.com/github/alexv710/debias_cv_data/blob/main/Bias_AI_Assisted_CV_Screening.ipynb\" target=\"_parent\"><img src=\"https://colab.research.google.com/assets/colab-badge.svg\" alt=\"Open In Colab\"/></a>"
   ]
  },
  {
   "cell_type": "markdown",
   "metadata": {
    "id": "HJJn1nhrmxOq"
   },
   "source": [
    "# Introduction\n",
    "\n",
    "In this colab we will explore the bias  in AI-assisted CV screening that could lead to illigal discrimination and experiment with different techniques to mitigate it. \n",
    "\n",
    "We will be using \"Unintended Effects of Anonymous Résumés\" dataset by [(Behaghel et al., 2015)](https://www.aeaweb.org/articles?id=10.1257/app.20140185).\n",
    "\n",
    "\n",
    "Notes: \n",
    "* We will be focusing only on gender as a proof of concept. However, these techniques for both identifying the bias and mitigating it could be applied to other protected groups. \n",
    "* In this dataset, gender is represented as a binary variable, where female is set to 1 and male is set to 0. "
   ]
  },
  {
   "cell_type": "markdown",
   "metadata": {
    "id": "68vbwJuanHfp"
   },
   "source": [
    "## Imports"
   ]
  },
  {
   "cell_type": "code",
   "execution_count": 1,
   "metadata": {
    "id": "pWPPfS8TtfMG"
   },
   "outputs": [],
   "source": [
    "import io\n",
    "import random\n",
    "\n",
    "import pandas as pd\n",
    "\n",
    "import numpy as np\n",
    "\n",
    "# plots and visualizations\n",
    "import seaborn as sns\n",
    "import matplotlib.pyplot as plt\n",
    "\n",
    "# sklearn\n",
    "from sklearn.model_selection import train_test_split\n",
    "from sklearn.metrics import confusion_matrix\n",
    "\n",
    "# tensorflow\n",
    "import tensorflow as tf\n",
    "from tensorflow import keras\n",
    "from tensorflow.keras import layers\n",
    "from tensorflow.keras.callbacks import ReduceLROnPlateau\n",
    "\n",
    "# To ignore future version warnings for seaborn distplot.\n",
    "import warnings\n",
    "warnings.simplefilter(action='ignore', category=FutureWarning)\n",
    "\n",
    "# Fixing the seed in all libraries for reproducible results\n",
    "random.seed(1)\n",
    "np.random.seed(1)\n",
    "tf.random.set_seed(1)"
   ]
  },
  {
   "cell_type": "markdown",
   "metadata": {
    "id": "o2o0a8Ij3M8C"
   },
   "source": [
    "# Data Preprocessing"
   ]
  },
  {
   "cell_type": "code",
   "execution_count": 2,
   "metadata": {
    "colab": {
     "base_uri": "https://localhost:8080/"
    },
    "id": "1aMoiVvsmdo7",
    "outputId": "9ad849c4-8146-491e-e08d-e8604515a4ea"
   },
   "outputs": [
    {
     "name": "stdout",
     "output_type": "stream",
     "text": [
      "CVA 203\n"
     ]
    }
   ],
   "source": [
    "# apply the min-max scaling in Pandas using the .min() and .max() methods\n",
    "def min_max_scaling(df):\n",
    "    # copy the dataframe\n",
    "    df_norm = df.copy()\n",
    "    # apply min-max scaling\n",
    "    for column in df_norm.columns:\n",
    "        df_norm[column] = (df_norm[column] - df_norm[column].min()) / (df_norm[column].max() - df_norm[column].min())\n",
    "        \n",
    "    return df_norm\n",
    "\n",
    "# read the mainsample.dta file for further processing \n",
    "\n",
    "data = pd.io.stata.read_stata(\"data_candidates_mainsample.dta\")\n",
    "data.to_csv('data_candidates_mainsample.csv')\n",
    "\n",
    "# Import the mainsample via StataReader to use variable_labels (old version of the read_stata)\n",
    "\n",
    "data_stata = pd.io.stata.StataReader(\"data_candidates_mainsample.dta\")\n",
    "data_labels = data_stata.variable_labels()\n",
    "\n",
    "# Remove all columns in the dataset for which no labels exist\n",
    "# Those are mostly columns needed for p-tests and some matrix calculations in\n",
    "# Stata. The outputted labels are those that are kept in the data\n",
    "\n",
    "data = data.drop(columns=['CVAxORIGINE_IM_12', 'CVAxZUS_CUCS', 'CVAxZetI', 'C', 'CVA0',\\\n",
    "                          'p_offre1', 'control_manquant', 'ZouI_pred', 'ZouI0', 'ALE_16'])\n",
    "\n",
    "# Remove sampling weights (within and out of the experiment)\n",
    "\n",
    "data = data.drop(columns='POIDS_SEL')\n",
    "\n",
    "# Remove all the centered features\n",
    "\n",
    "data = data.drop(columns=['FEMME_c', 'a30m_c', 'a3049_c', 'a50p_c', 'dip_aucun_c',\\\n",
    "                          'dip_bepcap_c', 'dip_bac_c', 'dip_bac2p_c', 'recherche_LD_c', 'recherche_TLD_c'])\n",
    "\n",
    "# Remove all features that are not directly derivable from the CVs or that have missing data\n",
    "\n",
    "data = data.drop(columns=['RECRUTE', 'REFUSAL', 'codage_cv', 'ORIGINE_IM_1', 'ORIGINE_IM_2',\\\n",
    "                          'ORIGINE_IM_12', 'ID_OFFRE', 'ID_CANDIDAT', 'travail_etranger', 'duree_expro_offre'])\n",
    "\n",
    "# Remove additional features that seem to bring no value or are unclear in the methodology according to the original paper\n",
    "\n",
    "data = data.drop(columns=['CV_hesit_', 'CV_hesit', 'CV_note_7p', 'ZetI', 'permis', 'CV_attrayant_'])\n",
    "\n",
    "# Remove CV coding feature: CV_qualif -> adequate skills \n",
    "\n",
    "#data = data.drop(columns=['CV_qualif'])\n",
    "\n",
    "for key, value in data_labels.items():\n",
    "    for col in data.columns:\n",
    "        if key==col:\n",
    "            # print(key, ':    ', value)\n",
    "            if len(value)==0 or value.startswith('ID_OFFRE==') or value.startswith('Dummy for local job center'):\n",
    "                data = data.drop(columns=col)\n",
    "\n",
    "data['CV_qualif_sup'] = data['CV_qualif_sup'].fillna(0)\n",
    "data['CV_qualif_inf'] = data['CV_qualif_inf'].fillna(0)\n",
    "data['PREN_MUSULMAN'] = data['PREN_MUSULMAN'].fillna(0)\n",
    "data['ZUS_CUCS'] = data['ZUS_CUCS'].fillna(0)\n",
    "data['recherche_TLD'] = data['recherche_TLD'].fillna(0)\n",
    "\n",
    "data['etudes_etranger'] = data['etudes_etranger'].fillna(0)\n",
    "data['langue_anglais'] = data['langue_anglais'].fillna(0)\n",
    "data['langue_arabe'] = data['langue_arabe'].fillna(0)\n",
    "data['langue_autres'] = data['langue_autres'].fillna(0)\n",
    "data['CV_formation_'] = data['CV_formation_'].fillna(0)\n",
    "\n",
    "# derived from CV_experience_3p\n",
    "\n",
    "data['CV_experience_'] = data['CV_experience_'].fillna(0.5)\n",
    "\n",
    "# fill with 1 since missing records are not in the other age groups\n",
    "\n",
    "data['a26m'] = data['a26m'].fillna(1)\n",
    "\n",
    "# Assign medium grade for all unknown records\n",
    "data['CV_note_2'] = data['CV_note_2'].fillna(0)\n",
    "data['CV_note_3'] = data['CV_note_3'].fillna(1)\n",
    "data['CV_note_4'] = data['CV_note_4'].fillna(0)\n",
    "data['CV_note_5'] = data['CV_note_5'].fillna(0)\n",
    "\n",
    "for item in data:\n",
    "    if data[item].isna().sum() > 0:\n",
    "        print(item, data[item].isna().sum())\n",
    "        \n",
    "# Normalize remaining columns to values between 0 and 1\n",
    "# call the min_max_scaling function\n",
    "\n",
    "data = min_max_scaling(data)\n",
    "\n",
    "# Create a dataframe for the anonymized and not anonymized data\n",
    "\n",
    "X = pd.DataFrame()\n",
    "\n",
    "for index, row in data.iterrows():\n",
    "    if row['ENTRETIEN'] == 1:\n",
    "        data = data.append(row)\n",
    "        data = data.append(row)\n",
    "        data = data.append(row)\n",
    "        data = data.append(row)\n",
    "        data = data.append(row)\n",
    "        data = data.append(row)\n",
    "        \n",
    "# Assign the interviewed column to our target vector\n",
    "\n",
    "y = data['ENTRETIEN']\n",
    "\n",
    "# Drop the Interviewed/hired & anonymized columns (hired is much dependend on the number of jobs available\n",
    "# and will currently not be considered as target label)\n",
    "\n",
    "X = data.drop(columns=['CVA', 'ENTRETIEN'])"
   ]
  },
  {
   "cell_type": "markdown",
   "metadata": {
    "id": "E2_XJnP63M8G"
   },
   "source": [
    "### Data Preparation for models"
   ]
  },
  {
   "cell_type": "code",
   "execution_count": 3,
   "metadata": {
    "colab": {
     "base_uri": "https://localhost:8080/",
     "height": 224
    },
    "id": "rgKAkwAZdp3I",
    "outputId": "d88af7af-eff5-4ace-a810-5cac7588576f"
   },
   "outputs": [
    {
     "data": {
      "text/html": [
       "<div>\n",
       "<style scoped>\n",
       "    .dataframe tbody tr th:only-of-type {\n",
       "        vertical-align: middle;\n",
       "    }\n",
       "\n",
       "    .dataframe tbody tr th {\n",
       "        vertical-align: top;\n",
       "    }\n",
       "\n",
       "    .dataframe thead th {\n",
       "        text-align: right;\n",
       "    }\n",
       "</style>\n",
       "<table border=\"1\" class=\"dataframe\">\n",
       "  <thead>\n",
       "    <tr style=\"text-align: right;\">\n",
       "      <th></th>\n",
       "      <th>PREN_MUSULMAN</th>\n",
       "      <th>ZUS_CUCS</th>\n",
       "      <th>ZouI</th>\n",
       "      <th>FEMME</th>\n",
       "      <th>a50p</th>\n",
       "      <th>a3049</th>\n",
       "      <th>a26m</th>\n",
       "      <th>dip_aucun</th>\n",
       "      <th>dip_bepcap</th>\n",
       "      <th>dip_bac</th>\n",
       "      <th>...</th>\n",
       "      <th>service_nm</th>\n",
       "      <th>service_m</th>\n",
       "      <th>industrie</th>\n",
       "      <th>construction</th>\n",
       "      <th>cadre</th>\n",
       "      <th>profint</th>\n",
       "      <th>eoq</th>\n",
       "      <th>CDI</th>\n",
       "      <th>CNT_sup6m</th>\n",
       "      <th>poste_unique</th>\n",
       "    </tr>\n",
       "  </thead>\n",
       "  <tbody>\n",
       "    <tr>\n",
       "      <th>992</th>\n",
       "      <td>1.0</td>\n",
       "      <td>1.0</td>\n",
       "      <td>1.0</td>\n",
       "      <td>0.0</td>\n",
       "      <td>0.0</td>\n",
       "      <td>0.0</td>\n",
       "      <td>1.0</td>\n",
       "      <td>0.0</td>\n",
       "      <td>0.0</td>\n",
       "      <td>0.0</td>\n",
       "      <td>...</td>\n",
       "      <td>0.0</td>\n",
       "      <td>1.0</td>\n",
       "      <td>0.0</td>\n",
       "      <td>0.0</td>\n",
       "      <td>0.0</td>\n",
       "      <td>0.0</td>\n",
       "      <td>0.0</td>\n",
       "      <td>0.0</td>\n",
       "      <td>0.0</td>\n",
       "      <td>1.0</td>\n",
       "    </tr>\n",
       "    <tr>\n",
       "      <th>1165</th>\n",
       "      <td>0.0</td>\n",
       "      <td>0.0</td>\n",
       "      <td>0.0</td>\n",
       "      <td>0.0</td>\n",
       "      <td>0.0</td>\n",
       "      <td>1.0</td>\n",
       "      <td>0.0</td>\n",
       "      <td>0.0</td>\n",
       "      <td>1.0</td>\n",
       "      <td>0.0</td>\n",
       "      <td>...</td>\n",
       "      <td>0.0</td>\n",
       "      <td>1.0</td>\n",
       "      <td>0.0</td>\n",
       "      <td>0.0</td>\n",
       "      <td>0.0</td>\n",
       "      <td>1.0</td>\n",
       "      <td>0.0</td>\n",
       "      <td>1.0</td>\n",
       "      <td>1.0</td>\n",
       "      <td>1.0</td>\n",
       "    </tr>\n",
       "    <tr>\n",
       "      <th>1426</th>\n",
       "      <td>0.0</td>\n",
       "      <td>0.0</td>\n",
       "      <td>0.0</td>\n",
       "      <td>1.0</td>\n",
       "      <td>0.0</td>\n",
       "      <td>1.0</td>\n",
       "      <td>0.0</td>\n",
       "      <td>0.0</td>\n",
       "      <td>0.0</td>\n",
       "      <td>0.0</td>\n",
       "      <td>...</td>\n",
       "      <td>0.0</td>\n",
       "      <td>0.0</td>\n",
       "      <td>0.0</td>\n",
       "      <td>0.0</td>\n",
       "      <td>0.0</td>\n",
       "      <td>0.0</td>\n",
       "      <td>0.0</td>\n",
       "      <td>1.0</td>\n",
       "      <td>1.0</td>\n",
       "      <td>0.0</td>\n",
       "    </tr>\n",
       "    <tr>\n",
       "      <th>102</th>\n",
       "      <td>1.0</td>\n",
       "      <td>1.0</td>\n",
       "      <td>1.0</td>\n",
       "      <td>0.0</td>\n",
       "      <td>0.0</td>\n",
       "      <td>1.0</td>\n",
       "      <td>0.0</td>\n",
       "      <td>1.0</td>\n",
       "      <td>0.0</td>\n",
       "      <td>0.0</td>\n",
       "      <td>...</td>\n",
       "      <td>0.0</td>\n",
       "      <td>1.0</td>\n",
       "      <td>0.0</td>\n",
       "      <td>0.0</td>\n",
       "      <td>0.0</td>\n",
       "      <td>0.0</td>\n",
       "      <td>1.0</td>\n",
       "      <td>1.0</td>\n",
       "      <td>1.0</td>\n",
       "      <td>1.0</td>\n",
       "    </tr>\n",
       "    <tr>\n",
       "      <th>572</th>\n",
       "      <td>0.0</td>\n",
       "      <td>0.0</td>\n",
       "      <td>0.0</td>\n",
       "      <td>0.0</td>\n",
       "      <td>1.0</td>\n",
       "      <td>0.0</td>\n",
       "      <td>0.0</td>\n",
       "      <td>0.0</td>\n",
       "      <td>0.0</td>\n",
       "      <td>0.0</td>\n",
       "      <td>...</td>\n",
       "      <td>0.0</td>\n",
       "      <td>1.0</td>\n",
       "      <td>0.0</td>\n",
       "      <td>0.0</td>\n",
       "      <td>0.0</td>\n",
       "      <td>1.0</td>\n",
       "      <td>0.0</td>\n",
       "      <td>1.0</td>\n",
       "      <td>1.0</td>\n",
       "      <td>1.0</td>\n",
       "    </tr>\n",
       "  </tbody>\n",
       "</table>\n",
       "<p>5 rows × 42 columns</p>\n",
       "</div>"
      ],
      "text/plain": [
       "      PREN_MUSULMAN  ZUS_CUCS  ZouI  FEMME  a50p  a3049  a26m  dip_aucun  \\\n",
       "992             1.0       1.0   1.0    0.0   0.0    0.0   1.0        0.0   \n",
       "1165            0.0       0.0   0.0    0.0   0.0    1.0   0.0        0.0   \n",
       "1426            0.0       0.0   0.0    1.0   0.0    1.0   0.0        0.0   \n",
       "102             1.0       1.0   1.0    0.0   0.0    1.0   0.0        1.0   \n",
       "572             0.0       0.0   0.0    0.0   1.0    0.0   0.0        0.0   \n",
       "\n",
       "      dip_bepcap  dip_bac  ...  service_nm  service_m  industrie  \\\n",
       "992          0.0      0.0  ...         0.0        1.0        0.0   \n",
       "1165         1.0      0.0  ...         0.0        1.0        0.0   \n",
       "1426         0.0      0.0  ...         0.0        0.0        0.0   \n",
       "102          0.0      0.0  ...         0.0        1.0        0.0   \n",
       "572          0.0      0.0  ...         0.0        1.0        0.0   \n",
       "\n",
       "      construction  cadre  profint  eoq  CDI  CNT_sup6m  poste_unique  \n",
       "992            0.0    0.0      0.0  0.0  0.0        0.0           1.0  \n",
       "1165           0.0    0.0      1.0  0.0  1.0        1.0           1.0  \n",
       "1426           0.0    0.0      0.0  0.0  1.0        1.0           0.0  \n",
       "102            0.0    0.0      0.0  1.0  1.0        1.0           1.0  \n",
       "572            0.0    0.0      1.0  0.0  1.0        1.0           1.0  \n",
       "\n",
       "[5 rows x 42 columns]"
      ]
     },
     "execution_count": 3,
     "metadata": {},
     "output_type": "execute_result"
    }
   ],
   "source": [
    "# Train, Test split\n",
    "# Fixed random seed for debugging to avoid random splits\n",
    "X_train, X_test, y_train, y_test = train_test_split(X, y, test_size=.1, random_state=1)\n",
    "X_train.head()"
   ]
  },
  {
   "cell_type": "markdown",
   "metadata": {
    "id": "BPAni-2uZumg"
   },
   "source": [
    "# Models"
   ]
  },
  {
   "cell_type": "markdown",
   "metadata": {
    "id": "eal2icjS3M8G"
   },
   "source": [
    "## Random Forest"
   ]
  },
  {
   "cell_type": "markdown",
   "metadata": {
    "id": "jWIqWexi3M8K"
   },
   "source": [
    "## Neural Network"
   ]
  },
  {
   "cell_type": "markdown",
   "metadata": {
    "id": "uEVp3Kri1LYd"
   },
   "source": [
    "The neural network is built using Keras with one input layer with the activation function relu and one output layer using a sigmoid activation function for binary classification. In addition two hidden layers are added, all with relu activation function."
   ]
  },
  {
   "cell_type": "code",
   "execution_count": 4,
   "metadata": {
    "id": "wDHe5CZ-di5V"
   },
   "outputs": [],
   "source": [
    "# define and train keras NN model, returns a trained model\n",
    "def build_train_model(X, y):\n",
    " \n",
    "  # re-fixing the seed in all libraries for reproducible results\n",
    "  random.seed(1)\n",
    "  np.random.seed(1)\n",
    "  tf.random.set_seed(1)\n",
    "\n",
    "  # define model\n",
    "  model = keras.Sequential(\n",
    "      [\n",
    "          # input layer\n",
    "          layers.Dense(56, input_dim=X_train.shape[1], activation='relu'),\n",
    "\n",
    "          # hidden layers  \n",
    "          layers.Dense(24, activation='relu'),\n",
    "          layers.Dense(12, activation='relu'),\n",
    "          \n",
    "          # output layer\n",
    "          layers.Dense(1, activation='sigmoid')\n",
    "      \n",
    "      ]\n",
    "  )\n",
    "\n",
    "  # compile model\n",
    "  model.compile(optimizer=\"adam\", loss=\"binary_crossentropy\", metrics=[\"mse\", 'accuracy'])\n",
    "\n",
    "  # Learning Rate Annealer\n",
    "  lrr = ReduceLROnPlateau(monitor='val_loss',\n",
    "                        factor=.01,\n",
    "                        patience=4,\n",
    "                        min_lr=1e-8,\n",
    "                        verbose=0)\n",
    "  # Early stopping\n",
    "  es = tf.keras.callbacks.EarlyStopping(monitor=\"val_loss\",\\\n",
    "                                        patience=8, verbose=1, mode=\"auto\", baseline=None, restore_best_weights=True)\n",
    "\n",
    "  # fit model\n",
    "  model.fit(np.array(X), np.array(y), epochs=100, callbacks=[es, lrr], validation_split=0.2, shuffle=True, verbose=0)\n",
    "\n",
    "  # return trained model\n",
    "  return model"
   ]
  },
  {
   "cell_type": "code",
   "execution_count": 5,
   "metadata": {
    "id": "xKolckEMaO9X"
   },
   "outputs": [],
   "source": [
    " # Evaluate the model performance, takes a trained model and test-set\n",
    " def evaluate_model(model, X_test,y_test):\n",
    "  # print model accuracy on test-set\n",
    "  _, _, accuracy = model.evaluate(X_test, y_test,verbose=0)\n",
    "  print('Accuracy on test-set: %.2f%%' % (accuracy*100))\n",
    "  # making a prediction on test data\n",
    "  y_test_pred = model.predict(X_test)\n",
    "  # converting the sigmoid output to binary class\n",
    "  y_test_pred = [1 if y_test_pred[i]>0.5  else 0 for i in range(len(y_test_pred))]\n",
    "  # print confusion matrix\n",
    "  print('Confusion matrix:\\n',confusion_matrix(y_test, y_test_pred))"
   ]
  },
  {
   "cell_type": "code",
   "execution_count": 6,
   "metadata": {
    "colab": {
     "base_uri": "https://localhost:8080/"
    },
    "id": "rEJa-45mIOd1",
    "outputId": "710f9c09-54b7-4b0e-d754-c5f20a94a337"
   },
   "outputs": [
    {
     "name": "stdout",
     "output_type": "stream",
     "text": [
      "Restoring model weights from the end of the best epoch.\n",
      "Epoch 00032: early stopping\n",
      "Accuracy on test-set: 96.48%\n",
      "Confusion matrix:\n",
      " [[128   8]\n",
      " [  1 119]]\n"
     ]
    }
   ],
   "source": [
    "model = build_train_model(X_train,y_train)\n",
    "#model.summary()\n",
    "evaluate_model(model, X_test,y_test)"
   ]
  },
  {
   "cell_type": "markdown",
   "metadata": {
    "id": "EIKvkOGI3M8I"
   },
   "source": [
    "# Invistigating bias in models predictions\n",
    "\n",
    "In this section we will focus on exploring gender bias.\n",
    "\n",
    "## Methodology:\n",
    "1. Create a modified test-set, where we have two copies of each example once as male and another as female.\n",
    "\n",
    "2. Testing the model with the modified test-set\n",
    "\n",
    "3. Plotting the results with the modified test-set \\\\\n",
    "  3.1. Plot a histogram of hiring probability of each gender. \\\\\n",
    "  3.2. Calculate difference in  probabilities between coresponding examples (same example with inverted gender). \\\\\n",
    "  3.3. Plot this difference. \\\\\n",
    "  \n",
    "If gender markers is not considered in the model predictions, the density plot should be centered around 0 i.e. no difference. the bigger the difference away from 0, the more biased the model.\n",
    "\n"
   ]
  },
  {
   "cell_type": "markdown",
   "metadata": {
    "id": "K60cgMN_R6Y5"
   },
   "source": [
    "#### Plot and auxiliary functions"
   ]
  },
  {
   "cell_type": "code",
   "execution_count": 7,
   "metadata": {
    "id": "MgYRtLTBOy92"
   },
   "outputs": [],
   "source": [
    "# Returns the probability of being interviewed for all test examples,\n",
    "# when the gender field is set to female vs. male.\n",
    "def get_gender_prob(model, X_test):\n",
    "  # copying all applicants and changing the gender field to female\n",
    "  fem_test = X_test.copy()\n",
    "  fem_test = fem_test.assign(FEMME=1)\n",
    "\n",
    "  # copying all applicants and changing the gender field to male\n",
    "  m_test = X_test.copy()\n",
    "  m_test = m_test.assign(FEMME=0)\n",
    "\n",
    "  # sanity check\n",
    "  #print(sum(m_test['FEMME']==1), m_test.shape,X_test.shape)\n",
    "\n",
    "  # get predictions probability for the interviewed class, for both data-subsets\n",
    "  fem_prob = model.predict(fem_test)\n",
    "  m_prob = model.predict(m_test)\n",
    "  return fem_prob, m_prob"
   ]
  },
  {
   "cell_type": "code",
   "execution_count": 8,
   "metadata": {
    "id": "C1ak9UZsXDJ1"
   },
   "outputs": [],
   "source": [
    "# Plots histogram of probability of being interviewed for both genders.\n",
    "def plot_hist_prob(fem_prob, m_prob):\n",
    "  # Sub-setting the interviewed class probability for the histogram.\n",
    "  plt.figure(figsize=(6,4))\n",
    "  plt.hist(fem_prob[:,0], bins=10, alpha=0.5, facecolor='r', label=\"Female\")\n",
    "  plt.hist(m_prob[:,0], bins=10, alpha=0.5, facecolor='b', label=\"Male\")\n",
    "\n",
    "  plt.xlabel(\"Probability\", size=14)\n",
    "  plt.ylabel(\"Count\", size=14)\n",
    "  plt.title(\"Female applicants interview prob. vs. male applicants\")\n",
    "  plt.legend(loc='upper right')\n",
    "  # plt.savefig(\"hiring_prob_initial_model.png\")"
   ]
  },
  {
   "cell_type": "code",
   "execution_count": 9,
   "metadata": {
    "id": "ED4vuNlXlSOp"
   },
   "outputs": [],
   "source": [
    "# Computes the difference between interview probability for each sample when\n",
    "# the gender field is set to female vs. male (0 means no difference, +ve means\n",
    "# higher probability when the field was set to male, and vice versa).\n",
    "# Plots density of this difference.\n",
    "def plot_density_prob_diff(fem_prob, m_prob):\n",
    "  # number of times where being a male increased the interview probability.\n",
    "  diff = (m_prob[:,0]-fem_prob[:,0])\n",
    "  x0 = -0.3\n",
    "  x1 = 0.3\n",
    "\n",
    "  #plotting the PDF (do this before plotting anything else)\n",
    "  ax = sns.distplot(diff, hist=False,color='b')\n",
    "  kde_x, kde_y = ax.lines[0].get_data()\n",
    "\n",
    "  #plotting the two lines\n",
    "  p1 = plt.axvline(x=x0,color='r')\n",
    "  p2 = plt.axvline(x=x1,color='r')\n",
    "\n",
    "\n",
    "  ax.fill_between(kde_x, kde_y, where=(kde_x<x0) | (kde_x>x1) , \n",
    "                  interpolate=True, color='r')\n",
    "\n",
    "\n",
    "  ax.set_yticks(ticks=np.arange(0,2.5,0.1),minor=True)\n",
    "  # Add the grid\n",
    "  ax.grid(which='minor', axis='y', linestyle='-')\n",
    "  ax.grid(which='major', axis='y', linestyle='-')\n",
    "  ax.set_xlim(-1.5,1.5)\n",
    "  ax.set_ylim(0,2.5)\n",
    "\n",
    "  plt.xlabel(\"(male interview prob.) - (female interview prob.)\", size=14)\n",
    "  plt.ylabel(\"Density\", size=14)\n",
    "  plt.title(\"Density plot of difference in interview prob.\")\n",
    "  plt.text(-1, 0.4, (\"Female > Male\\n%d\" % sum(diff < -0.3)),horizontalalignment='center')\n",
    "  plt.text(1, 0.4, (\"Male > Female\\n%d\" % sum(diff > 0.3)),horizontalalignment='center')\n",
    "  plt.text(0, 0.4, (\"Male\\n≈\\nFemale\\n%d\" % (diff.shape[0]-sum(diff < -0.3)-sum(diff > 0.3))), horizontalalignment='center')\n",
    "\n",
    "  plt.show()\n",
    "\n",
    "# plot_density_prob_diff(fem_prob, m_prob)"
   ]
  },
  {
   "cell_type": "code",
   "execution_count": 10,
   "metadata": {
    "id": "l1GbUXFR5m8f"
   },
   "outputs": [],
   "source": [
    "def print_gender_stats(data):\n",
    "  fem_interview = [data[(data['FEMME']==1) & (data['ENTRETIEN']==1)],\n",
    "                data[(data['FEMME']==1) & (data['ENTRETIEN']==0)]]\n",
    "  m_interview = [data[(data['FEMME']==0) & (data['ENTRETIEN']==1)],\n",
    "                data[(data['FEMME']==0) & (data['ENTRETIEN']==0)]]\n",
    "\n",
    "  print('# females interviewed %d, # males interviewed %d.\\n'\n",
    "        '# females not interviewed %d, # males not interviewed %d.\\n'\n",
    "        '# females interviewed ratio %.3f, # males interviewed ratio %.3f.' \n",
    "        %(fem_interview[0].shape[0], m_interview[0].shape[0],\n",
    "          fem_interview[1].shape[0], m_interview[1].shape[0],\n",
    "          (fem_interview[0].shape[0]/(fem_interview[0].shape[0]+fem_interview[1].shape[0])), \n",
    "          (m_interview[0].shape[0]/(m_interview[0].shape[0]+m_interview[1].shape[0]))))"
   ]
  },
  {
   "cell_type": "markdown",
   "metadata": {
    "id": "GiyzWX_BXDJ0"
   },
   "source": [
    "### Plot difference in NN probabilities"
   ]
  },
  {
   "cell_type": "code",
   "execution_count": 11,
   "metadata": {
    "colab": {
     "base_uri": "https://localhost:8080/",
     "height": 299
    },
    "id": "BpM90ub1NVpk",
    "outputId": "dddf94df-cd88-4dde-96f5-e091414c5c2e"
   },
   "outputs": [
    {
     "data": {
      "image/png": "[encoded data removed]",
      "text/plain": [
       "<Figure size 432x288 with 1 Axes>"
      ]
     },
     "metadata": {
      "needs_background": "light"
     },
     "output_type": "display_data"
    }
   ],
   "source": [
    "fem_prob, m_prob = get_gender_prob(model, X_test)\n",
    "plot_hist_prob(fem_prob, m_prob)"
   ]
  },
  {
   "cell_type": "markdown",
   "metadata": {
    "id": "HazrnDjfXDJ3"
   },
   "source": [
    "From the above, it looks like # females with very low probabilities are more than males and # females in high probabilities are lower than males."
   ]
  },
  {
   "cell_type": "markdown",
   "metadata": {
    "id": "owzrV885lL7y"
   },
   "source": [
    "Plot the diff variable to show effect of gender on probability."
   ]
  },
  {
   "cell_type": "code",
   "execution_count": 12,
   "metadata": {
    "colab": {
     "base_uri": "https://localhost:8080/",
     "height": 299
    },
    "id": "51B2BG-xPmzF",
    "outputId": "16b83dc9-c1ac-457f-ae62-b2d7895f6b75"
   },
   "outputs": [
    {
     "data": {
      "image/png": "[encoded data removed]",
      "text/plain": [
       "<Figure size 432x288 with 1 Axes>"
      ]
     },
     "metadata": {
      "needs_background": "light"
     },
     "output_type": "display_data"
    }
   ],
   "source": [
    "plot_density_prob_diff(fem_prob, m_prob)"
   ]
  },
  {
   "cell_type": "markdown",
   "metadata": {
    "id": "2ZCfYRfZ9Lrh"
   },
   "source": [
    "# De-biasing the model predictions\n",
    "\n",
    "\n",
    "In this section we will configure the training-set in order to de-bias the model predictions.\n",
    "\n",
    "In the literature there are different techniques to handle the bias originating from imbalanced training data  (e.g. the gender gap in some fields as in [Amazon's AI recruiting tool](https://www.reuters.com/article/us-amazon-com-jobs-automation-insight-idUSKCN1MK08G)):\n",
    "\n",
    "* **Anonymization** to remove the gender markers. However, research have shown that perferct anonymization is a difficult problem, since models can  infer gender not only from name but also from hobbies, university, etc. \\\\\n",
    "In this project we did not experiment with anonymization since we are dealing with the preprocessed data and we do not have raw data (e.g. CV text) that includes the gender markers, we only have gender as a binary value.\n",
    "* **Sampling** to adjust the training-set distribution, by downsampling the overrepresented group or oversampling the underrepresented group.\n",
    "* **Introducting synthetic data** in the training-set to deter the model from learning a relationship between a protected group (in our case gender)) with the predictions [(Sun, et al. 2019).](https://www.aclweb.org/anthology/P19-1159/). \n",
    "\n",
    "In the following subsection, we present our experiments with both sampling and synthestic data techniques.\n",
    "\n"
   ]
  },
  {
   "cell_type": "markdown",
   "metadata": {
    "id": "w86sonpsyw7k"
   },
   "source": [
    "## Sampling experiments\n",
    "\n",
    "In this section, we experiment with different ways of balancing the training dataset, through **downsampling** the overrepresented group (e.g. dropping some training examples with male candidates) or **oversampling** the underrespresented group (e.g. using the same training example with female candidates multiple times in every epoch).\n",
    "\n",
    "The balancing could be done across different dimensions, for example when grouping by some attributes (such as \"is interviewed?\" and/or \"adequate skills ranking score\") , each group has an equal number of each gender."
   ]
  },
  {
   "cell_type": "markdown",
   "metadata": {
    "id": "0rRPfgItbgDP"
   },
   "source": [
    "### Downsampling data grouped by \"is interviewed?\" (y-label)\n",
    "\n",
    "The y-label is the `ENTRETIEN` in the dataset."
   ]
  },
  {
   "cell_type": "code",
   "execution_count": 13,
   "metadata": {
    "colab": {
     "base_uri": "https://localhost:8080/"
    },
    "id": "2zuhxqYkbgDQ",
    "outputId": "418d74ab-2bc8-4a7e-ab7a-9c937b4a2f44"
   },
   "outputs": [
    {
     "name": "stdout",
     "output_type": "stream",
     "text": [
      "# females interviewed 562, # males interviewed 578.\n",
      "# females not interviewed 514, # males not interviewed 641.\n",
      "# females interviewed ratio 0.522, # males interviewed ratio 0.474.\n"
     ]
    }
   ],
   "source": [
    "# concatenate the data X,y for easier handling training examples.\n",
    "data = X_train.copy()\n",
    "data['ENTRETIEN'] = y_train.copy()\n",
    "\n",
    "print_gender_stats(data)"
   ]
  },
  {
   "cell_type": "markdown",
   "metadata": {
    "id": "SDVk2CzI5Uip"
   },
   "source": [
    "**Observation**: the number of females in the dataset is lower than males, and the interview ratio is slightly higher for females."
   ]
  },
  {
   "cell_type": "markdown",
   "metadata": {
    "id": "rQMpZeF1bgDQ"
   },
   "source": [
    "**Observation**: in the dataset, the female applicants have lower qualifications than males, hence the model is likely to penelize female applicants in the future, since it learned from the data that females are less qualified than males. Surprisingly in this dataset, the interview decision by recruiters didn't penalize females."
   ]
  },
  {
   "cell_type": "markdown",
   "metadata": {
    "id": "7lwehIpLbgDQ"
   },
   "source": [
    "#### Creating equally distributed training-set"
   ]
  },
  {
   "cell_type": "code",
   "execution_count": 14,
   "metadata": {
    "colab": {
     "base_uri": "https://localhost:8080/"
    },
    "id": "MdmjnbY9bgDQ",
    "outputId": "cbe006d7-3895-4767-9552-1ef614d986dd"
   },
   "outputs": [
    {
     "name": "stdout",
     "output_type": "stream",
     "text": [
      "# females interviewed 562, # males interviewed 562.\n",
      "# females not interviewed 514, # males not interviewed 514.\n",
      "# females interviewed ratio 0.522, # males interviewed ratio 0.522.\n"
     ]
    }
   ],
   "source": [
    "# copy all females' examples\n",
    "data_balanced = data[data['FEMME']==1]\n",
    "# copy equal number of males' examples for interview/not interview variable\n",
    "fem_interview = [data[(data['FEMME']==1) & (data['ENTRETIEN']==1)],\n",
    "                 data[(data['FEMME']==1) & (data['ENTRETIEN']==0)]]\n",
    "m_interview = [data[(data['FEMME']==0) & (data['ENTRETIEN']==1)],\n",
    "                 data[(data['FEMME']==0) & (data['ENTRETIEN']==0)]]\n",
    "data_balanced = data_balanced.append(\n",
    "    [m_interview[0][:fem_interview[0].shape[0]],\n",
    "     m_interview[1][:fem_interview[1].shape[0]]])\n",
    "\n",
    "# shuffle the dataset\n",
    "data_balanced = data_balanced.sample(frac=1).reset_index(drop=True)\n",
    "\n",
    "# Printing the balanced stats.\n",
    "print_gender_stats(data_balanced)"
   ]
  },
  {
   "cell_type": "code",
   "execution_count": 15,
   "metadata": {
    "id": "Vk2HeYxobgDR"
   },
   "outputs": [],
   "source": [
    "# Removing the y-label from model input.\n",
    "y_train_balanced = data_balanced['ENTRETIEN']\n",
    "X_train_balanced = data_balanced.loc[:, data_balanced.columns != 'ENTRETIEN']"
   ]
  },
  {
   "cell_type": "markdown",
   "metadata": {
    "id": "AD9pZWzZbgDR"
   },
   "source": [
    "#### Train with balanced data"
   ]
  },
  {
   "cell_type": "code",
   "execution_count": 16,
   "metadata": {
    "colab": {
     "base_uri": "https://localhost:8080/"
    },
    "id": "3bM1nk3ubgDS",
    "outputId": "3b09c183-992d-4f19-a2ab-e0c69a8ba253"
   },
   "outputs": [
    {
     "name": "stdout",
     "output_type": "stream",
     "text": [
      "Restoring model weights from the end of the best epoch.\n",
      "Epoch 00030: early stopping\n",
      "Accuracy on test-set: 95.31%\n",
      "Confusion matrix:\n",
      " [[125  11]\n",
      " [  1 119]]\n"
     ]
    }
   ],
   "source": [
    "model_balanced = build_train_model(X_train_balanced,y_train_balanced)\n",
    "evaluate_model(model_balanced,X_test,y_test)"
   ]
  },
  {
   "cell_type": "markdown",
   "metadata": {
    "id": "5Lt_oRBMbgDT"
   },
   "source": [
    "Accuracy decreased by roughly 1%."
   ]
  },
  {
   "cell_type": "markdown",
   "metadata": {
    "id": "vKvUTQa9bgDT"
   },
   "source": [
    "#### Testing bias in the updated model"
   ]
  },
  {
   "cell_type": "code",
   "execution_count": 17,
   "metadata": {
    "colab": {
     "base_uri": "https://localhost:8080/",
     "height": 299
    },
    "id": "kbp4uV1VQhrf",
    "outputId": "b6af939b-4d34-4fd6-9bbc-046c189d8665"
   },
   "outputs": [
    {
     "data": {
      "image/png": "[encoded data removed]",
      "text/plain": [
       "<Figure size 432x288 with 1 Axes>"
      ]
     },
     "metadata": {
      "needs_background": "light"
     },
     "output_type": "display_data"
    }
   ],
   "source": [
    "# Returns the probability of being interviewed for all test examples,\n",
    "# when the gender field is set to female vs. male.\n",
    "fem_prob, m_prob = get_gender_prob(model_balanced, X_test)\n",
    "\n",
    "# Plots histogram of probability of being interviewed for both genders.\n",
    "plot_hist_prob(fem_prob, m_prob)"
   ]
  },
  {
   "cell_type": "markdown",
   "metadata": {
    "id": "v0BSWZMnQhrg"
   },
   "source": [
    "**Observation**: From the above, it looks like # females with very low probabilities are more than males and # females in high probabilities are lower than males."
   ]
  },
  {
   "cell_type": "code",
   "execution_count": 18,
   "metadata": {
    "colab": {
     "base_uri": "https://localhost:8080/",
     "height": 299
    },
    "id": "dNg6rBu0Qhrg",
    "outputId": "5f65c329-1891-402f-d4e3-d407148fc4c3"
   },
   "outputs": [
    {
     "data": {
      "image/png": "[encoded data removed]",
      "text/plain": [
       "<Figure size 432x288 with 1 Axes>"
      ]
     },
     "metadata": {
      "needs_background": "light"
     },
     "output_type": "display_data"
    }
   ],
   "source": [
    "# For each example, compute ((male interview prob.) - (female interview prob.))\n",
    "# and plot this difference.\n",
    "plot_density_prob_diff(fem_prob, m_prob)"
   ]
  },
  {
   "cell_type": "markdown",
   "metadata": {
    "id": "FfcUZM_chPeO"
   },
   "source": [
    "### Oversampling data grouped by \"is interviewed?\" (y-label)\n",
    "\n",
    "The y-label is the `ENTRETIEN` in the dataset."
   ]
  },
  {
   "cell_type": "code",
   "execution_count": 19,
   "metadata": {
    "id": "jVE6mc1chPeP"
   },
   "outputs": [],
   "source": [
    "# concatenate the data X,y for easier handling training examples.\n",
    "data = X_train.copy()\n",
    "data['ENTRETIEN'] = y_train.copy()\n",
    "\n",
    "#print_gender_stats(data_balanced)"
   ]
  },
  {
   "cell_type": "markdown",
   "metadata": {
    "id": "0rF8OsTWhPeR"
   },
   "source": [
    "#### Creating equally distributed training-set\n"
   ]
  },
  {
   "cell_type": "code",
   "execution_count": 20,
   "metadata": {
    "colab": {
     "base_uri": "https://localhost:8080/"
    },
    "id": "9cRrhh3zhPeR",
    "outputId": "dbe669e7-4215-447d-adf9-8b725681b1c8"
   },
   "outputs": [
    {
     "name": "stdout",
     "output_type": "stream",
     "text": [
      "# females interviewed 578, # males interviewed 578.\n",
      "# females not interviewed 641, # males not interviewed 641.\n",
      "# females interviewed ratio 0.474, # males interviewed ratio 0.474.\n"
     ]
    }
   ],
   "source": [
    "# copy all  examples\n",
    "data_balanced = data.copy()\n",
    "\n",
    "fem_interview = [data[(data['FEMME']==1) & (data['ENTRETIEN']==1)],\n",
    "                 data[(data['FEMME']==1) & (data['ENTRETIEN']==0)]]\n",
    "m_interview = [data[(data['FEMME']==0) & (data['ENTRETIEN']==1)],\n",
    "                 data[(data['FEMME']==0) & (data['ENTRETIEN']==0)]]\n",
    "\n",
    "# add examples to match the number of female applicant with males \n",
    "# for interview/not interview variable\n",
    "data_balanced = data_balanced.append(\n",
    "    [fem_interview[0][:m_interview[0].shape[0]-fem_interview[0].shape[0]],\n",
    "     fem_interview[1][:m_interview[1].shape[0]-fem_interview[1].shape[0]]])\n",
    "\n",
    "# shuffle the dataset\n",
    "data_balanced = data_balanced.sample(frac=1).reset_index(drop=True)\n",
    "\n",
    "# Printing the balanced stats.\n",
    "print_gender_stats(data_balanced)"
   ]
  },
  {
   "cell_type": "code",
   "execution_count": 21,
   "metadata": {
    "id": "nMA4Ujw3hPeS"
   },
   "outputs": [],
   "source": [
    "# Removing the y-label from model input.\n",
    "y_train_balanced = data_balanced['ENTRETIEN']\n",
    "X_train_balanced = data_balanced.loc[:, data_balanced.columns != 'ENTRETIEN']"
   ]
  },
  {
   "cell_type": "markdown",
   "metadata": {
    "id": "b8NM3mUZhPeS"
   },
   "source": [
    "#### Train with balanced data"
   ]
  },
  {
   "cell_type": "code",
   "execution_count": 22,
   "metadata": {
    "colab": {
     "base_uri": "https://localhost:8080/"
    },
    "id": "072z7nyIJ7yW",
    "outputId": "709e43f0-0f47-4554-d3aa-a2990fce83dd"
   },
   "outputs": [
    {
     "name": "stdout",
     "output_type": "stream",
     "text": [
      "Restoring model weights from the end of the best epoch.\n",
      "Epoch 00029: early stopping\n",
      "Accuracy on test-set: 95.31%\n",
      "Confusion matrix:\n",
      " [[125  11]\n",
      " [  1 119]]\n"
     ]
    }
   ],
   "source": [
    "model_balanced = build_train_model(X_train_balanced,y_train_balanced)\n",
    "evaluate_model(model_balanced,X_test,y_test)"
   ]
  },
  {
   "cell_type": "markdown",
   "metadata": {
    "id": "MikpOWKThPeT"
   },
   "source": [
    "Accuracy decreased by roughly 1%."
   ]
  },
  {
   "cell_type": "markdown",
   "metadata": {
    "id": "7ls6LUxxhPeT"
   },
   "source": [
    "#### Testing bias in the updated model"
   ]
  },
  {
   "cell_type": "code",
   "execution_count": 23,
   "metadata": {
    "colab": {
     "base_uri": "https://localhost:8080/",
     "height": 299
    },
    "id": "xqJE7-8vQq_7",
    "outputId": "68848b91-4e9d-43a6-ee91-ca0efd805a52"
   },
   "outputs": [
    {
     "data": {
      "image/png": "[encoded data removed]",
      "text/plain": [
       "<Figure size 432x288 with 1 Axes>"
      ]
     },
     "metadata": {
      "needs_background": "light"
     },
     "output_type": "display_data"
    }
   ],
   "source": [
    "# Returns the probability of being interviewed for all test examples,\n",
    "# when the gender field is set to female vs. male.\n",
    "fem_prob, m_prob = get_gender_prob(model_balanced, X_test)\n",
    "\n",
    "# Plots histogram of probability of being interviewed for both genders.\n",
    "plot_hist_prob(fem_prob, m_prob)"
   ]
  },
  {
   "cell_type": "markdown",
   "metadata": {
    "id": "XTM8K-u_Qq_8"
   },
   "source": [
    "**Observation**: From the above, it looks like # females with very low probabilities are more than males and # females in high probabilities are lower than males."
   ]
  },
  {
   "cell_type": "code",
   "execution_count": 24,
   "metadata": {
    "colab": {
     "base_uri": "https://localhost:8080/",
     "height": 299
    },
    "id": "Wn3xFJldQq_8",
    "outputId": "5031b614-0a4c-4d5b-febd-fbd5adfe1084"
   },
   "outputs": [
    {
     "data": {
      "image/png": "[encoded data removed]",
      "text/plain": [
       "<Figure size 432x288 with 1 Axes>"
      ]
     },
     "metadata": {
      "needs_background": "light"
     },
     "output_type": "display_data"
    }
   ],
   "source": [
    "# For each example, compute ((male interview prob.) - (female interview prob.))\n",
    "# and plot this difference.\n",
    "plot_density_prob_diff(fem_prob, m_prob)"
   ]
  },
  {
   "cell_type": "markdown",
   "metadata": {
    "id": "uV6REgp2zBPr"
   },
   "source": [
    "## Synthetic data experiments\n",
    "\n",
    "In this section, we experiment with training with synthetic examples. To force the model to not correlate the gender with interview decision (y-label), we will add examples to the dataset with gender variable set once to male and once as female. "
   ]
  },
  {
   "cell_type": "markdown",
   "metadata": {
    "id": "kTlh8lj6kNmw"
   },
   "source": [
    "### Fully synthetic dataset\n",
    "Training-set with all the examples set once as male and another as female.\n",
    "\n"
   ]
  },
  {
   "cell_type": "code",
   "execution_count": 25,
   "metadata": {
    "colab": {
     "base_uri": "https://localhost:8080/"
    },
    "id": "9g64BintkNmx",
    "outputId": "02dec532-2b31-4bf3-97ff-d4cdabda8f0b"
   },
   "outputs": [
    {
     "name": "stdout",
     "output_type": "stream",
     "text": [
      "# females interviewed 1140, # males interviewed 1140.\n",
      "# females not interviewed 1155, # males not interviewed 1155.\n",
      "# females interviewed ratio 0.497, # males interviewed ratio 0.497.\n"
     ]
    }
   ],
   "source": [
    "# concatenate the data X,y for easier handling training examples.\n",
    "data = X_train.copy()\n",
    "data['ENTRETIEN'] = y_train.copy()\n",
    "\n",
    "# copy all examples and set gender to female\n",
    "data_balanced = data.assign(FEMME=1)\n",
    "# append all examples again but with gender as male\n",
    "data_balanced = data_balanced.append(data.assign(FEMME=0))\n",
    "\n",
    "# shuffle data\n",
    "data_balanced = data_balanced.sample(frac=1).reset_index(drop=True)\n",
    "print_gender_stats(data_balanced)"
   ]
  },
  {
   "cell_type": "markdown",
   "metadata": {
    "id": "cNf-WS--kNmz"
   },
   "source": [
    "#### Creating equally distributed training-set"
   ]
  },
  {
   "cell_type": "code",
   "execution_count": 26,
   "metadata": {
    "id": "-Zp9pERskNm0"
   },
   "outputs": [],
   "source": [
    "# Removing the y-label from model input.\n",
    "y_train_balanced = data_balanced['ENTRETIEN']\n",
    "X_train_balanced = data_balanced.loc[:, data_balanced.columns != 'ENTRETIEN']"
   ]
  },
  {
   "cell_type": "markdown",
   "metadata": {
    "id": "GHS7cYvzkNm0"
   },
   "source": [
    "#### Train with balanced data"
   ]
  },
  {
   "cell_type": "code",
   "execution_count": 27,
   "metadata": {
    "colab": {
     "base_uri": "https://localhost:8080/"
    },
    "id": "pgUeAe6TKW23",
    "outputId": "42e74bf9-69fb-48e9-f430-82958334b0f5"
   },
   "outputs": [
    {
     "name": "stdout",
     "output_type": "stream",
     "text": [
      "Restoring model weights from the end of the best epoch.\n",
      "Epoch 00029: early stopping\n",
      "Accuracy on test-set: 95.70%\n",
      "Confusion matrix:\n",
      " [[125  11]\n",
      " [  0 120]]\n"
     ]
    }
   ],
   "source": [
    "model_balanced = build_train_model(X_train_balanced,y_train_balanced)\n",
    "evaluate_model(model_balanced,X_test,y_test)"
   ]
  },
  {
   "cell_type": "markdown",
   "metadata": {
    "id": "Envc8tCvkNm1"
   },
   "source": [
    "Accuracy decreased by roughly 1%."
   ]
  },
  {
   "cell_type": "markdown",
   "metadata": {
    "id": "9ejKWDOfUoSv"
   },
   "source": [
    "#### Testing bias in the updated model"
   ]
  },
  {
   "cell_type": "code",
   "execution_count": 28,
   "metadata": {
    "colab": {
     "base_uri": "https://localhost:8080/",
     "height": 299
    },
    "id": "vsjBAMRAUoS5",
    "outputId": "9441cef8-e322-4460-bb4f-1b584555404a"
   },
   "outputs": [
    {
     "data": {
      "image/png": "[encoded data removed]",
      "text/plain": [
       "<Figure size 432x288 with 1 Axes>"
      ]
     },
     "metadata": {
      "needs_background": "light"
     },
     "output_type": "display_data"
    }
   ],
   "source": [
    "# Returns the probability of being interviewed for all test examples,\n",
    "# when the gender field is set to female vs. male.\n",
    "fem_prob, m_prob = get_gender_prob(model_balanced, X_test)\n",
    "\n",
    "# Plots histogram of probability of being interviewed for both genders.\n",
    "plot_hist_prob(fem_prob, m_prob)"
   ]
  },
  {
   "cell_type": "markdown",
   "metadata": {
    "id": "v2Z_A7YxQwlf"
   },
   "source": [
    "**Observation**: From the above, we can see that the probabilities for both genders are almost the same."
   ]
  },
  {
   "cell_type": "code",
   "execution_count": 29,
   "metadata": {
    "colab": {
     "base_uri": "https://localhost:8080/",
     "height": 299
    },
    "id": "OkBT66Q7Qwlf",
    "outputId": "37bb767e-bb2b-4c8b-9095-e2edb5c67649"
   },
   "outputs": [
    {
     "data": {
      "image/png": "[encoded data removed]",
      "text/plain": [
       "<Figure size 432x288 with 1 Axes>"
      ]
     },
     "metadata": {
      "needs_background": "light"
     },
     "output_type": "display_data"
    }
   ],
   "source": [
    "# For each example, compute ((male interview prob.) - (female interview prob.))\n",
    "# and plot this difference.\n",
    "plot_density_prob_diff(fem_prob, m_prob)"
   ]
  },
  {
   "cell_type": "markdown",
   "metadata": {
    "id": "2GtVwlMaq-Ck"
   },
   "source": [
    "### Partially synthetic dataset\n",
    "Training-set with added subset of examples that are set to the opposite gender.\n",
    "\n"
   ]
  },
  {
   "cell_type": "code",
   "execution_count": 30,
   "metadata": {
    "id": "e5481Tedq-Cl"
   },
   "outputs": [],
   "source": [
    "# number of synthetic samples to add, now set to 0.2 of the training-set size\n",
    "N_SYNTH = int(X_train.shape[0]*0.2)\n",
    "\n",
    "# concatenate the data X,y for easier handling training examples.\n",
    "data = X_train.copy()\n",
    "data['ENTRETIEN'] = y_train.copy()\n",
    "\n",
    "# copy the training-set examples\n",
    "data_balanced = data.copy()\n",
    "\n",
    "# add N_SYNTH synthetic examples  with the opposite gender\n",
    "synth_data = data_balanced.iloc[:N_SYNTH,:].copy()\n",
    "synth_data = synth_data.assign(FEMME=1-synth_data['FEMME'])\n",
    "data_balanced = data_balanced.append(synth_data)\n",
    "\n",
    "# shuffle data\n",
    "data_balanced = data_balanced.sample(frac=1).reset_index(drop=True)\n"
   ]
  },
  {
   "cell_type": "markdown",
   "metadata": {
    "id": "Zo_CLihnq-Cm"
   },
   "source": [
    "#### Creating equally distributed training-set"
   ]
  },
  {
   "cell_type": "code",
   "execution_count": 31,
   "metadata": {
    "id": "h0pxlAntq-Cn"
   },
   "outputs": [],
   "source": [
    "# Removing the y-label from model input.\n",
    "y_train_balanced = data_balanced['ENTRETIEN']\n",
    "X_train_balanced = data_balanced.loc[:, data_balanced.columns != 'ENTRETIEN']"
   ]
  },
  {
   "cell_type": "markdown",
   "metadata": {
    "id": "iPEh6k5Mq-Cn"
   },
   "source": [
    "#### Train with balanced data"
   ]
  },
  {
   "cell_type": "code",
   "execution_count": 32,
   "metadata": {
    "colab": {
     "base_uri": "https://localhost:8080/"
    },
    "id": "Jm-LuGXVq-Co",
    "outputId": "309c9714-30bc-4515-84b1-39a80bae8c17"
   },
   "outputs": [
    {
     "name": "stdout",
     "output_type": "stream",
     "text": [
      "Restoring model weights from the end of the best epoch.\n",
      "Epoch 00032: early stopping\n",
      "Accuracy on test-set: 94.92%\n",
      "Confusion matrix:\n",
      " [[125  11]\n",
      " [  2 118]]\n"
     ]
    }
   ],
   "source": [
    "model_balanced = build_train_model(X_train_balanced,y_train_balanced)\n",
    "evaluate_model(model_balanced,X_test,y_test)"
   ]
  },
  {
   "cell_type": "markdown",
   "metadata": {
    "id": "wcslJ7JYq-Co"
   },
   "source": [
    "Accuracy decreased by roughly 1%."
   ]
  },
  {
   "cell_type": "markdown",
   "metadata": {
    "id": "bimlBqS_aSii"
   },
   "source": [
    "#### Testing bias in the updated model"
   ]
  },
  {
   "cell_type": "code",
   "execution_count": 33,
   "metadata": {
    "colab": {
     "base_uri": "https://localhost:8080/",
     "height": 299
    },
    "id": "dZpjBA0LaSij",
    "outputId": "702cfe56-e7f0-44ce-b904-528f3e337b06"
   },
   "outputs": [
    {
     "data": {
      "image/png": "[encoded data removed]",
      "text/plain": [
       "<Figure size 432x288 with 1 Axes>"
      ]
     },
     "metadata": {
      "needs_background": "light"
     },
     "output_type": "display_data"
    }
   ],
   "source": [
    "# Returns the probability of being interviewed for all test examples,\n",
    "# when the gender field is set to female vs. male.\n",
    "fem_prob, m_prob = get_gender_prob(model_balanced, X_test)\n",
    "\n",
    "# Plots histogram of probability of being interviewed for both genders.\n",
    "plot_hist_prob(fem_prob, m_prob)"
   ]
  },
  {
   "cell_type": "markdown",
   "metadata": {
    "id": "Px9Il3sSaSik"
   },
   "source": [
    "**Observation**: From the above, we can see that there are less bias than the original model, but slighlty more than the model trained with the fully synthetic data."
   ]
  },
  {
   "cell_type": "code",
   "execution_count": 34,
   "metadata": {
    "colab": {
     "base_uri": "https://localhost:8080/",
     "height": 299
    },
    "id": "qosE12CqaSik",
    "outputId": "c0d3375d-a576-4ca7-f4dc-14e0ca7988da"
   },
   "outputs": [
    {
     "data": {
      "image/png": "[encoded data removed]",
      "text/plain": [
       "<Figure size 432x288 with 1 Axes>"
      ]
     },
     "metadata": {
      "needs_background": "light"
     },
     "output_type": "display_data"
    }
   ],
   "source": [
    "# For each example, compute ((male interview prob.) - (female interview prob.))\n",
    "# and plot this difference.\n",
    "plot_density_prob_diff(fem_prob, m_prob)"
   ]
  },
  {
   "cell_type": "markdown",
   "metadata": {
    "id": "pY4qLZpGavjS"
   },
   "source": [
    "# Conclusion"
   ]
  },
  {
   "cell_type": "markdown",
   "metadata": {
    "id": "F47GgAXjazXN"
   },
   "source": [
    "Using anonymization for de-biasing requires not only application during training, but also it must be applied in production to the test data given to the model.\n",
    "\n",
    "Sampling techniques and adding synthetic data are only done to the training data, and does not require any changes in production. While sampling is easily automated and in some cases can decrease the bias, adding synthetic data proved to decrease the bias much more significantly. However, it could be expensive to generate high quality synthetic data (e.g. hiring human annotator, or developing a system to recognize gender markers and modify it)."
   ]
  },
  {
   "cell_type": "markdown",
   "metadata": {
    "id": "VAwH4sSUoskk"
   },
   "source": [
    "# Bibliography\n",
    "\n",
    "* Behaghel, L., Crépon, B., & Le Barbanchon, T. (2015). Unintended Effects of Anonymous Résumés. American Economic Journal: Applied Economics, 7(3), 1-27.\n",
    "\n",
    "\n",
    "* Using random forest to learn imbalanced data (2004). Available online at https://scholar.google.com/citations?user=5qujoo4aaaaj&hl=en&oi=sra.\n",
    "\n",
    "\n",
    "* Sun, W. (2019). Mitigating Gender Bias in Natural Language Processing: Literature Review. In Proceedings of the 57th Annual Meeting of the Association for Computational Linguistics (pp. 1630–1640). Association for Computational Linguistics."
   ]
  }
 ],
 "metadata": {
  "colab": {
   "collapsed_sections": [],
   "include_colab_link": true,
   "name": "Bias_AI_Assisted_CV_Screening.ipynb",
   "provenance": []
  },
  "kernelspec": {
   "display_name": "Python 3",
   "language": "python",
   "name": "python3"
  },
  "language_info": {
   "codemirror_mode": {
    "name": "ipython",
    "version": 3
   },
   "file_extension": ".py",
   "mimetype": "text/x-python",
   "name": "python",
   "nbconvert_exporter": "python",
   "pygments_lexer": "ipython3",
   "version": "3.8.8"
  }
 },
 "nbformat": 4,
 "nbformat_minor": 1
}
