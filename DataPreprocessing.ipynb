{
  "nbformat": 4,
  "nbformat_minor": 0,
  "metadata": {
    "colab": {
      "name": "DataPreprocessing.ipynb",
      "provenance": [],
      "toc_visible": true,
      "authorship_tag": "ABX9TyMx4wby1WPbtAPN3QDLbQDM",
      "include_colab_link": true
    },
    "kernelspec": {
      "name": "python3",
      "display_name": "Python 3"
    },
    "language_info": {
      "name": "python"
    }
  },
  "cells": [
    {
      "cell_type": "markdown",
      "metadata": {
        "id": "view-in-github",
        "colab_type": "text"
      },
      "source": [
        "<a href=\"https://colab.research.google.com/github/alexv710/debias_cv_data/blob/main/DataPreprocessing.ipynb\" target=\"_parent\"><img src=\"https://colab.research.google.com/assets/colab-badge.svg\" alt=\"Open In Colab\"/></a>"
      ]
    },
    {
      "cell_type": "code",
      "metadata": {
        "id": "pWPPfS8TtfMG"
      },
      "source": [
        "import pandas as pd\n",
        "import io"
      ],
      "execution_count": 1,
      "outputs": []
    },
    {
      "cell_type": "code",
      "metadata": {
        "id": "50jslTNru8ol"
      },
      "source": [
        "# temp_data = pd.io.stata.read_stata(\"data_candidates_sample_tab6.dta\")\n",
        "# temp_data.to_csv('data_candidates_sample_tab6.csv')\n",
        "\n",
        "# temp_data = pd.io.stata.read_stata(\"data_candidates_sample_tab7_tabA9.dta\")\n",
        "# temp_data.to_csv('data_candidates_sample_tab7_tabA9.csv')\n",
        "\n",
        "# temp_data = pd.io.stata.read_stata(\"data_recruiters.dta\")\n",
        "# temp_data.to_csv('data_recruiters.csv')"
      ],
      "execution_count": 2,
      "outputs": []
    },
    {
      "cell_type": "code",
      "metadata": {
        "id": "SbWNo8iowTg8"
      },
      "source": [
        "# read the mainsample.dta file for further processing \n",
        "data = pd.io.stata.read_stata(\"data_candidates_mainsample.dta\")\n",
        "data.to_csv('data_candidates_mainsample.csv')"
      ],
      "execution_count": 3,
      "outputs": []
    },
    {
      "cell_type": "code",
      "metadata": {
        "id": "1aMoiVvsmdo7"
      },
      "source": [
        "# Import the mainsample via StataReader to use variable_labels (old version of the read_stata)\n",
        "data_stata = pd.io.stata.StataReader(\"data_candidates_mainsample.dta\")\n",
        "data_labels = data_stata.variable_labels()"
      ],
      "execution_count": 4,
      "outputs": []
    },
    {
      "cell_type": "code",
      "metadata": {
        "id": "xikrwWpRoY6n"
      },
      "source": [
        "# Write the Labels into a csv\n",
        "#import csv\n",
        "\n",
        "# with open('dataLabels.csv', 'w') as f:  # You will need 'wb' mode in Python 2.x\n",
        "#    w = csv.DictWriter(f, data_labels.keys())\n",
        "#    w.writeheader()\n",
        "#    w.writerow(data_labels)"
      ],
      "execution_count": 5,
      "outputs": []
    },
    {
      "cell_type": "code",
      "metadata": {
        "colab": {
          "base_uri": "https://localhost:8080/"
        },
        "id": "RlN5XSOopE_t",
        "outputId": "3e4f8c99-0ce5-4df6-bd41-bd36da5241d3"
      },
      "source": [
        "# Remove all columns in the dataset for which no labels exist\n",
        "# Those are mostly columns needed for p-tests and some matrix calculations in\n",
        "# Stata. The outputted labels are those that are kept in the data\n",
        "\n",
        "data = data.drop(columns=['CVAxORIGINE_IM_12', 'CVAxZUS_CUCS', 'CVAxZetI', 'C', 'CVA0', 'p_offre1', 'control_manquant', 'ZouI_pred', 'ZouI0', 'ALE_16'])\n",
        "\n",
        "# Remove sampling weights (within and out of the experiment)\n",
        "\n",
        "data = data.drop(columns='POIDS_SEL')\n",
        "\n",
        "# Remove all the centered features\n",
        "\n",
        "data = data.drop(columns=['FEMME_c', 'a30m_c', 'a3049_c', 'a50p_c', 'dip_aucun_c', 'dip_bepcap_c', 'dip_bac_c', 'dip_bac2p_c', 'recherche_LD_c', 'recherche_TLD_c'])\n",
        "\n",
        "\n",
        "for key, value in data_labels.items():\n",
        "  for col in data.columns:\n",
        "    if key==col:\n",
        "      if len(value)==0 or value.startswith('ID_OFFRE=='):\n",
        "        data = data.drop(columns=col)\n",
        "      else:\n",
        "        # Print all the columns that are included in the dataset\n",
        "        print(key + ':      ', value)"
      ],
      "execution_count": 6,
      "outputs": [
        {
          "output_type": "stream",
          "text": [
            "ID_OFFRE:       Identifier vacancy\n",
            "ID_CANDIDAT:       Identifier candidate\n",
            "CVA:       Treatment: anonymous resume\n",
            "REFUSAL:       Recruiter refused the experiment\n",
            "ENTRETIEN:       Interviewed\n",
            "RECRUTE:       Hired\n",
            "PREN_MUSULMAN:       Muslim souding name\n",
            "ZUS_CUCS:       Deprived neighborhood\n",
            "ORIGINE_IM_1:       Immigrant\n",
            "ORIGINE_IM_2:       Child of immigrant (father)\n",
            "ORIGINE_IM_12:       Immigrant or child of immigrant\n",
            "ZouI:       Minority (immigrant or child of immigrant or residing in deprived neighborhood)\n",
            "ZetI:       Residing in deprived neighborhood and with foreign bachkground (child of or immi\n",
            "FEMME:       Female candidate\n",
            "a50p:       Candidate over 50 years old\n",
            "a3049:       Candidate between 30 and 49 years old\n",
            "a26m:       Candidate below 26 years old\n",
            "dip_aucun:       No diploma\n",
            "dip_bepcap:       Professional degree\n",
            "dip_bac:       High school diploma\n",
            "dip_bac2p:       Upper education degree\n",
            "dip_bac2:       L2 (diploma 2 years after high school)\n",
            "dip_bac3p:       At least L3 (diploma 3 years after high school)\n",
            "duree_expro_offre:       Work experience for the job advertised (in years)\n",
            "recherche_LD:       Candidate has been looking for a job for at least one year\n",
            "recherche_TLD:       Candidate has been looking for a job for at least two years\n",
            "SALREV_SMIC_2:       Reservation wage of the candidate is the minimum wage\n",
            "permis:       Candidate has a driving license (Resume)\n",
            "etudes_etranger:       Candidate has studied abroad (Resume coding)\n",
            "travail_etranger:       Candidate has worked abroad (Resume coding)\n",
            "langue_anglais:       Candidate speaks English (Resume)\n",
            "langue_arabe:       Candidate speaks Arabic (Resume)\n",
            "langue_autres:       Candidate speaks another foreign language (Resume)\n",
            "codage_cv:       Resume has been coded\n",
            "CV_note_7p:       High overall rating (Resume coding)\n",
            "CV_hesit:       Uncertain rating (Resume coding)\n",
            "CV_inactivite:       Interrupted work history (Resume coding)\n",
            "CV_qualif:       Adequate skills (Resume coding)\n",
            "CV_experience_3p:       Adequate work experience (Resume coding)\n",
            "CV_note_2:       Low grade (Resume coding)\n",
            "CV_note_3:       Medium grade (Resume coding)\n",
            "CV_note_4:       High grade (Resume coding)\n",
            "CV_note_5:       Very high grade (Resume coding)\n",
            "CV_hesit_:       Uncertain rating scale 1-4 (Resume coding)\n",
            "CV_qualif_sup:       Candidate overqualified for the vacancy (Resume coding)\n",
            "CV_qualif_inf:       Candidate underqualified for the vacancy (Resume coding)\n",
            "CV_experience_:       Adequate work experience scale 1-4 (Resume coding)\n",
            "CV_attrayant_:       Attractive resume (Resume coding)\n",
            "CV_formation_:       Adequate skills (Resume coding)\n",
            "effent_200plus:       Firm size greater than 200 employees (vacancy)\n",
            "service_nm:       Non-market services (vacancy)\n",
            "service_m:       Market services (vacancy)\n",
            "industrie:       Manufacturing (vacancy)\n",
            "construction:       Construction (vacancy)\n",
            "cadre:       Upper occupation (vacancy)\n",
            "profint:       Intermediary occupation (vacancy)\n",
            "eoq:       Skilled white or blue collar (vacancy)\n",
            "CDI:       Indefinite duration contract (vacancy)\n",
            "CNT_sup6m:       Temporary contract for more than 6 months (vacancy)\n",
            "poste_unique:       Vacnacy with only one position\n",
            "ALE_1:       Dummy for local job center\n",
            "ALE_2:       Dummy for local job center\n",
            "ALE_3:       Dummy for local job center\n",
            "ALE_4:       Dummy for local job center\n",
            "ALE_5:       Dummy for local job center\n",
            "ALE_6:       Dummy for local job center\n",
            "ALE_7:       Dummy for local job center\n",
            "ALE_8:       Dummy for local job center\n",
            "ALE_9:       Dummy for local job center\n",
            "ALE_10:       Dummy for local job center\n",
            "ALE_11:       Dummy for local job center\n",
            "ALE_12:       Dummy for local job center\n",
            "ALE_13:       Dummy for local job center\n",
            "ALE_14:       Dummy for local job center\n",
            "ALE_15:       Dummy for local job center\n"
          ],
          "name": "stdout"
        }
      ]
    },
    {
      "cell_type": "code",
      "metadata": {
        "id": "F-jU5Dh8vCNL"
      },
      "source": [
        "X_ano = pd.DataFrame()\n",
        "X_unano = pd.DataFrame()\n",
        "\n",
        "for index, row in data.iterrows():\n",
        "  if row['CVA'] == 1: \n",
        "    X_ano = X_ano.append(row)\n",
        "  else:\n",
        "    X_unano = X_unano.append(row)\n",
        "\n",
        "# Assign the interviewed column to our target vector\n",
        "y_ano = X_ano['ENTRETIEN']\n",
        "y_unano = X_unano['ENTRETIEN']\n",
        "\n",
        "# Drop the Interviewed/hired columns (hired is much dependend on the number of jobs available\n",
        "# and will currently not be considered as target label)\n",
        "X_ano = data.drop(columns=['ENTRETIEN', 'RECRUTE'])\n",
        "X_unano = X_unano.drop(columns=['ENTRETIEN', 'RECRUTE'])"
      ],
      "execution_count": 7,
      "outputs": []
    },
    {
      "cell_type": "code",
      "metadata": {
        "id": "VtZQgElRw39P"
      },
      "source": [
        "X_unano.to_csv('X_unano.csv')"
      ],
      "execution_count": 8,
      "outputs": []
    },
    {
      "cell_type": "code",
      "metadata": {
        "id": "uEVp3Kri1LYd"
      },
      "source": [
        "import os\n",
        "import datetime\n",
        "import numpy as np\n",
        "import pandas as pd\n",
        "from tensorflow.keras.optimizers import Adam\n",
        "from sklearn.model_selection import train_test_split\n",
        "\n",
        "import tensorflow as tf\n",
        "from tensorflow import keras\n",
        "from tensorflow.keras import layers"
      ],
      "execution_count": 9,
      "outputs": []
    },
    {
      "cell_type": "code",
      "metadata": {
        "id": "rgKAkwAZdp3I"
      },
      "source": [
        "# Train, Test split\n",
        "\n",
        "X_train, X_test, y_train, y_test = train_test_split(X_unano, y_unano, test_size=0.33, random_state=42)\n",
        "\n",
        "input_shape = X_train[:1].shape"
      ],
      "execution_count": 10,
      "outputs": []
    },
    {
      "cell_type": "code",
      "metadata": {
        "colab": {
          "base_uri": "https://localhost:8080/"
        },
        "id": "WAgaYgbPd4RR",
        "outputId": "20cfe020-7e13-4372-974f-4d67a200e08f"
      },
      "source": [
        "# define the keras model\n",
        "\n",
        "name=\"simpleNet\"\n",
        "model = keras.Sequential(\n",
        "    [\n",
        "        layers.Dense(32, input_dim=73, activation='relu'),\n",
        "        layers.Dense(8, activation='relu'),\n",
        "        layers.Dense(1, activation='sigmoid')  \n",
        "    \n",
        "    ],name=name\n",
        ")\n",
        "model.summary()"
      ],
      "execution_count": 14,
      "outputs": [
        {
          "output_type": "stream",
          "text": [
            "Model: \"simpleNet\"\n",
            "_________________________________________________________________\n",
            "Layer (type)                 Output Shape              Param #   \n",
            "=================================================================\n",
            "dense_3 (Dense)              (None, 32)                2368      \n",
            "_________________________________________________________________\n",
            "dense_4 (Dense)              (None, 8)                 264       \n",
            "_________________________________________________________________\n",
            "dense_5 (Dense)              (None, 1)                 9         \n",
            "=================================================================\n",
            "Total params: 2,641\n",
            "Trainable params: 2,641\n",
            "Non-trainable params: 0\n",
            "_________________________________________________________________\n"
          ],
          "name": "stdout"
        }
      ]
    },
    {
      "cell_type": "code",
      "metadata": {
        "id": "t-xCiBM1kRYy"
      },
      "source": [
        "model.compile(loss='binary_crossentropy', optimizer='adam', metrics=['accuracy'])"
      ],
      "execution_count": 15,
      "outputs": []
    },
    {
      "cell_type": "code",
      "metadata": {
        "colab": {
          "base_uri": "https://localhost:8080/"
        },
        "id": "4PdwJ4smkRgT",
        "outputId": "64dd16f1-b5a0-450e-84f2-b0b316957b14"
      },
      "source": [
        "model.fit(X_train, y_train, epochs=150, batch_size=10)"
      ],
      "execution_count": 16,
      "outputs": [
        {
          "output_type": "stream",
          "text": [
            "Epoch 1/150\n",
            "58/58 [==============================] - 0s 1ms/step - loss: nan - accuracy: 0.8950\n",
            "Epoch 2/150\n",
            "58/58 [==============================] - 0s 1ms/step - loss: nan - accuracy: 0.8848\n",
            "Epoch 3/150\n",
            "58/58 [==============================] - 0s 1ms/step - loss: nan - accuracy: 0.8758\n",
            "Epoch 4/150\n",
            "58/58 [==============================] - 0s 1ms/step - loss: nan - accuracy: 0.8954\n",
            "Epoch 5/150\n",
            "58/58 [==============================] - 0s 1ms/step - loss: nan - accuracy: 0.8934\n",
            "Epoch 6/150\n",
            "58/58 [==============================] - 0s 1ms/step - loss: nan - accuracy: 0.9035\n",
            "Epoch 7/150\n",
            "58/58 [==============================] - 0s 1ms/step - loss: nan - accuracy: 0.9002\n",
            "Epoch 8/150\n",
            "58/58 [==============================] - 0s 1ms/step - loss: nan - accuracy: 0.8990\n",
            "Epoch 9/150\n",
            "58/58 [==============================] - 0s 1ms/step - loss: nan - accuracy: 0.9034\n",
            "Epoch 10/150\n",
            "58/58 [==============================] - 0s 1ms/step - loss: nan - accuracy: 0.8769\n",
            "Epoch 11/150\n",
            "58/58 [==============================] - 0s 1ms/step - loss: nan - accuracy: 0.8807\n",
            "Epoch 12/150\n",
            "58/58 [==============================] - 0s 1ms/step - loss: nan - accuracy: 0.8764\n",
            "Epoch 13/150\n",
            "58/58 [==============================] - 0s 1ms/step - loss: nan - accuracy: 0.8769\n",
            "Epoch 14/150\n",
            "58/58 [==============================] - 0s 1ms/step - loss: nan - accuracy: 0.8934\n",
            "Epoch 15/150\n",
            "58/58 [==============================] - 0s 1ms/step - loss: nan - accuracy: 0.8857\n",
            "Epoch 16/150\n",
            "58/58 [==============================] - 0s 1ms/step - loss: nan - accuracy: 0.8937\n",
            "Epoch 17/150\n",
            "58/58 [==============================] - 0s 1ms/step - loss: nan - accuracy: 0.8926\n",
            "Epoch 18/150\n",
            "58/58 [==============================] - 0s 1ms/step - loss: nan - accuracy: 0.8721\n",
            "Epoch 19/150\n",
            "58/58 [==============================] - 0s 1ms/step - loss: nan - accuracy: 0.8936\n",
            "Epoch 20/150\n",
            "58/58 [==============================] - 0s 1ms/step - loss: nan - accuracy: 0.8825\n",
            "Epoch 21/150\n",
            "58/58 [==============================] - 0s 1ms/step - loss: nan - accuracy: 0.8870\n",
            "Epoch 22/150\n",
            "58/58 [==============================] - 0s 1ms/step - loss: nan - accuracy: 0.8895\n",
            "Epoch 23/150\n",
            "58/58 [==============================] - 0s 1ms/step - loss: nan - accuracy: 0.8775\n",
            "Epoch 24/150\n",
            "58/58 [==============================] - 0s 1ms/step - loss: nan - accuracy: 0.8608\n",
            "Epoch 25/150\n",
            "58/58 [==============================] - 0s 1ms/step - loss: nan - accuracy: 0.8747\n",
            "Epoch 26/150\n",
            "58/58 [==============================] - 0s 1ms/step - loss: nan - accuracy: 0.8790\n",
            "Epoch 27/150\n",
            "58/58 [==============================] - 0s 1ms/step - loss: nan - accuracy: 0.8675\n",
            "Epoch 28/150\n",
            "58/58 [==============================] - 0s 1ms/step - loss: nan - accuracy: 0.8966\n",
            "Epoch 29/150\n",
            "58/58 [==============================] - 0s 1ms/step - loss: nan - accuracy: 0.8980\n",
            "Epoch 30/150\n",
            "58/58 [==============================] - 0s 1ms/step - loss: nan - accuracy: 0.8688\n",
            "Epoch 31/150\n",
            "58/58 [==============================] - 0s 1ms/step - loss: nan - accuracy: 0.8807\n",
            "Epoch 32/150\n",
            "58/58 [==============================] - 0s 1ms/step - loss: nan - accuracy: 0.8881\n",
            "Epoch 33/150\n",
            "58/58 [==============================] - 0s 1ms/step - loss: nan - accuracy: 0.8929\n",
            "Epoch 34/150\n",
            "58/58 [==============================] - 0s 1ms/step - loss: nan - accuracy: 0.8978\n",
            "Epoch 35/150\n",
            "58/58 [==============================] - 0s 1ms/step - loss: nan - accuracy: 0.8545\n",
            "Epoch 36/150\n",
            "58/58 [==============================] - 0s 1ms/step - loss: nan - accuracy: 0.9016\n",
            "Epoch 37/150\n",
            "58/58 [==============================] - 0s 1ms/step - loss: nan - accuracy: 0.9130\n",
            "Epoch 38/150\n",
            "58/58 [==============================] - 0s 1ms/step - loss: nan - accuracy: 0.8762\n",
            "Epoch 39/150\n",
            "58/58 [==============================] - 0s 1ms/step - loss: nan - accuracy: 0.8800\n",
            "Epoch 40/150\n",
            "58/58 [==============================] - 0s 1ms/step - loss: nan - accuracy: 0.8881\n",
            "Epoch 41/150\n",
            "58/58 [==============================] - 0s 1ms/step - loss: nan - accuracy: 0.8875\n",
            "Epoch 42/150\n",
            "58/58 [==============================] - 0s 1ms/step - loss: nan - accuracy: 0.8975\n",
            "Epoch 43/150\n",
            "58/58 [==============================] - 0s 1ms/step - loss: nan - accuracy: 0.8727\n",
            "Epoch 44/150\n",
            "58/58 [==============================] - 0s 1ms/step - loss: nan - accuracy: 0.8742\n",
            "Epoch 45/150\n",
            "58/58 [==============================] - 0s 1ms/step - loss: nan - accuracy: 0.8936\n",
            "Epoch 46/150\n",
            "58/58 [==============================] - 0s 1ms/step - loss: nan - accuracy: 0.8989\n",
            "Epoch 47/150\n",
            "58/58 [==============================] - 0s 1ms/step - loss: nan - accuracy: 0.8845\n",
            "Epoch 48/150\n",
            "58/58 [==============================] - 0s 1ms/step - loss: nan - accuracy: 0.8560\n",
            "Epoch 49/150\n",
            "58/58 [==============================] - 0s 1ms/step - loss: nan - accuracy: 0.8844\n",
            "Epoch 50/150\n",
            "58/58 [==============================] - 0s 1ms/step - loss: nan - accuracy: 0.9006\n",
            "Epoch 51/150\n",
            "58/58 [==============================] - 0s 1ms/step - loss: nan - accuracy: 0.8899\n",
            "Epoch 52/150\n",
            "58/58 [==============================] - 0s 1ms/step - loss: nan - accuracy: 0.8747\n",
            "Epoch 53/150\n",
            "58/58 [==============================] - 0s 1ms/step - loss: nan - accuracy: 0.8645\n",
            "Epoch 54/150\n",
            "58/58 [==============================] - 0s 1ms/step - loss: nan - accuracy: 0.8671\n",
            "Epoch 55/150\n",
            "58/58 [==============================] - 0s 1ms/step - loss: nan - accuracy: 0.8783\n",
            "Epoch 56/150\n",
            "58/58 [==============================] - 0s 1ms/step - loss: nan - accuracy: 0.8824\n",
            "Epoch 57/150\n",
            "58/58 [==============================] - 0s 1ms/step - loss: nan - accuracy: 0.8686\n",
            "Epoch 58/150\n",
            "58/58 [==============================] - 0s 1ms/step - loss: nan - accuracy: 0.8915\n",
            "Epoch 59/150\n",
            "58/58 [==============================] - 0s 1ms/step - loss: nan - accuracy: 0.8801\n",
            "Epoch 60/150\n",
            "58/58 [==============================] - 0s 1ms/step - loss: nan - accuracy: 0.8921\n",
            "Epoch 61/150\n",
            "58/58 [==============================] - 0s 1ms/step - loss: nan - accuracy: 0.8878\n",
            "Epoch 62/150\n",
            "58/58 [==============================] - 0s 1ms/step - loss: nan - accuracy: 0.8569\n",
            "Epoch 63/150\n",
            "58/58 [==============================] - 0s 1ms/step - loss: nan - accuracy: 0.8725\n",
            "Epoch 64/150\n",
            "58/58 [==============================] - 0s 1ms/step - loss: nan - accuracy: 0.8887\n",
            "Epoch 65/150\n",
            "58/58 [==============================] - 0s 1ms/step - loss: nan - accuracy: 0.8783\n",
            "Epoch 66/150\n",
            "58/58 [==============================] - 0s 1ms/step - loss: nan - accuracy: 0.8984\n",
            "Epoch 67/150\n",
            "58/58 [==============================] - 0s 1ms/step - loss: nan - accuracy: 0.8967\n",
            "Epoch 68/150\n",
            "58/58 [==============================] - 0s 1ms/step - loss: nan - accuracy: 0.8767\n",
            "Epoch 69/150\n",
            "58/58 [==============================] - 0s 1ms/step - loss: nan - accuracy: 0.8955\n",
            "Epoch 70/150\n",
            "58/58 [==============================] - 0s 1ms/step - loss: nan - accuracy: 0.9074\n",
            "Epoch 71/150\n",
            "58/58 [==============================] - 0s 1ms/step - loss: nan - accuracy: 0.8891\n",
            "Epoch 72/150\n",
            "58/58 [==============================] - 0s 1ms/step - loss: nan - accuracy: 0.8836\n",
            "Epoch 73/150\n",
            "58/58 [==============================] - 0s 1ms/step - loss: nan - accuracy: 0.8669\n",
            "Epoch 74/150\n",
            "58/58 [==============================] - 0s 1ms/step - loss: nan - accuracy: 0.8796\n",
            "Epoch 75/150\n",
            "58/58 [==============================] - 0s 1ms/step - loss: nan - accuracy: 0.9097\n",
            "Epoch 76/150\n",
            "58/58 [==============================] - 0s 1ms/step - loss: nan - accuracy: 0.8983\n",
            "Epoch 77/150\n",
            "58/58 [==============================] - 0s 1ms/step - loss: nan - accuracy: 0.8627\n",
            "Epoch 78/150\n",
            "58/58 [==============================] - 0s 1ms/step - loss: nan - accuracy: 0.8675\n",
            "Epoch 79/150\n",
            "58/58 [==============================] - 0s 1ms/step - loss: nan - accuracy: 0.8935\n",
            "Epoch 80/150\n",
            "58/58 [==============================] - 0s 1ms/step - loss: nan - accuracy: 0.9094\n",
            "Epoch 81/150\n",
            "58/58 [==============================] - 0s 1ms/step - loss: nan - accuracy: 0.8800\n",
            "Epoch 82/150\n",
            "58/58 [==============================] - 0s 1ms/step - loss: nan - accuracy: 0.9091\n",
            "Epoch 83/150\n",
            "58/58 [==============================] - 0s 1ms/step - loss: nan - accuracy: 0.8914\n",
            "Epoch 84/150\n",
            "58/58 [==============================] - 0s 1ms/step - loss: nan - accuracy: 0.8915\n",
            "Epoch 85/150\n",
            "58/58 [==============================] - 0s 1ms/step - loss: nan - accuracy: 0.8971\n",
            "Epoch 86/150\n",
            "58/58 [==============================] - 0s 1ms/step - loss: nan - accuracy: 0.8963\n",
            "Epoch 87/150\n",
            "58/58 [==============================] - 0s 1ms/step - loss: nan - accuracy: 0.8941\n",
            "Epoch 88/150\n",
            "58/58 [==============================] - 0s 1ms/step - loss: nan - accuracy: 0.8899\n",
            "Epoch 89/150\n",
            "58/58 [==============================] - 0s 1ms/step - loss: nan - accuracy: 0.8938\n",
            "Epoch 90/150\n",
            "58/58 [==============================] - 0s 1ms/step - loss: nan - accuracy: 0.8590\n",
            "Epoch 91/150\n",
            "58/58 [==============================] - 0s 1ms/step - loss: nan - accuracy: 0.8811\n",
            "Epoch 92/150\n",
            "58/58 [==============================] - 0s 1ms/step - loss: nan - accuracy: 0.8768\n",
            "Epoch 93/150\n",
            "58/58 [==============================] - 0s 1ms/step - loss: nan - accuracy: 0.9114\n",
            "Epoch 94/150\n",
            "58/58 [==============================] - 0s 1ms/step - loss: nan - accuracy: 0.8852\n",
            "Epoch 95/150\n",
            "58/58 [==============================] - 0s 1ms/step - loss: nan - accuracy: 0.9067\n",
            "Epoch 96/150\n",
            "58/58 [==============================] - 0s 1ms/step - loss: nan - accuracy: 0.8962\n",
            "Epoch 97/150\n",
            "58/58 [==============================] - 0s 1ms/step - loss: nan - accuracy: 0.8873\n",
            "Epoch 98/150\n",
            "58/58 [==============================] - 0s 1ms/step - loss: nan - accuracy: 0.8765\n",
            "Epoch 99/150\n",
            "58/58 [==============================] - 0s 1ms/step - loss: nan - accuracy: 0.8641\n",
            "Epoch 100/150\n",
            "58/58 [==============================] - 0s 1ms/step - loss: nan - accuracy: 0.8970\n",
            "Epoch 101/150\n",
            "58/58 [==============================] - 0s 1ms/step - loss: nan - accuracy: 0.8682\n",
            "Epoch 102/150\n",
            "58/58 [==============================] - 0s 1ms/step - loss: nan - accuracy: 0.9001\n",
            "Epoch 103/150\n",
            "58/58 [==============================] - 0s 1ms/step - loss: nan - accuracy: 0.8730\n",
            "Epoch 104/150\n",
            "58/58 [==============================] - 0s 1ms/step - loss: nan - accuracy: 0.8822\n",
            "Epoch 105/150\n",
            "58/58 [==============================] - 0s 1ms/step - loss: nan - accuracy: 0.8456\n",
            "Epoch 106/150\n",
            "58/58 [==============================] - 0s 1ms/step - loss: nan - accuracy: 0.8690\n",
            "Epoch 107/150\n",
            "58/58 [==============================] - 0s 1ms/step - loss: nan - accuracy: 0.8776\n",
            "Epoch 108/150\n",
            "58/58 [==============================] - 0s 1ms/step - loss: nan - accuracy: 0.8788\n",
            "Epoch 109/150\n",
            "58/58 [==============================] - 0s 1ms/step - loss: nan - accuracy: 0.8857\n",
            "Epoch 110/150\n",
            "58/58 [==============================] - 0s 1ms/step - loss: nan - accuracy: 0.8985\n",
            "Epoch 111/150\n",
            "58/58 [==============================] - 0s 1ms/step - loss: nan - accuracy: 0.8926\n",
            "Epoch 112/150\n",
            "58/58 [==============================] - 0s 1ms/step - loss: nan - accuracy: 0.9031\n",
            "Epoch 113/150\n",
            "58/58 [==============================] - 0s 2ms/step - loss: nan - accuracy: 0.8845\n",
            "Epoch 114/150\n",
            "58/58 [==============================] - 0s 1ms/step - loss: nan - accuracy: 0.8695\n",
            "Epoch 115/150\n",
            "58/58 [==============================] - 0s 1ms/step - loss: nan - accuracy: 0.9025\n",
            "Epoch 116/150\n",
            "58/58 [==============================] - 0s 1ms/step - loss: nan - accuracy: 0.8724\n",
            "Epoch 117/150\n",
            "58/58 [==============================] - 0s 1ms/step - loss: nan - accuracy: 0.8745\n",
            "Epoch 118/150\n",
            "58/58 [==============================] - 0s 1ms/step - loss: nan - accuracy: 0.9079\n",
            "Epoch 119/150\n",
            "58/58 [==============================] - 0s 1ms/step - loss: nan - accuracy: 0.9015\n",
            "Epoch 120/150\n",
            "58/58 [==============================] - 0s 1ms/step - loss: nan - accuracy: 0.8781\n",
            "Epoch 121/150\n",
            "58/58 [==============================] - 0s 1ms/step - loss: nan - accuracy: 0.8816\n",
            "Epoch 122/150\n",
            "58/58 [==============================] - 0s 1ms/step - loss: nan - accuracy: 0.8866\n",
            "Epoch 123/150\n",
            "58/58 [==============================] - 0s 1ms/step - loss: nan - accuracy: 0.9086\n",
            "Epoch 124/150\n",
            "58/58 [==============================] - 0s 1ms/step - loss: nan - accuracy: 0.8912\n",
            "Epoch 125/150\n",
            "58/58 [==============================] - 0s 1ms/step - loss: nan - accuracy: 0.8911\n",
            "Epoch 126/150\n",
            "58/58 [==============================] - 0s 1ms/step - loss: nan - accuracy: 0.8913\n",
            "Epoch 127/150\n",
            "58/58 [==============================] - 0s 1ms/step - loss: nan - accuracy: 0.8882\n",
            "Epoch 128/150\n",
            "58/58 [==============================] - 0s 1ms/step - loss: nan - accuracy: 0.8845\n",
            "Epoch 129/150\n",
            "58/58 [==============================] - 0s 1ms/step - loss: nan - accuracy: 0.8699\n",
            "Epoch 130/150\n",
            "58/58 [==============================] - 0s 1ms/step - loss: nan - accuracy: 0.8954\n",
            "Epoch 131/150\n",
            "58/58 [==============================] - 0s 1ms/step - loss: nan - accuracy: 0.8651\n",
            "Epoch 132/150\n",
            "58/58 [==============================] - 0s 1ms/step - loss: nan - accuracy: 0.8787\n",
            "Epoch 133/150\n",
            "58/58 [==============================] - 0s 1ms/step - loss: nan - accuracy: 0.8836\n",
            "Epoch 134/150\n",
            "58/58 [==============================] - 0s 1ms/step - loss: nan - accuracy: 0.8896\n",
            "Epoch 135/150\n",
            "58/58 [==============================] - 0s 1ms/step - loss: nan - accuracy: 0.8838\n",
            "Epoch 136/150\n",
            "58/58 [==============================] - 0s 1ms/step - loss: nan - accuracy: 0.8980\n",
            "Epoch 137/150\n",
            "58/58 [==============================] - 0s 1ms/step - loss: nan - accuracy: 0.8813\n",
            "Epoch 138/150\n",
            "58/58 [==============================] - 0s 1ms/step - loss: nan - accuracy: 0.8890\n",
            "Epoch 139/150\n",
            "58/58 [==============================] - 0s 1ms/step - loss: nan - accuracy: 0.8875\n",
            "Epoch 140/150\n",
            "58/58 [==============================] - 0s 1ms/step - loss: nan - accuracy: 0.8970\n",
            "Epoch 141/150\n",
            "58/58 [==============================] - 0s 1ms/step - loss: nan - accuracy: 0.8936\n",
            "Epoch 142/150\n",
            "58/58 [==============================] - 0s 1ms/step - loss: nan - accuracy: 0.8874\n",
            "Epoch 143/150\n",
            "58/58 [==============================] - 0s 1ms/step - loss: nan - accuracy: 0.8814\n",
            "Epoch 144/150\n",
            "58/58 [==============================] - 0s 1ms/step - loss: nan - accuracy: 0.9047\n",
            "Epoch 145/150\n",
            "58/58 [==============================] - 0s 1ms/step - loss: nan - accuracy: 0.8718\n",
            "Epoch 146/150\n",
            "58/58 [==============================] - 0s 1ms/step - loss: nan - accuracy: 0.8832\n",
            "Epoch 147/150\n",
            "58/58 [==============================] - 0s 1ms/step - loss: nan - accuracy: 0.9121\n",
            "Epoch 148/150\n",
            "58/58 [==============================] - 0s 1ms/step - loss: nan - accuracy: 0.8944\n",
            "Epoch 149/150\n",
            "58/58 [==============================] - 0s 1ms/step - loss: nan - accuracy: 0.8963\n",
            "Epoch 150/150\n",
            "58/58 [==============================] - 0s 1ms/step - loss: nan - accuracy: 0.8892\n"
          ],
          "name": "stdout"
        },
        {
          "output_type": "execute_result",
          "data": {
            "text/plain": [
              "<tensorflow.python.keras.callbacks.History at 0x7fac746b1b50>"
            ]
          },
          "metadata": {
            "tags": []
          },
          "execution_count": 16
        }
      ]
    },
    {
      "cell_type": "code",
      "metadata": {
        "colab": {
          "base_uri": "https://localhost:8080/"
        },
        "id": "ay_AE3snkRlZ",
        "outputId": "ae83d75f-6b25-4a26-8499-649be6a4ad00"
      },
      "source": [
        "_, accuracy = model.evaluate(X_test, y_test)\n",
        "print('Accuracy: %.2f' % (accuracy*100))"
      ],
      "execution_count": 17,
      "outputs": [
        {
          "output_type": "stream",
          "text": [
            "9/9 [==============================] - 0s 1ms/step - loss: nan - accuracy: 0.8982\n",
            "Accuracy: 89.82\n"
          ],
          "name": "stdout"
        }
      ]
    },
    {
      "cell_type": "code",
      "metadata": {
        "colab": {
          "base_uri": "https://localhost:8080/"
        },
        "id": "za_UZ-amhGku",
        "outputId": "01b5992f-b0a8-41a6-c5da-3638bb00e574"
      },
      "source": [
        "batch_size = 128\n",
        "epochs = 50\n",
        "\n",
        "model.compile(loss=\"categorical_crossentropy\", optimizer=Adam(epsilon=1e-07, learning_rate=0.001), metrics=[\"accuracy\"])\n",
        "log_dir= os.path.join('logs','fit_'+name,datetime.datetime.now().strftime(\"%Y%m%d-%H%M%S\"),'')\n",
        "\n",
        "#Learning Rate Annealer\n",
        "from tensorflow.keras.callbacks import ReduceLROnPlateau\n",
        "lrr = ReduceLROnPlateau(monitor='val_accuracy',\n",
        "                       factor=.01,\n",
        "                       patience=3,\n",
        "                       min_lr=1e-7,\n",
        "                       verbose=1)\n",
        "#Early stopping\n",
        "es = tf.keras.callbacks.EarlyStopping(monitor=\"val_accuracy\", patience=8, verbose=1, mode=\"auto\", baseline=None, restore_best_weights=True)\n",
        "\n",
        "# tensorboard_callback = keras.callbacks.TensorBoard(log_dir=log_dir, histogram_freq=1)\n",
        "\n",
        "history=model.fit(X_train, y_train, batch_size=batch_size, epochs=epochs, validation_split=0.1,callbacks=[es, lrr])"
      ],
      "execution_count": 18,
      "outputs": [
        {
          "output_type": "stream",
          "text": [
            "Epoch 1/50\n",
            "5/5 [==============================] - 1s 80ms/step - loss: nan - accuracy: 0.8848 - val_loss: nan - val_accuracy: 0.8793\n",
            "Epoch 2/50\n",
            "5/5 [==============================] - 0s 9ms/step - loss: nan - accuracy: 0.8832 - val_loss: nan - val_accuracy: 0.8793\n",
            "Epoch 3/50\n",
            "5/5 [==============================] - 0s 8ms/step - loss: nan - accuracy: 0.8767 - val_loss: nan - val_accuracy: 0.8793\n",
            "Epoch 4/50\n",
            "5/5 [==============================] - 0s 9ms/step - loss: nan - accuracy: 0.8819 - val_loss: nan - val_accuracy: 0.8793\n",
            "\n",
            "Epoch 00004: ReduceLROnPlateau reducing learning rate to 1.0000000474974514e-05.\n",
            "Epoch 5/50\n",
            "5/5 [==============================] - 0s 9ms/step - loss: nan - accuracy: 0.8787 - val_loss: nan - val_accuracy: 0.8793\n",
            "Epoch 6/50\n",
            "5/5 [==============================] - 0s 9ms/step - loss: nan - accuracy: 0.8940 - val_loss: nan - val_accuracy: 0.8793\n",
            "Epoch 7/50\n",
            "5/5 [==============================] - 0s 8ms/step - loss: nan - accuracy: 0.8836 - val_loss: nan - val_accuracy: 0.8793\n",
            "\n",
            "Epoch 00007: ReduceLROnPlateau reducing learning rate to 1.0000000656873453e-07.\n",
            "Epoch 8/50\n",
            "5/5 [==============================] - 0s 9ms/step - loss: nan - accuracy: 0.8850 - val_loss: nan - val_accuracy: 0.8793\n",
            "Epoch 9/50\n",
            "5/5 [==============================] - 0s 9ms/step - loss: nan - accuracy: 0.8828 - val_loss: nan - val_accuracy: 0.8793\n",
            "Restoring model weights from the end of the best epoch.\n",
            "Epoch 00009: early stopping\n"
          ],
          "name": "stdout"
        }
      ]
    },
    {
      "cell_type": "code",
      "metadata": {
        "id": "lnWoOGhNhRa0"
      },
      "source": [
        "input_shape[1]"
      ],
      "execution_count": null,
      "outputs": []
    },
    {
      "cell_type": "code",
      "metadata": {
        "id": "MB2psoLqiDYA"
      },
      "source": [
        "X_train"
      ],
      "execution_count": null,
      "outputs": []
    },
    {
      "cell_type": "code",
      "metadata": {
        "id": "JLrOIHZPnxsl"
      },
      "source": [
        ""
      ],
      "execution_count": null,
      "outputs": []
    }
  ]
}