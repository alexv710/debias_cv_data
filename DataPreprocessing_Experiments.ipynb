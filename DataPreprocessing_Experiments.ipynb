{
  "nbformat": 4,
  "nbformat_minor": 0,
  "metadata": {
    "colab": {
      "name": "DataPreprocessing_Experiments.ipynb",
      "provenance": [],
      "toc_visible": true,
      "include_colab_link": true
    },
    "kernelspec": {
      "display_name": "Python 3",
      "language": "python",
      "name": "python3"
    },
    "language_info": {
      "codemirror_mode": {
        "name": "ipython",
        "version": 3
      },
      "file_extension": ".py",
      "mimetype": "text/x-python",
      "name": "python",
      "nbconvert_exporter": "python",
      "pygments_lexer": "ipython3",
      "version": "3.8.8"
    }
  },
  "cells": [
    {
      "cell_type": "markdown",
      "metadata": {
        "id": "view-in-github",
        "colab_type": "text"
      },
      "source": [
        "<a href=\"https://colab.research.google.com/github/alexv710/debias_cv_data/blob/main/DataPreprocessing_Experiments.ipynb\" target=\"_parent\"><img src=\"https://colab.research.google.com/assets/colab-badge.svg\" alt=\"Open In Colab\"/></a>"
      ]
    },
    {
      "cell_type": "code",
      "metadata": {
        "id": "pWPPfS8TtfMG"
      },
      "source": [
        "import io\n",
        "import os\n",
        "import datetime\n",
        "\n",
        "import pandas as pd\n",
        "\n",
        "import numpy as np\n",
        "from numpy import mean\n",
        "from numpy import std\n",
        "\n",
        "# sklearn\n",
        "from sklearn import svm\n",
        "from sklearn.model_selection import train_test_split\n",
        "from sklearn.ensemble import RandomForestClassifier\n",
        "from sklearn.model_selection import RepeatedStratifiedKFold\n",
        "from sklearn.model_selection import cross_val_score\n",
        "from sklearn import metrics\n",
        "\n",
        "# tensorflow\n",
        "import tensorflow as tf\n",
        "from tensorflow.keras.optimizers import Adam\n",
        "from tensorflow.keras import initializers\n",
        "from tensorflow import keras\n",
        "from tensorflow.keras import layers\n",
        "from tensorflow.keras.callbacks import ReduceLROnPlateau\n"
      ],
      "execution_count": 1,
      "outputs": []
    },
    {
      "cell_type": "markdown",
      "metadata": {
        "id": "o3uQoI_1mj4X"
      },
      "source": [
        "# Data Preprocessing"
      ]
    },
    {
      "cell_type": "code",
      "metadata": {
        "id": "1aMoiVvsmdo7"
      },
      "source": [
        "# apply the min-max scaling in Pandas using the .min() and .max() methods\n",
        "def min_max_scaling(df):\n",
        "    # copy the dataframe\n",
        "    df_norm = df.copy()\n",
        "    # apply min-max scaling\n",
        "    for column in df_norm.columns:\n",
        "        df_norm[column] = (df_norm[column] - df_norm[column].min()) / (df_norm[column].max() - df_norm[column].min())\n",
        "        \n",
        "    return df_norm\n",
        "\n",
        "# read the mainsample.dta file for further processing \n",
        "\n",
        "data = pd.io.stata.read_stata(\"data_candidates_mainsample.dta\")\n",
        "data.to_csv('data_candidates_mainsample.csv')\n",
        "\n",
        "# Import the mainsample via StataReader to use variable_labels (old version of the read_stata)\n",
        "\n",
        "data_stata = pd.io.stata.StataReader(\"data_candidates_mainsample.dta\")\n",
        "data_labels = data_stata.variable_labels()\n",
        "\n",
        "# Remove all columns in the dataset for which no labels exist\n",
        "# Those are mostly columns needed for p-tests and some matrix calculations in\n",
        "# Stata. The outputted labels are those that are kept in the data\n",
        "\n",
        "data = data.drop(columns=['CVAxORIGINE_IM_12', 'CVAxZUS_CUCS', 'CVAxZetI', 'C', 'CVA0',\\\n",
        "                          'p_offre1', 'control_manquant', 'ZouI_pred', 'ZouI0', 'ALE_16'])\n",
        "\n",
        "# Remove sampling weights (within and out of the experiment)\n",
        "\n",
        "data = data.drop(columns='POIDS_SEL')\n",
        "\n",
        "# Remove all the centered features\n",
        "\n",
        "data = data.drop(columns=['FEMME_c', 'a30m_c', 'a3049_c', 'a50p_c', 'dip_aucun_c',\\\n",
        "                          'dip_bepcap_c', 'dip_bac_c', 'dip_bac2p_c', 'recherche_LD_c', 'recherche_TLD_c'])\n",
        "\n",
        "# Remove all features that are not directly derivable from the CVs or that have missing data\n",
        "\n",
        "data = data.drop(columns=['RECRUTE', 'REFUSAL', 'codage_cv', 'ORIGINE_IM_1', 'ORIGINE_IM_2',\\\n",
        "                          'ORIGINE_IM_12', 'ID_OFFRE', 'ID_CANDIDAT', 'travail_etranger', 'duree_expro_offre'])\n",
        "\n",
        "for key, value in data_labels.items():\n",
        "    for col in data.columns:\n",
        "        if key==col:\n",
        "            # print(key, ':    ', value)\n",
        "            if len(value)==0 or value.startswith('ID_OFFRE==') or value.startswith('Dummy for local job center'):\n",
        "                data = data.drop(columns=col)\n",
        "\n",
        "# clean up dataset nan values\n",
        "# print(len(data))\n",
        "# for item in data:\n",
        "    # if data[item].isna().sum() > 0:\n",
        "        # print(item, data[item].isna().sum())\n",
        "        \n",
        "data.dropna(subset=['CV_note_7p', 'etudes_etranger', 'langue_anglais'],inplace=True)\n",
        "\n",
        "# print(len(data))\n",
        "# for item in data:\n",
        "    # if data[item].isna().sum() > 0:\n",
        "        # print(item, data[item].isna().sum())\n",
        "\n",
        "# Normalize remaining columns to values between 0 and 1\n",
        "# call the min_max_scaling function\n",
        "\n",
        "data = min_max_scaling(data)"
      ],
      "execution_count": 2,
      "outputs": []
    },
    {
      "cell_type": "code",
      "metadata": {
        "id": "F-jU5Dh8vCNL"
      },
      "source": [
        "# Create a dataframe for the anonymized and not anonymized data\n",
        "\n",
        "X_ano = pd.DataFrame()\n",
        "X_unano = pd.DataFrame()\n",
        "X = pd.DataFrame()\n",
        "\n",
        "for index, row in data.iterrows():\n",
        "  if row['CVA'] == 1: \n",
        "    X_ano = X_ano.append(row)\n",
        "  else:\n",
        "    X_unano = X_unano.append(row)\n",
        "\n",
        "# Assign the interviewed column to our target vector\n",
        "\n",
        "y_ano = X_ano['ENTRETIEN']\n",
        "y_unano = X_unano['ENTRETIEN']\n",
        "y = data['ENTRETIEN']\n",
        "\n",
        "# Drop the Interviewed/hired & anonymized columns (hired is much dependend on the number of jobs available\n",
        "# and will currently not be considered as target label)\n",
        "X_ano = X_ano.drop(columns=['CVA'])\n",
        "X_unano = X_unano.drop(columns=['CVA'])\n",
        "X = data.drop(columns=['CVA'])"
      ],
      "execution_count": 3,
      "outputs": []
    },
    {
      "cell_type": "code",
      "metadata": {
        "id": "Ejc4OEQDmj4b",
        "colab": {
          "base_uri": "https://localhost:8080/",
          "height": 690
        },
        "outputId": "fe28a8ba-cf2c-4258-d686-f65aab2b629b"
      },
      "source": [
        "corrTable = pd.DataFrame()\n",
        "\n",
        "corrTable['ano'] = X_ano.corr()['ENTRETIEN']\n",
        "corrTable['unano'] = X_unano.corr()['ENTRETIEN']\n",
        "corrTable['combined'] = data.corr()['ENTRETIEN']\n",
        "\n",
        "corrTable.drop('ENTRETIEN', axis=0).plot.bar(figsize=(20,10))"
      ],
      "execution_count": 4,
      "outputs": [
        {
          "output_type": "execute_result",
          "data": {
            "text/plain": [
              "<matplotlib.axes._subplots.AxesSubplot at 0x7f4846490d50>"
            ]
          },
          "metadata": {
            "tags": []
          },
          "execution_count": 4
        },
        {
          "output_type": "display_data",
          "data": {
            "image/png": "[encoded data removed]",
            "text/plain": [
              "<Figure size 1440x720 with 1 Axes>"
            ]
          },
          "metadata": {
            "tags": [],
            "needs_background": "light"
          }
        }
      ]
    },
    {
      "cell_type": "code",
      "metadata": {
        "id": "7NEapitXmj4c"
      },
      "source": [
        "X_ano = X_ano.drop(columns=['ENTRETIEN'])\n",
        "X_unano = X_unano.drop(columns=['ENTRETIEN'])\n",
        "X = X.drop(columns=['ENTRETIEN'])"
      ],
      "execution_count": 5,
      "outputs": []
    },
    {
      "cell_type": "markdown",
      "metadata": {
        "id": "LJiVU56nmj4d"
      },
      "source": [
        "### Data Preparation for models"
      ]
    },
    {
      "cell_type": "code",
      "metadata": {
        "id": "rgKAkwAZdp3I"
      },
      "source": [
        "# Train, Test split\n",
        "\n",
        "X_train, X_test, y_train, y_test = train_test_split(X, y, test_size=.1, random_state=54)"
      ],
      "execution_count": 6,
      "outputs": []
    },
    {
      "cell_type": "markdown",
      "metadata": {
        "id": "NHeGgpZqmj4g"
      },
      "source": [
        "# Neural Network"
      ]
    },
    {
      "cell_type": "markdown",
      "metadata": {
        "id": "uEVp3Kri1LYd"
      },
      "source": [
        "The neural network \"simpleNet\" is built using Keras with one input layer with the activation function relu and one output layer using a sigmoid activation function for binary classification. In addition three hidden layers are addedm, all with relu activation function."
      ]
    },
    {
      "cell_type": "code",
      "metadata": {
        "colab": {
          "base_uri": "https://localhost:8080/"
        },
        "id": "WAgaYgbPd4RR",
        "outputId": "458bb717-6aec-402b-bad3-d7093cb66d0a"
      },
      "source": [
        "# define the keras model\n",
        "\n",
        "name=\"simpleNet\"\n",
        "model = keras.Sequential(\n",
        "    [\n",
        "        layers.Dense(48, input_dim=48, activation='relu', kernel_initializer=initializers.RandomNormal(stddev=0.08)),\n",
        "                \n",
        "        # layers.Dropout(0.5),\n",
        "        layers.Dense(24, activation='relu'),\n",
        "        layers.Dense(24, activation='relu'),\n",
        "        # layers.Dropout(0.2),\n",
        "        layers.Dense(12, activation='relu'),\n",
        "        \n",
        "        layers.Dense(1, activation='sigmoid')  \n",
        "    \n",
        "    ],name=name\n",
        ")\n",
        "model.summary()"
      ],
      "execution_count": 7,
      "outputs": [
        {
          "output_type": "stream",
          "text": [
            "Model: \"simpleNet\"\n",
            "_________________________________________________________________\n",
            "Layer (type)                 Output Shape              Param #   \n",
            "=================================================================\n",
            "dense (Dense)                (None, 48)                2352      \n",
            "_________________________________________________________________\n",
            "dense_1 (Dense)              (None, 24)                1176      \n",
            "_________________________________________________________________\n",
            "dense_2 (Dense)              (None, 24)                600       \n",
            "_________________________________________________________________\n",
            "dense_3 (Dense)              (None, 12)                300       \n",
            "_________________________________________________________________\n",
            "dense_4 (Dense)              (None, 1)                 13        \n",
            "=================================================================\n",
            "Total params: 4,441\n",
            "Trainable params: 4,441\n",
            "Non-trainable params: 0\n",
            "_________________________________________________________________\n"
          ],
          "name": "stdout"
        }
      ]
    },
    {
      "cell_type": "markdown",
      "metadata": {
        "id": "b5MxU5PHoiuQ"
      },
      "source": [
        "Experiment with SGD optimiser."
      ]
    },
    {
      "cell_type": "code",
      "metadata": {
        "id": "t-xCiBM1kRYy",
        "colab": {
          "base_uri": "https://localhost:8080/"
        },
        "outputId": "bb3ab02a-2560-4e67-ea3c-643ced0dea98"
      },
      "source": [
        "from tensorflow.keras.optimizers import SGD\n",
        "sgd = keras.optimizers.SGD(lr=.1, momentum=0.2, nesterov=True)\n",
        "\n",
        "\n",
        "#Learning Rate Annealer\n",
        "lrr = ReduceLROnPlateau(monitor='val_loss',#'val_accuracy',\n",
        "                       factor=.01,\n",
        "                       patience=4,\n",
        "                       min_lr=1e-8,\n",
        "                       verbose=1)\n",
        "#Early stopping\n",
        "es = tf.keras.callbacks.EarlyStopping(monitor='val_loss',#\"val_accuracy\",\\\n",
        "                                      patience=8, verbose=0, mode=\"auto\", baseline=None, restore_best_weights=True)\n",
        "\n",
        "\n",
        "#model.compile(optimizer=\"sgd\", loss=\"mae\", metrics=[\"mae\", 'accuracy'])\n",
        "model.compile(optimizer=\"sgd\", loss=\"mse\", metrics=['mse',tf.keras.metrics.AUC()])\n",
        "\n",
        "#model.fit(np.array(X_train), np.array(y_train), epochs=20, callbacks=[es, lrr], validation_split=0.2, shuffle=True, verbose=2)\n",
        "model.fit(np.array(X_train), np.array(y_train), epochs=500, callbacks=[es,lrr], validation_split=0.2, shuffle=True, verbose=2)"
      ],
      "execution_count": 13,
      "outputs": [
        {
          "output_type": "stream",
          "text": [
            "Epoch 1/500\n",
            "25/25 - 1s - loss: 0.1204 - mse: 0.1204 - auc_3: 0.5907 - val_loss: 0.1113 - val_mse: 0.1113 - val_auc_3: 0.5514\n",
            "Epoch 2/500\n",
            "25/25 - 0s - loss: 0.1203 - mse: 0.1203 - auc_3: 0.5902 - val_loss: 0.1113 - val_mse: 0.1113 - val_auc_3: 0.5473\n",
            "Epoch 3/500\n",
            "25/25 - 0s - loss: 0.1203 - mse: 0.1203 - auc_3: 0.5890 - val_loss: 0.1113 - val_mse: 0.1113 - val_auc_3: 0.5479\n",
            "Epoch 4/500\n",
            "25/25 - 0s - loss: 0.1203 - mse: 0.1203 - auc_3: 0.5936 - val_loss: 0.1113 - val_mse: 0.1113 - val_auc_3: 0.5479\n",
            "Epoch 5/500\n",
            "25/25 - 0s - loss: 0.1202 - mse: 0.1202 - auc_3: 0.5955 - val_loss: 0.1113 - val_mse: 0.1113 - val_auc_3: 0.5489\n",
            "\n",
            "Epoch 00005: ReduceLROnPlateau reducing learning rate to 9.999999776482583e-05.\n",
            "Epoch 6/500\n",
            "25/25 - 0s - loss: 0.1202 - mse: 0.1202 - auc_3: 0.5990 - val_loss: 0.1113 - val_mse: 0.1113 - val_auc_3: 0.5493\n",
            "Epoch 7/500\n",
            "25/25 - 0s - loss: 0.1202 - mse: 0.1202 - auc_3: 0.5992 - val_loss: 0.1113 - val_mse: 0.1113 - val_auc_3: 0.5493\n",
            "Epoch 8/500\n",
            "25/25 - 0s - loss: 0.1202 - mse: 0.1202 - auc_3: 0.5997 - val_loss: 0.1113 - val_mse: 0.1113 - val_auc_3: 0.5493\n",
            "Epoch 9/500\n",
            "25/25 - 0s - loss: 0.1202 - mse: 0.1202 - auc_3: 0.5990 - val_loss: 0.1112 - val_mse: 0.1112 - val_auc_3: 0.5493\n",
            "\n",
            "Epoch 00009: ReduceLROnPlateau reducing learning rate to 9.999999747378752e-07.\n",
            "Epoch 10/500\n",
            "25/25 - 0s - loss: 0.1202 - mse: 0.1202 - auc_3: 0.5997 - val_loss: 0.1112 - val_mse: 0.1112 - val_auc_3: 0.5493\n",
            "Epoch 11/500\n",
            "25/25 - 0s - loss: 0.1202 - mse: 0.1202 - auc_3: 0.5997 - val_loss: 0.1112 - val_mse: 0.1112 - val_auc_3: 0.5493\n",
            "Epoch 12/500\n",
            "25/25 - 0s - loss: 0.1202 - mse: 0.1202 - auc_3: 0.5997 - val_loss: 0.1112 - val_mse: 0.1112 - val_auc_3: 0.5493\n",
            "Epoch 13/500\n",
            "25/25 - 0s - loss: 0.1202 - mse: 0.1202 - auc_3: 0.5997 - val_loss: 0.1112 - val_mse: 0.1112 - val_auc_3: 0.5493\n",
            "\n",
            "Epoch 00013: ReduceLROnPlateau reducing learning rate to 1e-08.\n",
            "Epoch 14/500\n",
            "25/25 - 0s - loss: 0.1202 - mse: 0.1202 - auc_3: 0.5997 - val_loss: 0.1112 - val_mse: 0.1112 - val_auc_3: 0.5493\n",
            "Epoch 15/500\n",
            "25/25 - 0s - loss: 0.1202 - mse: 0.1202 - auc_3: 0.5997 - val_loss: 0.1112 - val_mse: 0.1112 - val_auc_3: 0.5493\n",
            "Epoch 16/500\n",
            "25/25 - 0s - loss: 0.1202 - mse: 0.1202 - auc_3: 0.5997 - val_loss: 0.1112 - val_mse: 0.1112 - val_auc_3: 0.5493\n",
            "Epoch 17/500\n",
            "25/25 - 0s - loss: 0.1202 - mse: 0.1202 - auc_3: 0.5997 - val_loss: 0.1112 - val_mse: 0.1112 - val_auc_3: 0.5493\n"
          ],
          "name": "stdout"
        },
        {
          "output_type": "execute_result",
          "data": {
            "text/plain": [
              "<tensorflow.python.keras.callbacks.History at 0x7f09730a6810>"
            ]
          },
          "metadata": {
            "tags": []
          },
          "execution_count": 13
        }
      ]
    },
    {
      "cell_type": "code",
      "metadata": {
        "colab": {
          "base_uri": "https://localhost:8080/"
        },
        "id": "6pEEsI4alkGg",
        "outputId": "73fc7409-3781-4a58-8e51-85bfd39bc176"
      },
      "source": [
        "#_, _, accuracy = model.evaluate(X_test, y_test)\n",
        "loss,mse,auc = model.evaluate(X_test, y_test)\n",
        "#print('Accuracy: %.2f' % (accuracy*100))\n",
        "print('Loss: %f, MSE: %f, AUC: %f'%(loss, mse, auc))"
      ],
      "execution_count": 14,
      "outputs": [
        {
          "output_type": "stream",
          "text": [
            "4/4 [==============================] - 0s 3ms/step - loss: 0.0715 - mse: 0.0715 - auc_3: 0.6906\n",
            "Loss: 0.071516, MSE: 0.071516, AUC: 0.690594\n"
          ],
          "name": "stdout"
        }
      ]
    },
    {
      "cell_type": "markdown",
      "metadata": {
        "id": "2YsQ50JDonRk"
      },
      "source": [
        "Experiment with Adam optimiser."
      ]
    },
    {
      "cell_type": "code",
      "metadata": {
        "colab": {
          "base_uri": "https://localhost:8080/"
        },
        "id": "Pw4-m9VvooiM",
        "outputId": "7d91313f-123d-4c90-c23a-6c472ec6aa63"
      },
      "source": [
        "from tensorflow.keras.optimizers import Adam\n",
        "adam = keras.optimizers.Adam(learning_rate=0.01)\n",
        "\n",
        "#Learning Rate Annealer\n",
        "#lrr = ReduceLROnPlateau(monitor='binary_crossentropy',#'val_accuracy',\n",
        "#                       factor=.01,\n",
        "#                       patience=4,\n",
        "#                       min_lr=1e-8,\n",
        "#                       verbose=1)\n",
        "#Early stopping\n",
        "es = tf.keras.callbacks.EarlyStopping(monitor='val_loss',#'binary_crossentropy',#\"val_accuracy\",\\\n",
        "                                      patience=8, verbose=0, mode=\"auto\", baseline=None, restore_best_weights=True)\n",
        "\n",
        "\n",
        "model.compile(optimizer=\"adam\", loss=\"mse\", metrics=[tf.keras.metrics.TruePositives(name='tp')])#=[tf.keras.metrics.Recall()])\n",
        "\n",
        "#model.fit(np.array(X_train), np.array(y_train), epochs=20, callbacks=[es, lrr], validation_split=0.2, shuffle=True, verbose=2)\n",
        "model.fit(np.array(X_train), np.array(y_train), epochs=500, callbacks=[es], validation_split=0.2, shuffle=True, verbose=2)"
      ],
      "execution_count": 57,
      "outputs": [
        {
          "output_type": "stream",
          "text": [
            "Epoch 1/500\n",
            "25/25 - 1s - loss: 0.0011 - tp: 109.0000 - val_loss: 0.1939 - val_tp: 1.0000\n",
            "Epoch 2/500\n",
            "25/25 - 0s - loss: 9.8449e-04 - tp: 109.0000 - val_loss: 0.1961 - val_tp: 1.0000\n",
            "Epoch 3/500\n",
            "25/25 - 0s - loss: 7.3161e-04 - tp: 109.0000 - val_loss: 0.1972 - val_tp: 1.0000\n",
            "Epoch 4/500\n",
            "25/25 - 0s - loss: 7.9401e-04 - tp: 109.0000 - val_loss: 0.1989 - val_tp: 1.0000\n",
            "Epoch 5/500\n",
            "25/25 - 0s - loss: 8.2014e-04 - tp: 109.0000 - val_loss: 0.2022 - val_tp: 2.0000\n",
            "Epoch 6/500\n",
            "25/25 - 0s - loss: 6.8273e-04 - tp: 110.0000 - val_loss: 0.2039 - val_tp: 2.0000\n",
            "Epoch 7/500\n",
            "25/25 - 0s - loss: 6.7524e-04 - tp: 110.0000 - val_loss: 0.2045 - val_tp: 2.0000\n",
            "Epoch 8/500\n",
            "25/25 - 0s - loss: 6.5936e-04 - tp: 110.0000 - val_loss: 0.2053 - val_tp: 2.0000\n",
            "Epoch 9/500\n",
            "25/25 - 0s - loss: 7.2884e-04 - tp: 109.0000 - val_loss: 0.2058 - val_tp: 2.0000\n"
          ],
          "name": "stdout"
        },
        {
          "output_type": "execute_result",
          "data": {
            "text/plain": [
              "<tensorflow.python.keras.callbacks.History at 0x7f4839481b10>"
            ]
          },
          "metadata": {
            "tags": []
          },
          "execution_count": 57
        }
      ]
    },
    {
      "cell_type": "code",
      "metadata": {
        "colab": {
          "base_uri": "https://localhost:8080/"
        },
        "id": "4hnEn_uvopa_",
        "outputId": "32369cdf-2400-4051-d37e-502bb0766724"
      },
      "source": [
        "#_, _, accuracy = model.evaluate(X_test, y_test)\n",
        "loss,tp = model.evaluate(X_test, y_test)\n",
        "#print('Accuracy: %.2f' % (accuracy*100))\n",
        "print('Loss: %f,  tp: %f'%(loss, tp))"
      ],
      "execution_count": 58,
      "outputs": [
        {
          "output_type": "stream",
          "text": [
            "4/4 [==============================] - 0s 4ms/step - loss: 0.1832 - tp: 1.0000\n",
            "Loss: 0.183200,  tp: 1.000000\n"
          ],
          "name": "stdout"
        }
      ]
    },
    {
      "cell_type": "markdown",
      "metadata": {
        "id": "RZvJCn07ouiL"
      },
      "source": [
        "### Making predictions"
      ]
    },
    {
      "cell_type": "code",
      "metadata": {
        "colab": {
          "base_uri": "https://localhost:8080/"
        },
        "id": "-N-MtzNfnq41",
        "outputId": "9702a1bb-7315-45ef-cfb6-ab9bf8335f8f"
      },
      "source": [
        "pred = model.predict(X_test)\n",
        "y_new = pred > 0.5\n",
        "y_new = np.reshape(y_new,109)\n",
        "print('Total no. tests: %d, Interviewed predicted: %d, Interviewed GT: %d, matched predictions: %d' %(y_test.shape[0], sum(y_new), sum(y_test), sum(y_test == y_new)))"
      ],
      "execution_count": 59,
      "outputs": [
        {
          "output_type": "stream",
          "text": [
            "Total no. tests: 109, Interviewed predicted: 15, Interviewed GT: 8, matched predictions: 88\n"
          ],
          "name": "stdout"
        }
      ]
    },
    {
      "cell_type": "markdown",
      "metadata": {
        "id": "j-TWNmskmj4e"
      },
      "source": [
        "# Support Vector Machine"
      ]
    },
    {
      "cell_type": "code",
      "metadata": {
        "id": "ce9qjo0nmj4f",
        "colab": {
          "base_uri": "https://localhost:8080/"
        },
        "outputId": "5e135af9-defb-4402-c5d9-7e8518a47e10"
      },
      "source": [
        "#Create a svm Classifier\n",
        "clf = svm.SVC(kernel='rbf',class_weight='balanced') # Linear Kernel\n",
        "\n",
        "#Train the model using the training sets\n",
        "clf.fit(X_train, y_train)\n",
        "\n",
        "#Predict the response for test dataset\n",
        "y_pred = clf.predict(X_test)\n",
        "\n",
        "# Model Accuracy: how often is the classifier correct?\n",
        "print(\"Accuracy:\",round(metrics.accuracy_score(y_test, y_pred) * 100, 2), '%.', \"Recall: \",metrics.recall_score(y_test, y_pred)) "
      ],
      "execution_count": 75,
      "outputs": [
        {
          "output_type": "stream",
          "text": [
            "Accuracy: 73.39 %. TP:  0.5\n"
          ],
          "name": "stdout"
        }
      ]
    },
    {
      "cell_type": "markdown",
      "metadata": {
        "id": "t7I-u1Wnmljq"
      },
      "source": [
        "All predictions are 0's."
      ]
    },
    {
      "cell_type": "code",
      "metadata": {
        "colab": {
          "base_uri": "https://localhost:8080/"
        },
        "id": "5LyNmjVLmiJb",
        "outputId": "ba8d1f10-f418-4af2-f994-615957d25c56"
      },
      "source": [
        "sum(y_pred)"
      ],
      "execution_count": 76,
      "outputs": [
        {
          "output_type": "execute_result",
          "data": {
            "text/plain": [
              "29.0"
            ]
          },
          "metadata": {
            "tags": []
          },
          "execution_count": 76
        }
      ]
    },
    {
      "cell_type": "markdown",
      "metadata": {
        "id": "YAIcNoPpmj4d"
      },
      "source": [
        "# Random Forest"
      ]
    },
    {
      "cell_type": "code",
      "metadata": {
        "id": "qRD-wObrmj4e"
      },
      "source": [
        "\n",
        "\n",
        "# define the model\n",
        "modelForest = RandomForestClassifier()\n",
        "# evaluate the model\n",
        "cv = RepeatedStratifiedKFold(n_splits=10, n_repeats=3, random_state=1)\n",
        "n_scores = cross_val_score(modelForest, X_train, y_train, scoring='accuracy', cv=cv, n_jobs=-1, error_score='raise')\n",
        "# report performance\n",
        "print('Accuracy: %.3f (%.3f)' % (mean(n_scores), std(n_scores)))\n",
        "\n",
        "modelForest.fit(X_train, y_train)\n",
        "\n",
        "y_pred = modelForest.predict(X_test)\n",
        "\n",
        "errors = abs(y_pred - y_test)\n",
        "\n",
        "print('Mean Absolute Error:', round(np.mean(errors), 2), 'degrees.')\n",
        "\n",
        "# Calculate mean absolute percentage error (MAPE)\n",
        "mape = sum(errors) / len(errors) * 100\n",
        "# Calculate and display accuracy\n",
        "accuracy = 100 - np.mean(mape)\n",
        "print('Accuracy:', round(accuracy, 2), '%.')"
      ],
      "execution_count": null,
      "outputs": []
    }
  ]
}